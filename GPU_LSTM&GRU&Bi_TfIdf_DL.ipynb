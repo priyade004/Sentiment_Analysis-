{
  "cells": [
    {
      "cell_type": "code",
      "execution_count": null,
      "metadata": {
        "id": "-dAzmHWbsFKG"
      },
      "outputs": [],
      "source": [
        "import numpy as np\n",
        "import pandas as pd\n",
        "import os\n",
        "import matplotlib.pyplot as plt\n",
        "import seaborn as sns\n",
        "#from google.colab import drive"
      ]
    },
    {
      "cell_type": "markdown",
      "metadata": {
        "id": "JT9nt0d_34EA"
      },
      "source": [
        "**READING THE CSV FILE**"
      ]
    },
    {
      "cell_type": "code",
      "execution_count": null,
      "metadata": {
        "id": "qe8kv6RufewR",
        "colab": {
          "base_uri": "https://localhost:8080/",
          "height": 206
        },
        "outputId": "ed53a44e-7edb-40c1-fd87-90dd6a015259"
      },
      "outputs": [
        {
          "output_type": "execute_result",
          "data": {
            "text/plain": [
              "                                        product_name product_price Rate  \\\n",
              "0  Candes 12 L Room/Personal Air Cooler??????(Whi...          3999    5   \n",
              "1  Candes 12 L Room/Personal Air Cooler??????(Whi...          3999    5   \n",
              "2  Candes 12 L Room/Personal Air Cooler??????(Whi...          3999    3   \n",
              "3  Candes 12 L Room/Personal Air Cooler??????(Whi...          3999    1   \n",
              "4  Candes 12 L Room/Personal Air Cooler??????(Whi...          3999    3   \n",
              "\n",
              "            Review                                            Summary  \\\n",
              "0           super!  great cooler excellent air flow and for this p...   \n",
              "1          awesome              best budget 2 fit cooler nice cooling   \n",
              "2             fair  the quality is good but the power of air is de...   \n",
              "3  useless product                  very bad product its a only a fan   \n",
              "4             fair                                      ok ok product   \n",
              "\n",
              "  Sentiment  \n",
              "0  positive  \n",
              "1  positive  \n",
              "2  positive  \n",
              "3  negative  \n",
              "4   neutral  "
            ],
            "text/html": [
              "<div>\n",
              "<style scoped>\n",
              "    .dataframe tbody tr th:only-of-type {\n",
              "        vertical-align: middle;\n",
              "    }\n",
              "\n",
              "    .dataframe tbody tr th {\n",
              "        vertical-align: top;\n",
              "    }\n",
              "\n",
              "    .dataframe thead th {\n",
              "        text-align: right;\n",
              "    }\n",
              "</style>\n",
              "<table border=\"1\" class=\"dataframe\">\n",
              "  <thead>\n",
              "    <tr style=\"text-align: right;\">\n",
              "      <th></th>\n",
              "      <th>product_name</th>\n",
              "      <th>product_price</th>\n",
              "      <th>Rate</th>\n",
              "      <th>Review</th>\n",
              "      <th>Summary</th>\n",
              "      <th>Sentiment</th>\n",
              "    </tr>\n",
              "  </thead>\n",
              "  <tbody>\n",
              "    <tr>\n",
              "      <th>0</th>\n",
              "      <td>Candes 12 L Room/Personal Air Cooler??????(Whi...</td>\n",
              "      <td>3999</td>\n",
              "      <td>5</td>\n",
              "      <td>super!</td>\n",
              "      <td>great cooler excellent air flow and for this p...</td>\n",
              "      <td>positive</td>\n",
              "    </tr>\n",
              "    <tr>\n",
              "      <th>1</th>\n",
              "      <td>Candes 12 L Room/Personal Air Cooler??????(Whi...</td>\n",
              "      <td>3999</td>\n",
              "      <td>5</td>\n",
              "      <td>awesome</td>\n",
              "      <td>best budget 2 fit cooler nice cooling</td>\n",
              "      <td>positive</td>\n",
              "    </tr>\n",
              "    <tr>\n",
              "      <th>2</th>\n",
              "      <td>Candes 12 L Room/Personal Air Cooler??????(Whi...</td>\n",
              "      <td>3999</td>\n",
              "      <td>3</td>\n",
              "      <td>fair</td>\n",
              "      <td>the quality is good but the power of air is de...</td>\n",
              "      <td>positive</td>\n",
              "    </tr>\n",
              "    <tr>\n",
              "      <th>3</th>\n",
              "      <td>Candes 12 L Room/Personal Air Cooler??????(Whi...</td>\n",
              "      <td>3999</td>\n",
              "      <td>1</td>\n",
              "      <td>useless product</td>\n",
              "      <td>very bad product its a only a fan</td>\n",
              "      <td>negative</td>\n",
              "    </tr>\n",
              "    <tr>\n",
              "      <th>4</th>\n",
              "      <td>Candes 12 L Room/Personal Air Cooler??????(Whi...</td>\n",
              "      <td>3999</td>\n",
              "      <td>3</td>\n",
              "      <td>fair</td>\n",
              "      <td>ok ok product</td>\n",
              "      <td>neutral</td>\n",
              "    </tr>\n",
              "  </tbody>\n",
              "</table>\n",
              "</div>"
            ]
          },
          "metadata": {},
          "execution_count": 2
        }
      ],
      "source": [
        "df = pd.read_csv(\"C:/Users/priya/Desktop/Priya/Dataset-SA.csv\")\n",
        "#df = pd.read_csv(\"/content/Dataset-SA.csv\")\n",
        "df.head()"
      ]
    },
    {
      "cell_type": "code",
      "execution_count": null,
      "metadata": {
        "id": "UPBYMhvE9lG7",
        "colab": {
          "base_uri": "https://localhost:8080/"
        },
        "outputId": "d80d43a6-5a09-4a85-f82d-25ebe468692b"
      },
      "outputs": [
        {
          "output_type": "stream",
          "name": "stderr",
          "text": [
            "[nltk_data] Downloading package stopwords to\n",
            "[nltk_data]     C:\\Users\\priya\\AppData\\Roaming\\nltk_data...\n",
            "[nltk_data]   Package stopwords is already up-to-date!\n"
          ]
        },
        {
          "output_type": "execute_result",
          "data": {
            "text/plain": [
              "True"
            ]
          },
          "metadata": {},
          "execution_count": 3
        }
      ],
      "source": [
        "import nltk\n",
        "nltk.download('stopwords')"
      ]
    },
    {
      "cell_type": "code",
      "execution_count": null,
      "metadata": {
        "id": "XgXDOdPg9TaL",
        "colab": {
          "base_uri": "https://localhost:8080/"
        },
        "outputId": "c7bc650d-0e07-4274-fe97-60b97ca8abbc"
      },
      "outputs": [
        {
          "output_type": "stream",
          "name": "stderr",
          "text": [
            "[nltk_data] Downloading package punkt to\n",
            "[nltk_data]     C:\\Users\\priya\\AppData\\Roaming\\nltk_data...\n",
            "[nltk_data]   Package punkt is already up-to-date!\n"
          ]
        },
        {
          "output_type": "execute_result",
          "data": {
            "text/plain": [
              "True"
            ]
          },
          "metadata": {},
          "execution_count": 4
        }
      ],
      "source": [
        "import re\n",
        "from nltk.tokenize import word_tokenize\n",
        "from nltk.stem import PorterStemmer\n",
        "from nltk.corpus import stopwords\n",
        "stop_words = set(stopwords.words('english'))\n",
        "from wordcloud import WordCloud\n",
        "from sklearn.feature_extraction.text import CountVectorizer\n",
        "from sklearn.model_selection import train_test_split\n",
        "import warnings\n",
        "warnings.filterwarnings('ignore')\n",
        "import nltk\n",
        "nltk.download('punkt')"
      ]
    },
    {
      "cell_type": "markdown",
      "metadata": {
        "id": "c0GRQhIG4KuY"
      },
      "source": [
        "**REMOVING THE COLUMNS CONTAINING IRRELEVANT VALUES**"
      ]
    },
    {
      "cell_type": "code",
      "execution_count": null,
      "metadata": {
        "id": "F1kdb2tI9vaP"
      },
      "outputs": [],
      "source": [
        "\n",
        "df.drop(['product_name', 'product_price', 'Rate', 'Review'], axis=1, inplace=True)"
      ]
    },
    {
      "cell_type": "code",
      "execution_count": null,
      "metadata": {
        "id": "AtgQbins4Z32",
        "colab": {
          "base_uri": "https://localhost:8080/"
        },
        "outputId": "3c0a8155-ce9b-41d6-9f7a-a845f88a4237"
      },
      "outputs": [
        {
          "output_type": "execute_result",
          "data": {
            "text/plain": [
              "dtype('O')"
            ]
          },
          "metadata": {},
          "execution_count": 6
        }
      ],
      "source": [
        "df['Summary'].dtype"
      ]
    },
    {
      "cell_type": "code",
      "source": [
        "#!pip install textblob"
      ],
      "metadata": {
        "id": "56AaByd41gVX"
      },
      "execution_count": null,
      "outputs": []
    },
    {
      "cell_type": "code",
      "execution_count": null,
      "metadata": {
        "id": "_ioJ0fJ3WP1C",
        "colab": {
          "base_uri": "https://localhost:8080/"
        },
        "outputId": "9cfa45c4-f321-445b-90f1-8af12e362d4e"
      },
      "outputs": [
        {
          "output_type": "stream",
          "name": "stderr",
          "text": [
            "[nltk_data] Downloading package stopwords to\n",
            "[nltk_data]     C:\\Users\\priya\\AppData\\Roaming\\nltk_data...\n",
            "[nltk_data]   Package stopwords is already up-to-date!\n"
          ]
        }
      ],
      "source": [
        "import numpy as np\n",
        "import pandas as pd\n",
        "import seaborn as sns\n",
        "import matplotlib.pyplot as plt\n",
        "import nltk\n",
        "nltk.download('stopwords')\n",
        "from sklearn.feature_extraction.text import CountVectorizer\n",
        "from sklearn.feature_extraction.text import TfidfVectorizer\n",
        "from sklearn.model_selection import train_test_split\n",
        "from sklearn import svm\n",
        "from nltk.corpus import stopwords\n",
        "from nltk.stem.porter import PorterStemmer\n",
        "from wordcloud import WordCloud,STOPWORDS\n",
        "from nltk.stem import WordNetLemmatizer\n",
        "from nltk.tokenize import word_tokenize,sent_tokenize\n",
        "from bs4 import BeautifulSoup\n",
        "import spacy\n",
        "import re,string,unicodedata\n",
        "from nltk.tokenize.toktok import ToktokTokenizer\n",
        "from nltk.stem import LancasterStemmer,WordNetLemmatizer\n",
        "from sklearn.svm import SVC\n",
        "from sklearn.linear_model import LogisticRegression\n",
        "from sklearn.naive_bayes import GaussianNB,MultinomialNB\n",
        "from sklearn.ensemble import RandomForestClassifier\n",
        "from textblob import TextBlob\n",
        "from textblob import Word\n",
        "from sklearn import metrics\n",
        "from sklearn.metrics import classification_report,confusion_matrix,accuracy_score\n",
        "import nltk\n",
        "from nltk.tokenize import word_tokenize\n",
        "from nltk import word_tokenize\n",
        "from nltk.tokenize import sent_tokenize\n",
        "from nltk.corpus import stopwords\n",
        "\n",
        "import os"
      ]
    },
    {
      "cell_type": "code",
      "execution_count": null,
      "metadata": {
        "id": "YNykKvMU-RHP",
        "colab": {
          "base_uri": "https://localhost:8080/"
        },
        "outputId": "8dd4d811-68ab-4938-eca2-f2c41403574b"
      },
      "outputs": [
        {
          "output_type": "execute_result",
          "data": {
            "text/plain": [
              "Sentiment\n",
              "positive    166581\n",
              "negative     28232\n",
              "neutral      10239\n",
              "Name: count, dtype: int64"
            ]
          },
          "metadata": {},
          "execution_count": 9
        }
      ],
      "source": [
        "#sentiment count\n",
        "df['Sentiment'].value_counts()"
      ]
    },
    {
      "cell_type": "markdown",
      "metadata": {
        "id": "egv6nElN3wO4"
      },
      "source": [
        "**DATA PREPROCESSING**"
      ]
    },
    {
      "cell_type": "code",
      "source": [
        "\n",
        "Summary=df['Summary']"
      ],
      "metadata": {
        "id": "jTyEzjmy2Esy"
      },
      "execution_count": null,
      "outputs": []
    },
    {
      "cell_type": "code",
      "execution_count": null,
      "metadata": {
        "id": "0FUGCFMuZyhe",
        "colab": {
          "base_uri": "https://localhost:8080/"
        },
        "outputId": "c027d231-af97-4d82-933d-cab2d269659e"
      },
      "outputs": [
        {
          "output_type": "execute_result",
          "data": {
            "text/plain": [
              "'best budget fit cooler nice cooling'"
            ]
          },
          "metadata": {},
          "execution_count": 11
        }
      ],
      "source": [
        "## cleaning the Summary\n",
        "def cleantext(summary):\n",
        "    if not isinstance(summary, str):\n",
        "        summary = str(summary)\n",
        "    # ... rest of the function\n",
        "    # removing the \"\\\"\n",
        "    summary = re.sub(\"'\\''\",\"\",summary)\n",
        "    # removing special symbols\n",
        "    summary = re.sub(r\"https\\S+|www\\S+https\\S+\", '',summary, flags=re.MULTILINE)\n",
        "    summary = re.sub(\"[^a-zA-Z]\",\" \",summary)\n",
        "    # removing the whitespaces\n",
        "    summary = ' '.join(summary.split())\n",
        "    # convert text to lowercase\n",
        "    summary = summary.lower()\n",
        "    return summary\n",
        "\n",
        "df['Summary'] = df['Summary'].apply(lambda x:cleantext(x))\n",
        "df['Summary'].iloc[1]"
      ]
    },
    {
      "cell_type": "code",
      "execution_count": null,
      "metadata": {
        "id": "NUuoxFABlMpw",
        "colab": {
          "base_uri": "https://localhost:8080/"
        },
        "outputId": "333fa28c-9c61-4fab-d8a7-198f9cf930f3"
      },
      "outputs": [
        {
          "output_type": "stream",
          "name": "stdout",
          "text": [
            "0    great cooler excellent air flow and for this p...\n",
            "1                best budget 2 fit cooler nice cooling\n",
            "2    the quality is good but the power of air is de...\n",
            "3                    very bad product its a only a fan\n",
            "4                                        ok ok product\n",
            "Name: Summary, dtype: object\n"
          ]
        }
      ],
      "source": [
        "print(Summary.head())"
      ]
    },
    {
      "cell_type": "markdown",
      "metadata": {
        "id": "Hnl2hXcYacB7"
      },
      "source": [
        "**Labeling**"
      ]
    },
    {
      "cell_type": "code",
      "execution_count": null,
      "metadata": {
        "id": "mhqStlpQagtO"
      },
      "outputs": [],
      "source": [
        "from sklearn.preprocessing import LabelEncoder\n",
        "\n",
        "# Create a LabelEncoder object\n",
        "encoder = LabelEncoder()\n",
        "\n",
        "# Apply label encoding to the 'Sentiment' column and create a new column 'sentiment_encoded'\n",
        "df['sentiment_encoded'] = encoder.fit_transform(df['Sentiment'])\n",
        "\n",
        "x = df['Summary']\n",
        "sentnces = [Summary.split() for Summary in x]"
      ]
    },
    {
      "cell_type": "markdown",
      "metadata": {
        "id": "TNdh1F_f4_AO"
      },
      "source": [
        "**count plot for postive, negtive and neutral sentiments**"
      ]
    },
    {
      "cell_type": "code",
      "execution_count": null,
      "metadata": {
        "id": "6PaLr5GYKOzq"
      },
      "outputs": [],
      "source": [
        "X = df['Summary']\n",
        "Y = df['sentiment_encoded']"
      ]
    },
    {
      "cell_type": "code",
      "execution_count": null,
      "metadata": {
        "id": "oqAQE95s2uQM",
        "colab": {
          "base_uri": "https://localhost:8080/"
        },
        "outputId": "e483dd07-6d65-4c32-f23a-66bf145202a3"
      },
      "outputs": [
        {
          "output_type": "stream",
          "name": "stdout",
          "text": [
            "0    great cooler excellent air flow and for this p...\n",
            "1                  best budget fit cooler nice cooling\n",
            "2    the quality is good but the power of air is de...\n",
            "3                    very bad product its a only a fan\n",
            "4                                        ok ok product\n",
            "Name: Summary, dtype: object\n"
          ]
        }
      ],
      "source": [
        "print(X.head())"
      ]
    },
    {
      "cell_type": "code",
      "execution_count": null,
      "metadata": {
        "id": "6SRRS-J12wDf",
        "colab": {
          "base_uri": "https://localhost:8080/"
        },
        "outputId": "8204cc49-181e-4c4d-e23c-7ba70d1b0c5e"
      },
      "outputs": [
        {
          "output_type": "stream",
          "name": "stdout",
          "text": [
            "0    2\n",
            "1    2\n",
            "2    2\n",
            "3    0\n",
            "4    1\n",
            "Name: sentiment_encoded, dtype: int32\n"
          ]
        }
      ],
      "source": [
        "print(Y.head())"
      ]
    },
    {
      "cell_type": "markdown",
      "metadata": {
        "id": "pceZr_wa2CYP"
      },
      "source": [
        "**TD-IDF feature extraction**"
      ]
    },
    {
      "cell_type": "code",
      "execution_count": null,
      "metadata": {
        "id": "NbJ8u2ypX39z"
      },
      "outputs": [],
      "source": [
        "from sklearn.feature_extraction.text import TfidfVectorizer #import TfidfVectorizer"
      ]
    },
    {
      "cell_type": "markdown",
      "metadata": {
        "id": "N_U4TBHi_apM"
      },
      "source": [
        "**Sparse saving in a path**"
      ]
    },
    {
      "cell_type": "code",
      "execution_count": null,
      "metadata": {
        "id": "KSWdAHbe-_nk"
      },
      "outputs": [],
      "source": [
        "#from scipy import sparse\n",
        "#sparse.save_npz('C:/Users/GPU_CA/Downloads/Priya/tfidf.npz (2).txt',result)"
      ]
    },
    {
      "cell_type": "code",
      "execution_count": null,
      "metadata": {
        "id": "qCrQEgwQP20u"
      },
      "outputs": [],
      "source": [
        "import scipy.sparse as sp\n",
        "#File path where tfidf file is saved\n",
        "path_npz='C:/Users/priya/Desktop/Priya/tfidf.npz'\n",
        "\n",
        "#Load the Tf-idf sparse matrix from NPZ file\n",
        "x=sp.load_npz(path_npz)"
      ]
    },
    {
      "cell_type": "code",
      "execution_count": null,
      "metadata": {
        "id": "Cba3MW4NRWOG",
        "colab": {
          "base_uri": "https://localhost:8080/"
        },
        "outputId": "a0cad21c-03f3-41f6-bc17-37b830fa1c84"
      },
      "outputs": [
        {
          "output_type": "execute_result",
          "data": {
            "text/plain": [
              "(205052, 42370)"
            ]
          },
          "metadata": {},
          "execution_count": 20
        }
      ],
      "source": [
        "x.shape"
      ]
    },
    {
      "cell_type": "markdown",
      "metadata": {
        "id": "aNWO0BEBgTTt"
      },
      "source": [
        "**Spliting**"
      ]
    },
    {
      "cell_type": "code",
      "execution_count": null,
      "metadata": {
        "id": "8bkTWFokgSn9"
      },
      "outputs": [],
      "source": [
        "from sklearn.model_selection import train_test_split\n",
        "X_train ,X_test ,y_train, y_test =train_test_split(x,Y,test_size =0.4, random_state=42)\n",
        "X_val ,X_test1 ,y_val, y_test1 = train_test_split(X_test, y_test, test_size=0.5, random_state=42)\n"
      ]
    },
    {
      "cell_type": "code",
      "source": [
        "X_train.shape"
      ],
      "metadata": {
        "colab": {
          "base_uri": "https://localhost:8080/"
        },
        "id": "fn6cVDiW4tso",
        "outputId": "baffe7b1-58fc-47d5-f674-5fe0cf438989"
      },
      "execution_count": null,
      "outputs": [
        {
          "output_type": "execute_result",
          "data": {
            "text/plain": [
              "(123031, 42370)"
            ]
          },
          "metadata": {},
          "execution_count": 22
        }
      ]
    },
    {
      "cell_type": "markdown",
      "source": [
        "**Undersampling using ENN**"
      ],
      "metadata": {
        "id": "H8Sb8DFoqFpd"
      }
    },
    {
      "cell_type": "code",
      "source": [
        "# Apply Near Miss undersampling\n",
        "from imblearn.under_sampling import NearMiss\n",
        "nm = NearMiss(version=1,n_neighbors=3)\n",
        "X_train_re,y_train_re = nm.fit_resample(X_train,y_train)"
      ],
      "metadata": {
        "id": "Pud9li5suZkY"
      },
      "execution_count": null,
      "outputs": []
    },
    {
      "cell_type": "code",
      "source": [
        "X_test_re,y_test_re = nm.fit_resample(X_test,y_test)\n",
        "X_val_re,y_val_re = nm.fit_resample(X_val,y_val)\n",
        "X_test1_re,y_test1_re = nm.fit_resample(X_test1,y_test1)"
      ],
      "metadata": {
        "id": "upb6YTwn4jS4"
      },
      "execution_count": null,
      "outputs": []
    },
    {
      "cell_type": "code",
      "source": [
        "print(y_train_re.value_counts())"
      ],
      "metadata": {
        "id": "V-hobYIs5t5X",
        "colab": {
          "base_uri": "https://localhost:8080/"
        },
        "outputId": "4670bab0-a7d1-4b7b-e239-2f30bfd0b34f"
      },
      "execution_count": null,
      "outputs": [
        {
          "output_type": "stream",
          "name": "stdout",
          "text": [
            "sentiment_encoded\n",
            "0    6116\n",
            "1    6116\n",
            "2    6116\n",
            "Name: count, dtype: int64\n"
          ]
        }
      ]
    },
    {
      "cell_type": "code",
      "source": [
        "print(X_train_re.shape)\n",
        "print(y_train_re.shape)"
      ],
      "metadata": {
        "colab": {
          "base_uri": "https://localhost:8080/"
        },
        "id": "UhY6pHwZzTM8",
        "outputId": "03a8dfd2-d714-476e-ed2b-58ec3dca1874"
      },
      "execution_count": null,
      "outputs": [
        {
          "output_type": "stream",
          "name": "stdout",
          "text": [
            "(18348, 42370)\n",
            "(18348,)\n"
          ]
        }
      ]
    },
    {
      "cell_type": "code",
      "source": [
        "X_train_re = X_train_re.toarray()\n",
        "X_test_re = X_test_re.toarray()\n",
        "X_val_re = X_val_re.toarray()\n",
        "X_test1_re =X_test1_re.toarray()"
      ],
      "metadata": {
        "id": "cQ5Da-3H67e_"
      },
      "execution_count": null,
      "outputs": []
    },
    {
      "cell_type": "code",
      "source": [
        "X_train_re.shape\n"
      ],
      "metadata": {
        "id": "K89ZZJNa7hu-",
        "colab": {
          "base_uri": "https://localhost:8080/"
        },
        "outputId": "7c708287-f6d3-4013-d1ff-49fdf4185878"
      },
      "execution_count": null,
      "outputs": [
        {
          "output_type": "execute_result",
          "data": {
            "text/plain": [
              "(18348, 42370)"
            ]
          },
          "metadata": {},
          "execution_count": 28
        }
      ]
    },
    {
      "cell_type": "code",
      "source": [
        "X_test_re.shape"
      ],
      "metadata": {
        "id": "h8iM9M3j7q7X",
        "colab": {
          "base_uri": "https://localhost:8080/"
        },
        "outputId": "10764744-efa0-4cd9-9eeb-c22ea70ff602"
      },
      "execution_count": null,
      "outputs": [
        {
          "output_type": "execute_result",
          "data": {
            "text/plain": [
              "(12369, 42370)"
            ]
          },
          "metadata": {},
          "execution_count": 29
        }
      ]
    },
    {
      "cell_type": "code",
      "source": [
        "X_val_re.shape"
      ],
      "metadata": {
        "id": "DEbxVH_Y7s62",
        "colab": {
          "base_uri": "https://localhost:8080/"
        },
        "outputId": "5a2b54fa-f82f-46ca-d639-896c3921414b"
      },
      "execution_count": null,
      "outputs": [
        {
          "output_type": "execute_result",
          "data": {
            "text/plain": [
              "(6261, 42370)"
            ]
          },
          "metadata": {},
          "execution_count": 30
        }
      ]
    },
    {
      "cell_type": "code",
      "source": [
        "X_test1_re.shape"
      ],
      "metadata": {
        "id": "X7aQojoR7uyX",
        "colab": {
          "base_uri": "https://localhost:8080/"
        },
        "outputId": "9db5c5d5-7c34-4627-82e8-3c7e9dcf1b80"
      },
      "execution_count": null,
      "outputs": [
        {
          "output_type": "execute_result",
          "data": {
            "text/plain": [
              "(6108, 42370)"
            ]
          },
          "metadata": {},
          "execution_count": 31
        }
      ]
    },
    {
      "cell_type": "markdown",
      "metadata": {
        "id": "gmfHP1i6hVF0"
      },
      "source": [
        "**Reshaping**"
      ]
    },
    {
      "cell_type": "code",
      "execution_count": null,
      "metadata": {
        "id": "GAfcK1gHSd3e"
      },
      "outputs": [],
      "source": [
        "X_train_re = X_train_re.reshape((X_train_re.shape[0], 1, X_train_re.shape[1]))\n",
        "X_test1_re = X_test1_re.reshape((X_test1_re.shape[0], 1, X_test1_re.shape[1]))\n",
        "X_val_re = X_val_re.reshape((X_val_re.shape[0], 1, X_val_re.shape[1]))"
      ]
    },
    {
      "cell_type": "code",
      "source": [
        "print(X_train_re.shape)\n",
        "print(X_test1_re.shape)\n",
        "print(X_val_re.shape)"
      ],
      "metadata": {
        "id": "9ZrY7lKX8e4W",
        "colab": {
          "base_uri": "https://localhost:8080/"
        },
        "outputId": "8708ee94-3605-4646-d01f-bd33bfd1216a"
      },
      "execution_count": null,
      "outputs": [
        {
          "output_type": "stream",
          "name": "stdout",
          "text": [
            "(18348, 1, 42370)\n",
            "(6108, 1, 42370)\n",
            "(6261, 1, 42370)\n"
          ]
        }
      ]
    },
    {
      "cell_type": "code",
      "source": [
        "print(X_train_re.shape[0])\n",
        "print(X_train_re.shape[1])\n",
        "print(X_train_re.shape[2])"
      ],
      "metadata": {
        "id": "_e-_Hg-E1FiN",
        "colab": {
          "base_uri": "https://localhost:8080/"
        },
        "outputId": "00dbb214-7777-4404-e90f-33e3bfa45ddf"
      },
      "execution_count": null,
      "outputs": [
        {
          "output_type": "stream",
          "name": "stdout",
          "text": [
            "18348\n",
            "1\n",
            "42370\n"
          ]
        }
      ]
    },
    {
      "cell_type": "code",
      "execution_count": null,
      "metadata": {
        "id": "7oPiste4kbeJ"
      },
      "outputs": [],
      "source": [
        "import keras.utils\n",
        "y_train = keras.utils.to_categorical(y_train_re)\n",
        "y_test1= keras.utils.to_categorical(y_test1_re)\n",
        "y_val =keras.utils.to_categorical(y_val_re)"
      ]
    },
    {
      "cell_type": "code",
      "execution_count": null,
      "metadata": {
        "id": "bpK9H76WlbyB",
        "colab": {
          "base_uri": "https://localhost:8080/"
        },
        "outputId": "3f7b54cf-4e3e-42be-d539-533836b879ad"
      },
      "outputs": [
        {
          "output_type": "stream",
          "name": "stdout",
          "text": [
            "(18348, 3)\n",
            "(6108, 3)\n",
            "(6261, 3)\n"
          ]
        }
      ],
      "source": [
        "print(y_train.shape)\n",
        "print(y_test1.shape)\n",
        "print(y_val.shape)"
      ]
    },
    {
      "cell_type": "code",
      "execution_count": null,
      "metadata": {
        "id": "EKLt33mglrAp"
      },
      "outputs": [],
      "source": [
        "#from keras.layers.rnn import LSTMV1\n",
        "import tensorflow as tf\n",
        "from tensorflow.keras.layers import LSTM, GRU, SimpleRNN, Bidirectional\n",
        "from tensorflow.keras.layers import Dense\n",
        "from keras.models import Sequential, Model\n",
        "#from keras.utils import plot_model\n",
        "from keras.layers import Input, Dense, Dropout\n",
        "from keras.layers import Dense, Activation, Flatten, Convolution1D, Dropout,MaxPooling1D\n",
        "from tensorflow.keras.layers import BatchNormalization\n",
        "from tensorflow.keras.layers import Concatenate\n",
        "from tensorflow.keras import regularizers\n",
        "\n",
        "output_dim = 3\n",
        "batch_size = 32\n",
        "nb_epoch = 198"
      ]
    },
    {
      "cell_type": "code",
      "source": [
        "from tensorflow.keras.metrics import CategoricalAccuracy, Recall, Precision, AUC"
      ],
      "metadata": {
        "id": "Ho2duTHLOYyC"
      },
      "execution_count": null,
      "outputs": []
    },
    {
      "cell_type": "markdown",
      "source": [
        "**model**"
      ],
      "metadata": {
        "id": "IJY7qhsxFj7B"
      }
    },
    {
      "cell_type": "code",
      "source": [
        "\n",
        "# Model with Attention Layer\n",
        "def create_model():\n",
        "    # input layer of model for brain signals\n",
        "    inputs = tf.keras.Input(shape=(X_train_re.shape[1], X_train_re.shape[2]))\n",
        "    #inputs = tf.keras.Input(shape=(1,42370))\n",
        "\n",
        "    gru1_1 = GRU(2048, return_sequences=True)(inputs)\n",
        "    gru1_2 = GRU(1024, return_sequences=True)(gru1_1)\n",
        "    gru1_3 = GRU(512, return_sequences=True)(gru1_2)\n",
        "    #concat = Concatenate()([gru1_3, gru2_3, gru3_3])\n",
        "\n",
        "    # Apply Attention Layer\n",
        "    #attention_output = AttentionLayer()(gru1_2)\n",
        "\n",
        "\n",
        "    # Concatenate Attention Output and Concat\n",
        "    #attention_concat = Concatenate()([concat, attention_output])\n",
        "\n",
        "    #flatten = Flatten()(gru1_)\n",
        "\n",
        "    rnn1 = SimpleRNN(128)(gru1_3)\n",
        "\n",
        "    #rnn4 = SimpleRNN(32, return_sequences= True)(rnn1)\n",
        "\n",
        "    output1 = Dense(32, activation='relu')(rnn1)\n",
        "\n",
        "    outputs = Dense(3, activation='softmax')(output1)\n",
        "\n",
        "    model = Model(inputs=inputs, outputs=outputs)\n",
        "    print(model.summary())\n",
        "    return model"
      ],
      "metadata": {
        "id": "4SZfsS5RFnKi"
      },
      "execution_count": null,
      "outputs": []
    },
    {
      "cell_type": "code",
      "source": [
        "#cretaing model\n",
        "rnnmodel = create_model()\n",
        "#Compiling model\n",
        "rnnmodel.compile(loss=tf.keras.losses.CategoricalCrossentropy(),\n",
        "                  optimizer=tf.keras.optimizers.Adam(learning_rate=0.01),\n",
        "                  metrics=[tf.keras.metrics.CategoricalAccuracy(name='accuracy', dtype=None),\n",
        "                  tf.keras.metrics.Recall(name='Recall'),\n",
        "                  tf.keras.metrics.Precision(name='Precision'),\n",
        "                  tf.keras.metrics.AUC( num_thresholds=200,\n",
        "                                        curve=\"ROC\",\n",
        "                                        summation_method=\"interpolation\",\n",
        "                                        name=\"AUC\",\n",
        "                                        dtype=None,\n",
        "                                        thresholds=None,\n",
        "                                        multi_label=True,\n",
        "                                       label_weights=None,)])"
      ],
      "metadata": {
        "colab": {
          "base_uri": "https://localhost:8080/",
          "height": 391
        },
        "id": "iEcDxUK20TKC",
        "outputId": "421b34de-2b75-4e51-f411-df4a57d4846b"
      },
      "execution_count": null,
      "outputs": [
        {
          "output_type": "display_data",
          "data": {
            "text/plain": [
              "\u001b[1mModel: \"functional_5\"\u001b[0m\n"
            ],
            "text/html": [
              "<pre style=\"white-space:pre;overflow-x:auto;line-height:normal;font-family:Menlo,'DejaVu Sans Mono',consolas,'Courier New',monospace\"><span style=\"font-weight: bold\">Model: \"functional_5\"</span>\n",
              "</pre>\n"
            ]
          },
          "metadata": {}
        },
        {
          "output_type": "display_data",
          "data": {
            "text/plain": [
              "┏━━━━━━━━━━━━━━━━━━━━━━━━━━━━━━━━━━━━━━┳━━━━━━━━━━━━━━━━━━━━━━━━━━━━━┳━━━━━━━━━━━━━━━━━┓\n",
              "┃\u001b[1m \u001b[0m\u001b[1mLayer (type)                        \u001b[0m\u001b[1m \u001b[0m┃\u001b[1m \u001b[0m\u001b[1mOutput Shape               \u001b[0m\u001b[1m \u001b[0m┃\u001b[1m \u001b[0m\u001b[1m        Param #\u001b[0m\u001b[1m \u001b[0m┃\n",
              "┡━━━━━━━━━━━━━━━━━━━━━━━━━━━━━━━━━━━━━━╇━━━━━━━━━━━━━━━━━━━━━━━━━━━━━╇━━━━━━━━━━━━━━━━━┩\n",
              "│ input_layer_5 (\u001b[38;5;33mInputLayer\u001b[0m)           │ (\u001b[38;5;45mNone\u001b[0m, \u001b[38;5;34m1\u001b[0m, \u001b[38;5;34m42370\u001b[0m)            │               \u001b[38;5;34m0\u001b[0m │\n",
              "├──────────────────────────────────────┼─────────────────────────────┼─────────────────┤\n",
              "│ gru_15 (\u001b[38;5;33mGRU\u001b[0m)                         │ (\u001b[38;5;45mNone\u001b[0m, \u001b[38;5;34m1\u001b[0m, \u001b[38;5;34m2048\u001b[0m)             │     \u001b[38;5;34m272,916,480\u001b[0m │\n",
              "├──────────────────────────────────────┼─────────────────────────────┼─────────────────┤\n",
              "│ gru_16 (\u001b[38;5;33mGRU\u001b[0m)                         │ (\u001b[38;5;45mNone\u001b[0m, \u001b[38;5;34m1\u001b[0m, \u001b[38;5;34m1024\u001b[0m)             │       \u001b[38;5;34m9,443,328\u001b[0m │\n",
              "├──────────────────────────────────────┼─────────────────────────────┼─────────────────┤\n",
              "│ gru_17 (\u001b[38;5;33mGRU\u001b[0m)                         │ (\u001b[38;5;45mNone\u001b[0m, \u001b[38;5;34m1\u001b[0m, \u001b[38;5;34m512\u001b[0m)              │       \u001b[38;5;34m2,362,368\u001b[0m │\n",
              "├──────────────────────────────────────┼─────────────────────────────┼─────────────────┤\n",
              "│ simple_rnn_7 (\u001b[38;5;33mSimpleRNN\u001b[0m)             │ (\u001b[38;5;45mNone\u001b[0m, \u001b[38;5;34m128\u001b[0m)                 │          \u001b[38;5;34m82,048\u001b[0m │\n",
              "├──────────────────────────────────────┼─────────────────────────────┼─────────────────┤\n",
              "│ dense_5 (\u001b[38;5;33mDense\u001b[0m)                      │ (\u001b[38;5;45mNone\u001b[0m, \u001b[38;5;34m32\u001b[0m)                  │           \u001b[38;5;34m4,128\u001b[0m │\n",
              "├──────────────────────────────────────┼─────────────────────────────┼─────────────────┤\n",
              "│ dense_6 (\u001b[38;5;33mDense\u001b[0m)                      │ (\u001b[38;5;45mNone\u001b[0m, \u001b[38;5;34m3\u001b[0m)                   │              \u001b[38;5;34m99\u001b[0m │\n",
              "└──────────────────────────────────────┴─────────────────────────────┴─────────────────┘\n"
            ],
            "text/html": [
              "<pre style=\"white-space:pre;overflow-x:auto;line-height:normal;font-family:Menlo,'DejaVu Sans Mono',consolas,'Courier New',monospace\">┏━━━━━━━━━━━━━━━━━━━━━━━━━━━━━━━━━━━━━━┳━━━━━━━━━━━━━━━━━━━━━━━━━━━━━┳━━━━━━━━━━━━━━━━━┓\n",
              "┃<span style=\"font-weight: bold\"> Layer (type)                         </span>┃<span style=\"font-weight: bold\"> Output Shape                </span>┃<span style=\"font-weight: bold\">         Param # </span>┃\n",
              "┡━━━━━━━━━━━━━━━━━━━━━━━━━━━━━━━━━━━━━━╇━━━━━━━━━━━━━━━━━━━━━━━━━━━━━╇━━━━━━━━━━━━━━━━━┩\n",
              "│ input_layer_5 (<span style=\"color: #0087ff; text-decoration-color: #0087ff\">InputLayer</span>)           │ (<span style=\"color: #00d7ff; text-decoration-color: #00d7ff\">None</span>, <span style=\"color: #00af00; text-decoration-color: #00af00\">1</span>, <span style=\"color: #00af00; text-decoration-color: #00af00\">42370</span>)            │               <span style=\"color: #00af00; text-decoration-color: #00af00\">0</span> │\n",
              "├──────────────────────────────────────┼─────────────────────────────┼─────────────────┤\n",
              "│ gru_15 (<span style=\"color: #0087ff; text-decoration-color: #0087ff\">GRU</span>)                         │ (<span style=\"color: #00d7ff; text-decoration-color: #00d7ff\">None</span>, <span style=\"color: #00af00; text-decoration-color: #00af00\">1</span>, <span style=\"color: #00af00; text-decoration-color: #00af00\">2048</span>)             │     <span style=\"color: #00af00; text-decoration-color: #00af00\">272,916,480</span> │\n",
              "├──────────────────────────────────────┼─────────────────────────────┼─────────────────┤\n",
              "│ gru_16 (<span style=\"color: #0087ff; text-decoration-color: #0087ff\">GRU</span>)                         │ (<span style=\"color: #00d7ff; text-decoration-color: #00d7ff\">None</span>, <span style=\"color: #00af00; text-decoration-color: #00af00\">1</span>, <span style=\"color: #00af00; text-decoration-color: #00af00\">1024</span>)             │       <span style=\"color: #00af00; text-decoration-color: #00af00\">9,443,328</span> │\n",
              "├──────────────────────────────────────┼─────────────────────────────┼─────────────────┤\n",
              "│ gru_17 (<span style=\"color: #0087ff; text-decoration-color: #0087ff\">GRU</span>)                         │ (<span style=\"color: #00d7ff; text-decoration-color: #00d7ff\">None</span>, <span style=\"color: #00af00; text-decoration-color: #00af00\">1</span>, <span style=\"color: #00af00; text-decoration-color: #00af00\">512</span>)              │       <span style=\"color: #00af00; text-decoration-color: #00af00\">2,362,368</span> │\n",
              "├──────────────────────────────────────┼─────────────────────────────┼─────────────────┤\n",
              "│ simple_rnn_7 (<span style=\"color: #0087ff; text-decoration-color: #0087ff\">SimpleRNN</span>)             │ (<span style=\"color: #00d7ff; text-decoration-color: #00d7ff\">None</span>, <span style=\"color: #00af00; text-decoration-color: #00af00\">128</span>)                 │          <span style=\"color: #00af00; text-decoration-color: #00af00\">82,048</span> │\n",
              "├──────────────────────────────────────┼─────────────────────────────┼─────────────────┤\n",
              "│ dense_5 (<span style=\"color: #0087ff; text-decoration-color: #0087ff\">Dense</span>)                      │ (<span style=\"color: #00d7ff; text-decoration-color: #00d7ff\">None</span>, <span style=\"color: #00af00; text-decoration-color: #00af00\">32</span>)                  │           <span style=\"color: #00af00; text-decoration-color: #00af00\">4,128</span> │\n",
              "├──────────────────────────────────────┼─────────────────────────────┼─────────────────┤\n",
              "│ dense_6 (<span style=\"color: #0087ff; text-decoration-color: #0087ff\">Dense</span>)                      │ (<span style=\"color: #00d7ff; text-decoration-color: #00d7ff\">None</span>, <span style=\"color: #00af00; text-decoration-color: #00af00\">3</span>)                   │              <span style=\"color: #00af00; text-decoration-color: #00af00\">99</span> │\n",
              "└──────────────────────────────────────┴─────────────────────────────┴─────────────────┘\n",
              "</pre>\n"
            ]
          },
          "metadata": {}
        },
        {
          "output_type": "display_data",
          "data": {
            "text/plain": [
              "\u001b[1m Total params: \u001b[0m\u001b[38;5;34m284,808,451\u001b[0m (1.06 GB)\n"
            ],
            "text/html": [
              "<pre style=\"white-space:pre;overflow-x:auto;line-height:normal;font-family:Menlo,'DejaVu Sans Mono',consolas,'Courier New',monospace\"><span style=\"font-weight: bold\"> Total params: </span><span style=\"color: #00af00; text-decoration-color: #00af00\">284,808,451</span> (1.06 GB)\n",
              "</pre>\n"
            ]
          },
          "metadata": {}
        },
        {
          "output_type": "display_data",
          "data": {
            "text/plain": [
              "\u001b[1m Trainable params: \u001b[0m\u001b[38;5;34m284,808,451\u001b[0m (1.06 GB)\n"
            ],
            "text/html": [
              "<pre style=\"white-space:pre;overflow-x:auto;line-height:normal;font-family:Menlo,'DejaVu Sans Mono',consolas,'Courier New',monospace\"><span style=\"font-weight: bold\"> Trainable params: </span><span style=\"color: #00af00; text-decoration-color: #00af00\">284,808,451</span> (1.06 GB)\n",
              "</pre>\n"
            ]
          },
          "metadata": {}
        },
        {
          "output_type": "display_data",
          "data": {
            "text/plain": [
              "\u001b[1m Non-trainable params: \u001b[0m\u001b[38;5;34m0\u001b[0m (0.00 B)\n"
            ],
            "text/html": [
              "<pre style=\"white-space:pre;overflow-x:auto;line-height:normal;font-family:Menlo,'DejaVu Sans Mono',consolas,'Courier New',monospace\"><span style=\"font-weight: bold\"> Non-trainable params: </span><span style=\"color: #00af00; text-decoration-color: #00af00\">0</span> (0.00 B)\n",
              "</pre>\n"
            ]
          },
          "metadata": {}
        },
        {
          "output_type": "stream",
          "name": "stdout",
          "text": [
            "None\n"
          ]
        }
      ]
    },
    {
      "cell_type": "code",
      "source": [
        "history = rnnmodel.fit(X_train_re, y_train, epochs=30, batch_size=64, validation_data=(X_val_re, y_val))"
      ],
      "metadata": {
        "id": "dgNw-bT6pPE6",
        "colab": {
          "base_uri": "https://localhost:8080/"
        },
        "outputId": "8b68a988-54a0-4317-ad42-e512468d3cde"
      },
      "execution_count": null,
      "outputs": [
        {
          "output_type": "stream",
          "name": "stdout",
          "text": [
            "Epoch 1/30\n",
            "\u001b[1m287/287\u001b[0m \u001b[32m━━━━━━━━━━━━━━━━━━━━\u001b[0m\u001b[37m\u001b[0m \u001b[1m1110s\u001b[0m 4s/step - AUC: 0.9323 - Precision: 0.8590 - Recall: 0.8296 - accuracy: 0.8505 - loss: 0.4779 - val_AUC: 0.9690 - val_Precision: 0.9054 - val_Recall: 0.8895 - val_accuracy: 0.8941 - val_loss: 0.2993\n",
            "Epoch 2/30\n",
            "\u001b[1m287/287\u001b[0m \u001b[32m━━━━━━━━━━━━━━━━━━━━\u001b[0m\u001b[37m\u001b[0m \u001b[1m1053s\u001b[0m 4s/step - AUC: 0.9727 - Precision: 0.9164 - Recall: 0.9117 - accuracy: 0.9140 - loss: 0.2556 - val_AUC: 0.9647 - val_Precision: 0.8961 - val_Recall: 0.8957 - val_accuracy: 0.8960 - val_loss: 0.3268\n",
            "Epoch 3/30\n",
            "\u001b[1m287/287\u001b[0m \u001b[32m━━━━━━━━━━━━━━━━━━━━\u001b[0m\u001b[37m\u001b[0m \u001b[1m1039s\u001b[0m 4s/step - AUC: 0.9794 - Precision: 0.9308 - Recall: 0.9271 - accuracy: 0.9289 - loss: 0.2187 - val_AUC: 0.9750 - val_Precision: 0.9098 - val_Recall: 0.9000 - val_accuracy: 0.9053 - val_loss: 0.2697\n",
            "Epoch 4/30\n",
            "\u001b[1m287/287\u001b[0m \u001b[32m━━━━━━━━━━━━━━━━━━━━\u001b[0m\u001b[37m\u001b[0m \u001b[1m1041s\u001b[0m 4s/step - AUC: 0.9820 - Precision: 0.9276 - Recall: 0.9190 - accuracy: 0.9237 - loss: 0.2091 - val_AUC: 0.9735 - val_Precision: 0.9028 - val_Recall: 0.9021 - val_accuracy: 0.9023 - val_loss: 0.2775\n",
            "Epoch 5/30\n",
            "\u001b[1m287/287\u001b[0m \u001b[32m━━━━━━━━━━━━━━━━━━━━\u001b[0m\u001b[37m\u001b[0m \u001b[1m1012s\u001b[0m 4s/step - AUC: 0.9845 - Precision: 0.9345 - Recall: 0.9271 - accuracy: 0.9304 - loss: 0.1934 - val_AUC: 0.9741 - val_Precision: 0.9079 - val_Recall: 0.8976 - val_accuracy: 0.9038 - val_loss: 0.2619\n",
            "Epoch 6/30\n",
            "\u001b[1m287/287\u001b[0m \u001b[32m━━━━━━━━━━━━━━━━━━━━\u001b[0m\u001b[37m\u001b[0m \u001b[1m1011s\u001b[0m 4s/step - AUC: 0.9837 - Precision: 0.9428 - Recall: 0.9307 - accuracy: 0.9365 - loss: 0.1887 - val_AUC: 0.9733 - val_Precision: 0.9105 - val_Recall: 0.8906 - val_accuracy: 0.9042 - val_loss: 0.2655\n",
            "Epoch 7/30\n",
            "\u001b[1m287/287\u001b[0m \u001b[32m━━━━━━━━━━━━━━━━━━━━\u001b[0m\u001b[37m\u001b[0m \u001b[1m1011s\u001b[0m 4s/step - AUC: 0.9850 - Precision: 0.9387 - Recall: 0.9314 - accuracy: 0.9342 - loss: 0.1828 - val_AUC: 0.9719 - val_Precision: 0.9002 - val_Recall: 0.8992 - val_accuracy: 0.8999 - val_loss: 0.2816\n",
            "Epoch 8/30\n",
            "\u001b[1m287/287\u001b[0m \u001b[32m━━━━━━━━━━━━━━━━━━━━\u001b[0m\u001b[37m\u001b[0m \u001b[1m1011s\u001b[0m 4s/step - AUC: 0.9824 - Precision: 0.9376 - Recall: 0.9243 - accuracy: 0.9313 - loss: 0.2036 - val_AUC: 0.9724 - val_Precision: 0.9065 - val_Recall: 0.9040 - val_accuracy: 0.9056 - val_loss: 0.2799\n",
            "Epoch 9/30\n",
            "\u001b[1m287/287\u001b[0m \u001b[32m━━━━━━━━━━━━━━━━━━━━\u001b[0m\u001b[37m\u001b[0m \u001b[1m1011s\u001b[0m 4s/step - AUC: 0.9842 - Precision: 0.9368 - Recall: 0.9245 - accuracy: 0.9316 - loss: 0.1936 - val_AUC: 0.9717 - val_Precision: 0.9162 - val_Recall: 0.8997 - val_accuracy: 0.9088 - val_loss: 0.2831\n",
            "Epoch 10/30\n",
            "\u001b[1m287/287\u001b[0m \u001b[32m━━━━━━━━━━━━━━━━━━━━\u001b[0m\u001b[37m\u001b[0m \u001b[1m1011s\u001b[0m 4s/step - AUC: 0.9834 - Precision: 0.9391 - Recall: 0.9214 - accuracy: 0.9297 - loss: 0.1928 - val_AUC: 0.9690 - val_Precision: 0.9029 - val_Recall: 0.9011 - val_accuracy: 0.9023 - val_loss: 0.3385\n",
            "Epoch 11/30\n",
            "\u001b[1m287/287\u001b[0m \u001b[32m━━━━━━━━━━━━━━━━━━━━\u001b[0m\u001b[37m\u001b[0m \u001b[1m1055s\u001b[0m 4s/step - AUC: 0.9809 - Precision: 0.9313 - Recall: 0.9222 - accuracy: 0.9269 - loss: 0.2174 - val_AUC: 0.9696 - val_Precision: 0.9073 - val_Recall: 0.9066 - val_accuracy: 0.9069 - val_loss: 0.2948\n",
            "Epoch 12/30\n",
            "\u001b[1m287/287\u001b[0m \u001b[32m━━━━━━━━━━━━━━━━━━━━\u001b[0m\u001b[37m\u001b[0m \u001b[1m1011s\u001b[0m 4s/step - AUC: 0.9841 - Precision: 0.9334 - Recall: 0.9297 - accuracy: 0.9324 - loss: 0.1919 - val_AUC: 0.9711 - val_Precision: 0.8973 - val_Recall: 0.8962 - val_accuracy: 0.8967 - val_loss: 0.2798\n",
            "Epoch 13/30\n",
            "\u001b[1m287/287\u001b[0m \u001b[32m━━━━━━━━━━━━━━━━━━━━\u001b[0m\u001b[37m\u001b[0m \u001b[1m1011s\u001b[0m 4s/step - AUC: 0.9836 - Precision: 0.9352 - Recall: 0.9270 - accuracy: 0.9311 - loss: 0.1880 - val_AUC: 0.9736 - val_Precision: 0.9071 - val_Recall: 0.9066 - val_accuracy: 0.9066 - val_loss: 0.2753\n",
            "Epoch 14/30\n",
            "\u001b[1m287/287\u001b[0m \u001b[32m━━━━━━━━━━━━━━━━━━━━\u001b[0m\u001b[37m\u001b[0m \u001b[1m1012s\u001b[0m 4s/step - AUC: 0.9850 - Precision: 0.9342 - Recall: 0.9304 - accuracy: 0.9328 - loss: 0.1891 - val_AUC: 0.9747 - val_Precision: 0.9182 - val_Recall: 0.8880 - val_accuracy: 0.9023 - val_loss: 0.2622\n",
            "Epoch 15/30\n",
            "\u001b[1m287/287\u001b[0m \u001b[32m━━━━━━━━━━━━━━━━━━━━\u001b[0m\u001b[37m\u001b[0m \u001b[1m1013s\u001b[0m 4s/step - AUC: 0.9841 - Precision: 0.9349 - Recall: 0.9255 - accuracy: 0.9293 - loss: 0.1929 - val_AUC: 0.9727 - val_Precision: 0.8956 - val_Recall: 0.8951 - val_accuracy: 0.8951 - val_loss: 0.2846\n",
            "Epoch 16/30\n",
            "\u001b[1m287/287\u001b[0m \u001b[32m━━━━━━━━━━━━━━━━━━━━\u001b[0m\u001b[37m\u001b[0m \u001b[1m1012s\u001b[0m 4s/step - AUC: 0.9841 - Precision: 0.9337 - Recall: 0.9282 - accuracy: 0.9306 - loss: 0.1910 - val_AUC: 0.9736 - val_Precision: 0.9261 - val_Recall: 0.8764 - val_accuracy: 0.9056 - val_loss: 0.2622\n",
            "Epoch 17/30\n",
            "\u001b[1m287/287\u001b[0m \u001b[32m━━━━━━━━━━━━━━━━━━━━\u001b[0m\u001b[37m\u001b[0m \u001b[1m1012s\u001b[0m 4s/step - AUC: 0.9858 - Precision: 0.9395 - Recall: 0.9353 - accuracy: 0.9374 - loss: 0.1820 - val_AUC: 0.9742 - val_Precision: 0.9042 - val_Recall: 0.9040 - val_accuracy: 0.9040 - val_loss: 0.2836\n",
            "Epoch 18/30\n",
            "\u001b[1m287/287\u001b[0m \u001b[32m━━━━━━━━━━━━━━━━━━━━\u001b[0m\u001b[37m\u001b[0m \u001b[1m1012s\u001b[0m 4s/step - AUC: 0.9831 - Precision: 0.9311 - Recall: 0.9265 - accuracy: 0.9287 - loss: 0.2006 - val_AUC: 0.9714 - val_Precision: 0.9016 - val_Recall: 0.9010 - val_accuracy: 0.9015 - val_loss: 0.3022\n",
            "Epoch 19/30\n",
            "\u001b[1m287/287\u001b[0m \u001b[32m━━━━━━━━━━━━━━━━━━━━\u001b[0m\u001b[37m\u001b[0m \u001b[1m1016s\u001b[0m 4s/step - AUC: 0.9851 - Precision: 0.9336 - Recall: 0.9234 - accuracy: 0.9277 - loss: 0.1903 - val_AUC: 0.9742 - val_Precision: 0.8998 - val_Recall: 0.8976 - val_accuracy: 0.8986 - val_loss: 0.2616\n",
            "Epoch 20/30\n",
            "\u001b[1m287/287\u001b[0m \u001b[32m━━━━━━━━━━━━━━━━━━━━\u001b[0m\u001b[37m\u001b[0m \u001b[1m1012s\u001b[0m 4s/step - AUC: 0.9849 - Precision: 0.9348 - Recall: 0.9278 - accuracy: 0.9311 - loss: 0.1818 - val_AUC: 0.9755 - val_Precision: 0.9052 - val_Recall: 0.9018 - val_accuracy: 0.9040 - val_loss: 0.2616\n",
            "Epoch 21/30\n",
            "\u001b[1m287/287\u001b[0m \u001b[32m━━━━━━━━━━━━━━━━━━━━\u001b[0m\u001b[37m\u001b[0m \u001b[1m1011s\u001b[0m 4s/step - AUC: 0.9868 - Precision: 0.9467 - Recall: 0.9321 - accuracy: 0.9377 - loss: 0.1733 - val_AUC: 0.9744 - val_Precision: 0.9019 - val_Recall: 0.8987 - val_accuracy: 0.9013 - val_loss: 0.2669\n",
            "Epoch 22/30\n",
            "\u001b[1m287/287\u001b[0m \u001b[32m━━━━━━━━━━━━━━━━━━━━\u001b[0m\u001b[37m\u001b[0m \u001b[1m1013s\u001b[0m 4s/step - AUC: 0.9860 - Precision: 0.9337 - Recall: 0.9219 - accuracy: 0.9287 - loss: 0.1825 - val_AUC: 0.9755 - val_Precision: 0.9045 - val_Recall: 0.8928 - val_accuracy: 0.8987 - val_loss: 0.2778\n",
            "Epoch 23/30\n",
            "\u001b[1m287/287\u001b[0m \u001b[32m━━━━━━━━━━━━━━━━━━━━\u001b[0m\u001b[37m\u001b[0m \u001b[1m1012s\u001b[0m 4s/step - AUC: 0.9853 - Precision: 0.9385 - Recall: 0.9261 - accuracy: 0.9324 - loss: 0.1852 - val_AUC: 0.9737 - val_Precision: 0.9169 - val_Recall: 0.8900 - val_accuracy: 0.9058 - val_loss: 0.2653\n",
            "Epoch 24/30\n",
            "\u001b[1m287/287\u001b[0m \u001b[32m━━━━━━━━━━━━━━━━━━━━\u001b[0m\u001b[37m\u001b[0m \u001b[1m1011s\u001b[0m 4s/step - AUC: 0.9844 - Precision: 0.9346 - Recall: 0.9213 - accuracy: 0.9282 - loss: 0.1943 - val_AUC: 0.9736 - val_Precision: 0.9080 - val_Recall: 0.8938 - val_accuracy: 0.9027 - val_loss: 0.2842\n",
            "Epoch 25/30\n",
            "\u001b[1m287/287\u001b[0m \u001b[32m━━━━━━━━━━━━━━━━━━━━\u001b[0m\u001b[37m\u001b[0m \u001b[1m1012s\u001b[0m 4s/step - AUC: 0.9867 - Precision: 0.9386 - Recall: 0.9284 - accuracy: 0.9355 - loss: 0.1814 - val_AUC: 0.9720 - val_Precision: 0.9033 - val_Recall: 0.8983 - val_accuracy: 0.9011 - val_loss: 0.3033\n",
            "Epoch 26/30\n",
            "\u001b[1m287/287\u001b[0m \u001b[32m━━━━━━━━━━━━━━━━━━━━\u001b[0m\u001b[37m\u001b[0m \u001b[1m1012s\u001b[0m 4s/step - AUC: 0.9847 - Precision: 0.9392 - Recall: 0.9288 - accuracy: 0.9342 - loss: 0.1911 - val_AUC: 0.9740 - val_Precision: 0.9105 - val_Recall: 0.8954 - val_accuracy: 0.9050 - val_loss: 0.2654\n",
            "Epoch 27/30\n",
            "\u001b[1m287/287\u001b[0m \u001b[32m━━━━━━━━━━━━━━━━━━━━\u001b[0m\u001b[37m\u001b[0m \u001b[1m1012s\u001b[0m 4s/step - AUC: 0.9843 - Precision: 0.9389 - Recall: 0.9291 - accuracy: 0.9355 - loss: 0.1922 - val_AUC: 0.9730 - val_Precision: 0.9104 - val_Recall: 0.8941 - val_accuracy: 0.9034 - val_loss: 0.2796\n",
            "Epoch 28/30\n",
            "\u001b[1m287/287\u001b[0m \u001b[32m━━━━━━━━━━━━━━━━━━━━\u001b[0m\u001b[37m\u001b[0m \u001b[1m1012s\u001b[0m 4s/step - AUC: 0.9853 - Precision: 0.9420 - Recall: 0.9315 - accuracy: 0.9376 - loss: 0.1892 - val_AUC: 0.9725 - val_Precision: 0.8991 - val_Recall: 0.8984 - val_accuracy: 0.8986 - val_loss: 0.2840\n",
            "Epoch 29/30\n",
            "\u001b[1m287/287\u001b[0m \u001b[32m━━━━━━━━━━━━━━━━━━━━\u001b[0m\u001b[37m\u001b[0m \u001b[1m1011s\u001b[0m 4s/step - AUC: 0.9842 - Precision: 0.9386 - Recall: 0.9306 - accuracy: 0.9353 - loss: 0.1922 - val_AUC: 0.9749 - val_Precision: 0.9093 - val_Recall: 0.8914 - val_accuracy: 0.9034 - val_loss: 0.2553\n",
            "Epoch 30/30\n",
            "\u001b[1m287/287\u001b[0m \u001b[32m━━━━━━━━━━━━━━━━━━━━\u001b[0m\u001b[37m\u001b[0m \u001b[1m1012s\u001b[0m 4s/step - AUC: 0.9849 - Precision: 0.9363 - Recall: 0.9289 - accuracy: 0.9337 - loss: 0.1845 - val_AUC: 0.9757 - val_Precision: 0.9115 - val_Recall: 0.8968 - val_accuracy: 0.9066 - val_loss: 0.2660\n"
          ]
        }
      ]
    },
    {
      "cell_type": "code",
      "source": [
        "pred=rnnmodel.predict(X_test1_re)"
      ],
      "metadata": {
        "id": "QR1YR9uIIp5t",
        "colab": {
          "base_uri": "https://localhost:8080/"
        },
        "outputId": "2d8d1fab-272b-4739-d6f7-6f0b121b729f"
      },
      "execution_count": null,
      "outputs": [
        {
          "output_type": "stream",
          "name": "stdout",
          "text": [
            "\u001b[1m191/191\u001b[0m \u001b[32m━━━━━━━━━━━━━━━━━━━━\u001b[0m\u001b[37m\u001b[0m \u001b[1m26s\u001b[0m 133ms/step\n"
          ]
        }
      ]
    },
    {
      "cell_type": "code",
      "source": [
        "plt.plot(history.history['accuracy'])\n",
        "plt.plot(history.history['val_accuracy'])\n",
        "plt.legend(['Training accuracy','Validation accuracy'])\n",
        "plt.xlabel(\"Epochs\")\n",
        "plt.ylabel(\"Accuracy\")"
      ],
      "metadata": {
        "id": "Cu8m9aPIqOf1",
        "colab": {
          "base_uri": "https://localhost:8080/",
          "height": 466
        },
        "outputId": "0fa279c7-94a0-4ca7-b8be-33ee26229b24"
      },
      "execution_count": null,
      "outputs": [
        {
          "output_type": "execute_result",
          "data": {
            "text/plain": [
              "Text(0, 0.5, 'Accuracy')"
            ]
          },
          "metadata": {},
          "execution_count": 60
        },
        {
          "output_type": "display_data",
          "data": {
            "text/plain": [
              "<Figure size 640x480 with 1 Axes>"
            ],
            "image/png": "[encoded data removed]"
          },
          "metadata": {}
        }
      ]
    },
    {
      "cell_type": "code",
      "source": [
        "plt.plot(history.history['loss'])\n",
        "plt.plot(history.history['val_loss'])\n",
        "plt.legend(['Training loss','Validation loss'])\n",
        "plt.xlabel(\"Epochs\")\n",
        "plt.ylabel(\"Loss\")"
      ],
      "metadata": {
        "id": "ccUmtN-Tqhlp",
        "colab": {
          "base_uri": "https://localhost:8080/",
          "height": 466
        },
        "outputId": "e22301ab-7876-4094-cdd1-574a33394b8c"
      },
      "execution_count": null,
      "outputs": [
        {
          "output_type": "execute_result",
          "data": {
            "text/plain": [
              "Text(0, 0.5, 'Loss')"
            ]
          },
          "metadata": {},
          "execution_count": 61
        },
        {
          "output_type": "display_data",
          "data": {
            "text/plain": [
              "<Figure size 640x480 with 1 Axes>"
            ],
            "image/png": "[encoded data removed]"
          },
          "metadata": {}
        }
      ]
    },
    {
      "cell_type": "code",
      "source": [
        "from sklearn.metrics import accuracy_score\n",
        "print('Accuracy: %3f' % accuracy_score(y_test1.argmax(axis=1), pred.argmax(axis=1)))"
      ],
      "metadata": {
        "id": "pdLHak79q15c",
        "colab": {
          "base_uri": "https://localhost:8080/"
        },
        "outputId": "2f76de42-9f71-49a8-e835-33c76b8e7938"
      },
      "execution_count": null,
      "outputs": [
        {
          "output_type": "stream",
          "name": "stdout",
          "text": [
            "Accuracy: 0.917813\n"
          ]
        }
      ]
    },
    {
      "cell_type": "markdown",
      "source": [
        "**Concatenation**"
      ],
      "metadata": {
        "id": "K2BmJVR3K9ZE"
      }
    },
    {
      "cell_type": "code",
      "source": [
        "def create_model2():\n",
        "    # input layer of model for brain signals\n",
        "    inputs = tf.keras.Input(shape=(X_train_re.shape[1], X_train_re.shape[2]))\n",
        "    #inputs = tf.keras.Input(shape=(1,42370))\n",
        "\n",
        "    gru1_1 = GRU(2048, return_sequences=True,dropout=0.2)(inputs)\n",
        "    gru1_2 = GRU(1280, return_sequences=True,dropout=0.2)(gru1_1)\n",
        "    gru1_3 = GRU(768, return_sequences=True,dropout=0.2)(gru1_2)\n",
        "\n",
        "    lstm1 = LSTM(1792, return_sequences=True,dropout=0.2)(inputs)\n",
        "    lstm2 = LSTM(1024, return_sequences=True,dropout=0.2)(gru2_1)\n",
        "    lstm3 = LSTM(768, return_sequences=True,dropout=0.2)(gru2_2)\n",
        "\n",
        "\n",
        "    concat = Concatenate()([gru1_3, lstm3])\n",
        "\n",
        "\n",
        "\n",
        "    rnn1 = SimpleRNN(128, return_sequences=True,dropout=0.2)(concat)\n",
        "\n",
        "    rnn4 = SimpleRNN(32, activation='relu',dropout=0.2)(rnn1)\n",
        "\n",
        "    outputs = Dense(3, activation='softmax')(rnn4)\n",
        "\n",
        "    model = Model(inputs=inputs, outputs=outputs)\n",
        "    print(model.summary())\n",
        "    return model"
      ],
      "metadata": {
        "id": "PqgR547PZYTW"
      },
      "execution_count": null,
      "outputs": []
    },
    {
      "cell_type": "code",
      "source": [
        "conmodel = create_model2()\n",
        "conmodel.compile(loss=tf.keras.losses.CategoricalCrossentropy(),\n",
        "                  optimizer=tf.keras.optimizers.Adam(learning_rate=0.01),\n",
        "                  metrics=[tf.keras.metrics.CategoricalAccuracy(name='accuracy', dtype=None),\n",
        "                  tf.keras.metrics.Recall(name='Recall'),\n",
        "                  tf.keras.metrics.Precision(name='Precision'),\n",
        "                  tf.keras.metrics.AUC( num_thresholds=200,\n",
        "                                        curve=\"ROC\",\n",
        "                                        summation_method=\"interpolation\",\n",
        "                                        name=\"AUC\",\n",
        "                                        dtype=None,\n",
        "                                        thresholds=None,\n",
        "                                        multi_label=True,\n",
        "                                       label_weights=None,)])"
      ],
      "metadata": {
        "id": "V2nboc8XZhCD"
      },
      "execution_count": null,
      "outputs": []
    },
    {
      "cell_type": "code",
      "source": [
        "history = conmodel.fit(X_train_re, y_train, epochs=10, batch_size=32, validation_data=(X_val_re, y_val))"
      ],
      "metadata": {
        "id": "aR9RZ3y3Zy0U"
      },
      "execution_count": null,
      "outputs": []
    },
    {
      "cell_type": "code",
      "source": [
        "pred=conmodel.predict(X_test1_re)"
      ],
      "metadata": {
        "id": "oGBD7Wb2Zy0t"
      },
      "execution_count": null,
      "outputs": []
    },
    {
      "cell_type": "code",
      "source": [
        "plt.plot(history.history['accuracy'])\n",
        "plt.plot(history.history['val_accuracy'])\n",
        "plt.legend(['Training accuracy','Validation accuracy'])\n",
        "plt.xlabel(\"Epochs\")\n",
        "plt.ylabel(\"Accuracy\")"
      ],
      "metadata": {
        "id": "nSH0otvcZy0u"
      },
      "execution_count": null,
      "outputs": []
    },
    {
      "cell_type": "code",
      "source": [
        "plt.plot(history.history['loss'])\n",
        "plt.plot(history.history['val_loss'])\n",
        "plt.legend(['Training loss','Validation loss'])\n",
        "plt.xlabel(\"Epochs\")\n",
        "plt.ylabel(\"Loss\")"
      ],
      "metadata": {
        "id": "-D22RUC1Zy0u"
      },
      "execution_count": null,
      "outputs": []
    },
    {
      "cell_type": "code",
      "source": [
        "from sklearn.metrics import accuracy_score\n",
        "print('Accuracy: %3f' % accuracy_score(y_test1.argmax(axis=1), pred.argmax(axis=1)))"
      ],
      "metadata": {
        "id": "UoOhEcZ7Zy0u"
      },
      "execution_count": null,
      "outputs": []
    },
    {
      "cell_type": "markdown",
      "source": [
        "**LSTM**"
      ],
      "metadata": {
        "id": "MjmmtNA5FhIR"
      }
    },
    {
      "cell_type": "code",
      "source": [
        "def lstm():\n",
        "    inputs = tf.keras.Input(shape=(X_train_re.shape[1], X_train_re.shape[2]))\n",
        "    lstm = LSTM(1024)(inputs)\n",
        "\n",
        "    outputs = Dense(3, activation='softmax')(lstm)\n",
        "\n",
        "    model = Model(inputs=inputs, outputs=outputs)\n",
        "\n",
        "    print(model.summary())\n",
        "    return model"
      ],
      "metadata": {
        "id": "VpNIa6YzeafA"
      },
      "execution_count": null,
      "outputs": []
    },
    {
      "cell_type": "code",
      "source": [
        "lstmmo = lstm()\n",
        "lstmmo.compile(loss=tf.keras.losses.CategoricalCrossentropy(),\n",
        "                  optimizer=tf.keras.optimizers.Adam(learning_rate=0.001),\n",
        "                  metrics=[tf.keras.metrics.BinaryAccuracy(name='accuracy', dtype=None, threshold=0.5),\n",
        "                  tf.keras.metrics.Recall(name='Recall'),\n",
        "                  tf.keras.metrics.Precision(name='Precision'),\n",
        "                  tf.keras.metrics.AUC( num_thresholds=200,\n",
        "                                        curve=\"ROC\",\n",
        "                                        summation_method=\"interpolation\",\n",
        "                                        name=\"AUC\",\n",
        "                                        dtype=None,\n",
        "                                        thresholds=None,\n",
        "                                        multi_label=True,\n",
        "                                       label_weights=None,)])"
      ],
      "metadata": {
        "id": "MsiyCZuEee4_"
      },
      "execution_count": null,
      "outputs": []
    },
    {
      "cell_type": "code",
      "source": [
        "import keras\n",
        "from keras.utils import plot_model\n",
        "plot_model(lstmmo)"
      ],
      "metadata": {
        "id": "dLA_LvgOf-bi"
      },
      "execution_count": null,
      "outputs": []
    },
    {
      "cell_type": "code",
      "source": [
        "history = lstmmo.fit(X_train_re, y_train, epochs=30, batch_size=32, validation_data=(X_val_re, y_val))"
      ],
      "metadata": {
        "id": "EmMH-Q7seiIQ"
      },
      "execution_count": null,
      "outputs": []
    },
    {
      "cell_type": "markdown",
      "source": [
        "**Model saving**"
      ],
      "metadata": {
        "id": "Z-qTWWc7rjpz"
      }
    },
    {
      "cell_type": "code",
      "source": [
        "lstmmo.save('lstmmo_Priya.keras')"
      ],
      "metadata": {
        "id": "ApeA0LwyrbRJ"
      },
      "execution_count": null,
      "outputs": []
    },
    {
      "cell_type": "code",
      "source": [
        "pred=lstmmo.predict(X_test1_re)"
      ],
      "metadata": {
        "id": "FXNbYC6nem2J"
      },
      "execution_count": null,
      "outputs": []
    },
    {
      "cell_type": "code",
      "source": [
        "plt.plot(history.history['accuracy'])\n",
        "plt.plot(history.history['val_accuracy'])\n",
        "plt.legend(['Training accuracy','Validation accuracy'])\n",
        "plt.xlabel(\"Epochs\")\n",
        "plt.ylabel(\"Accuracy\")"
      ],
      "metadata": {
        "id": "x6a8I2aweoft"
      },
      "execution_count": null,
      "outputs": []
    },
    {
      "cell_type": "code",
      "source": [
        "plt.plot(history.history['loss'])\n",
        "plt.plot(history.history['val_loss'])\n",
        "plt.legend(['Training loss','Validation loss'])\n",
        "plt.xlabel(\"Epochs\")\n",
        "plt.ylabel(\"Loss\")"
      ],
      "metadata": {
        "id": "zEpwqYZceqkb"
      },
      "execution_count": null,
      "outputs": []
    },
    {
      "cell_type": "code",
      "source": [
        "from sklearn.metrics import accuracy_score\n",
        "print('Accuracy: %3f' % accuracy_score(y_test1.argmax(axis=1), pred.argmax(axis=1)))"
      ],
      "metadata": {
        "id": "zEgmo7qHet6W"
      },
      "execution_count": null,
      "outputs": []
    },
    {
      "cell_type": "markdown",
      "source": [
        "**GRU**"
      ],
      "metadata": {
        "id": "MG5mYMG1I4yt"
      }
    },
    {
      "cell_type": "code",
      "source": [
        "def gru():\n",
        "    inputs = tf.keras.Input(shape=(1,42370))\n",
        "    gru = GRU(512)(inputs)\n",
        "\n",
        "    #flatten = Flatten()(gru)\n",
        "    outputs = Dense(3, activation='softmax')(gru)\n",
        "\n",
        "    model = Model(inputs=inputs, outputs=outputs)\n",
        "\n",
        "    print(model.summary())\n",
        "    return model"
      ],
      "metadata": {
        "id": "N80bQOq6I6Vr"
      },
      "execution_count": null,
      "outputs": []
    },
    {
      "cell_type": "code",
      "source": [
        "grumodel = gru()\n",
        "grumodel.compile(loss=tf.keras.losses.CategoricalCrossentropy(),\n",
        "                  optimizer=tf.keras.optimizers.Adam(learning_rate=0.001),\n",
        "                  metrics=[tf.keras.metrics.BinaryAccuracy(name='accuracy', dtype=None, threshold=0.5),\n",
        "                  tf.keras.metrics.Recall(name='Recall'),\n",
        "                  tf.keras.metrics.Precision(name='Precision'),\n",
        "                  tf.keras.metrics.AUC( num_thresholds=200,\n",
        "                                        curve=\"ROC\",\n",
        "                                        summation_method=\"interpolation\",\n",
        "                                        name=\"AUC\",\n",
        "                                        dtype=None,\n",
        "                                        thresholds=None,\n",
        "                                        multi_label=True,\n",
        "                                       label_weights=None,)])"
      ],
      "metadata": {
        "id": "xqkuPFS0JERu"
      },
      "execution_count": null,
      "outputs": []
    },
    {
      "cell_type": "code",
      "source": [
        "import keras\n",
        "from keras.utils import plot_model\n",
        "plot_model(grumodel)"
      ],
      "metadata": {
        "id": "L6PBhhxVJIBe"
      },
      "execution_count": null,
      "outputs": []
    },
    {
      "cell_type": "code",
      "source": [
        "history = grumodel.fit(X_train_re, y_train, epochs=30, batch_size=32, validation_data=(X_val_re, y_val))"
      ],
      "metadata": {
        "id": "dAGeU5xaJSuT"
      },
      "execution_count": null,
      "outputs": []
    },
    {
      "cell_type": "markdown",
      "source": [
        "**Model saving**"
      ],
      "metadata": {
        "id": "3PShkTbuJSuU"
      }
    },
    {
      "cell_type": "code",
      "source": [
        "grumodel.save('grumodel.keras')"
      ],
      "metadata": {
        "id": "m1O9b50nJSuU"
      },
      "execution_count": null,
      "outputs": []
    },
    {
      "cell_type": "code",
      "source": [
        "pred=grumodel.predict(X_test1_re)"
      ],
      "metadata": {
        "id": "54si6eJSJSuU"
      },
      "execution_count": null,
      "outputs": []
    },
    {
      "cell_type": "code",
      "source": [
        "plt.plot(history.history['accuracy'])\n",
        "plt.plot(history.history['val_accuracy'])\n",
        "plt.legend(['Training accuracy','Validation accuracy'])\n",
        "plt.xlabel(\"Epochs\")\n",
        "plt.ylabel(\"Accuracy\")"
      ],
      "metadata": {
        "id": "19xSjSoqJSuU"
      },
      "execution_count": null,
      "outputs": []
    },
    {
      "cell_type": "code",
      "source": [
        "plt.plot(history.history['loss'])\n",
        "plt.plot(history.history['val_loss'])\n",
        "plt.legend(['Training loss','Validation loss'])\n",
        "plt.xlabel(\"Epochs\")\n",
        "plt.ylabel(\"Loss\")"
      ],
      "metadata": {
        "id": "mD79Y9yYJSuV"
      },
      "execution_count": null,
      "outputs": []
    },
    {
      "cell_type": "code",
      "source": [
        "from sklearn.metrics import accuracy_score\n",
        "print('Accuracy: %3f' % accuracy_score(y_test1.argmax(axis=1), pred.argmax(axis=1)))"
      ],
      "metadata": {
        "id": "Dlw6IprYJSub"
      },
      "execution_count": null,
      "outputs": []
    },
    {
      "cell_type": "markdown",
      "source": [
        "**BidirectionLSTM**"
      ],
      "metadata": {
        "id": "xD4zNbjoNeM1"
      }
    },
    {
      "cell_type": "code",
      "source": [
        "def lstm():\n",
        "    inputs = tf.keras.Input(shape=(X_train.shape[1], X_train.shape[2]))\n",
        "    lstm_1 = Bidirectional(LSTM(512))(inputs)\n",
        "\n",
        "    lstm_4 = Bidirectional(LSTM(32, activation='sigmoid'))(lstm_1)\n",
        "\n",
        "    outputs = Dense(3, activation='softmax')(lstm_4)\n",
        "\n",
        "    model = Model(inputs=inputs, outputs=outputs)\n",
        "\n",
        "    print(model.summary())\n",
        "    return model"
      ],
      "metadata": {
        "id": "HawCG5R-JvBS"
      },
      "execution_count": null,
      "outputs": []
    },
    {
      "cell_type": "code",
      "execution_count": null,
      "metadata": {
        "id": "ZuI19XhfKSnt"
      },
      "outputs": [],
      "source": [
        "lstmmodel = lstm()\n",
        "lstmmodel.compile(loss=tf.keras.losses.CategoricalCrossentropy(),\n",
        "                  optimizer=tf.keras.optimizers.Adam(learning_rate=0.001),\n",
        "                  metrics=[tf.keras.metrics.BinaryAccuracy(name='accuracy', dtype=None, threshold=0.5),\n",
        "                  tf.keras.metrics.Recall(name='Recall'),\n",
        "                  tf.keras.metrics.Precision(name='Precision'),\n",
        "                  tf.keras.metrics.AUC( num_thresholds=200,\n",
        "                                        curve=\"ROC\",\n",
        "                                        summation_method=\"interpolation\",\n",
        "                                        name=\"AUC\",\n",
        "                                        dtype=None,\n",
        "                                        thresholds=None,\n",
        "                                        multi_label=True,\n",
        "                                       label_weights=None,)])"
      ]
    },
    {
      "cell_type": "code",
      "execution_count": null,
      "metadata": {
        "id": "JIxbFe_JKSoh"
      },
      "outputs": [],
      "source": [
        "import keras\n",
        "from keras.utils import plot_model\n",
        "plot_model(lstmmodel)"
      ]
    },
    {
      "cell_type": "code",
      "execution_count": null,
      "metadata": {
        "id": "7mn1--KqKSop"
      },
      "outputs": [],
      "source": [
        "history = lstmmodel.fit(X_train_re, y_train, epochs=30, batch_size=32, validation_data=(X_val_re, y_val))"
      ]
    },
    {
      "cell_type": "code",
      "execution_count": null,
      "metadata": {
        "id": "Cz685QZzKSoy"
      },
      "outputs": [],
      "source": [
        "lstmmodel.save('lstmmodel.keras')"
      ]
    },
    {
      "cell_type": "code",
      "execution_count": null,
      "metadata": {
        "id": "8-uCmiwfKSo1"
      },
      "outputs": [],
      "source": [
        "pred=lstmmodel.predict(X_test1_re)"
      ]
    },
    {
      "cell_type": "code",
      "execution_count": null,
      "metadata": {
        "id": "_Y3ZpN_7KSo4"
      },
      "outputs": [],
      "source": [
        "plt.plot(history.history['accuracy'])\n",
        "plt.plot(history.history['val_accuracy'])\n",
        "plt.legend(['Training accuracy','Validation accuracy'])\n",
        "plt.xlabel(\"Epochs\")\n",
        "plt.ylabel(\"Accuracy\")"
      ]
    },
    {
      "cell_type": "code",
      "execution_count": null,
      "metadata": {
        "id": "UA3wD7VeKSo9"
      },
      "outputs": [],
      "source": [
        "plt.plot(history.history['loss'])\n",
        "plt.plot(history.history['val_loss'])\n",
        "plt.legend(['Training loss','Validation loss'])\n",
        "plt.xlabel(\"Epochs\")\n",
        "plt.ylabel(\"Loss\")"
      ]
    },
    {
      "cell_type": "code",
      "execution_count": null,
      "metadata": {
        "id": "68sQ0wTQKSpB"
      },
      "outputs": [],
      "source": [
        "from sklearn.metrics import accuracy_score\n",
        "print('Accuracy: %3f' % accuracy_score(y_test1.argmax(axis=1), pred.argmax(axis=1)))"
      ]
    }
  ],
  "metadata": {
    "colab": {
      "provenance": []
    },
    "kernelspec": {
      "display_name": "Python 3",
      "name": "python3"
    },
    "language_info": {
      "name": "python"
    }
  },
  "nbformat": 4,
  "nbformat_minor": 0
}