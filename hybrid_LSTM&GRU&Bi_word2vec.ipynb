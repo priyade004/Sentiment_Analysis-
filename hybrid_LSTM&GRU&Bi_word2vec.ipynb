{
  "cells": [
    {
      "cell_type": "code",
      "execution_count": null,
      "metadata": {
        "id": "-dAzmHWbsFKG"
      },
      "outputs": [],
      "source": [
        "import numpy as np\n",
        "import pandas as pd\n",
        "import os\n",
        "import matplotlib.pyplot as plt\n",
        "import seaborn as sns\n",
        "#from google.colab import drive"
      ]
    },
    {
      "cell_type": "code",
      "source": [
        "#drive.mount(\"/content/drive\")"
      ],
      "metadata": {
        "id": "wdJ9_GGVbtG6"
      },
      "execution_count": null,
      "outputs": []
    },
    {
      "cell_type": "markdown",
      "metadata": {
        "id": "JT9nt0d_34EA"
      },
      "source": [
        "**READING THE CSV FILE**"
      ]
    },
    {
      "cell_type": "code",
      "execution_count": null,
      "metadata": {
        "id": "qe8kv6RufewR",
        "colab": {
          "base_uri": "https://localhost:8080/",
          "height": 206
        },
        "outputId": "62e2f84f-2571-4f11-c200-5cf3077712ee"
      },
      "outputs": [
        {
          "output_type": "execute_result",
          "data": {
            "text/plain": [
              "                                        product_name product_price Rate  \\\n",
              "0  Candes 12 L Room/Personal Air Cooler??????(Whi...          3999    5   \n",
              "1  Candes 12 L Room/Personal Air Cooler??????(Whi...          3999    5   \n",
              "2  Candes 12 L Room/Personal Air Cooler??????(Whi...          3999    3   \n",
              "3  Candes 12 L Room/Personal Air Cooler??????(Whi...          3999    1   \n",
              "4  Candes 12 L Room/Personal Air Cooler??????(Whi...          3999    3   \n",
              "\n",
              "            Review                                            Summary  \\\n",
              "0           super!  great cooler excellent air flow and for this p...   \n",
              "1          awesome              best budget 2 fit cooler nice cooling   \n",
              "2             fair  the quality is good but the power of air is de...   \n",
              "3  useless product                  very bad product its a only a fan   \n",
              "4             fair                                      ok ok product   \n",
              "\n",
              "  Sentiment  \n",
              "0  positive  \n",
              "1  positive  \n",
              "2  positive  \n",
              "3  negative  \n",
              "4   neutral  "
            ],
            "text/html": [
              "<div>\n",
              "<style scoped>\n",
              "    .dataframe tbody tr th:only-of-type {\n",
              "        vertical-align: middle;\n",
              "    }\n",
              "\n",
              "    .dataframe tbody tr th {\n",
              "        vertical-align: top;\n",
              "    }\n",
              "\n",
              "    .dataframe thead th {\n",
              "        text-align: right;\n",
              "    }\n",
              "</style>\n",
              "<table border=\"1\" class=\"dataframe\">\n",
              "  <thead>\n",
              "    <tr style=\"text-align: right;\">\n",
              "      <th></th>\n",
              "      <th>product_name</th>\n",
              "      <th>product_price</th>\n",
              "      <th>Rate</th>\n",
              "      <th>Review</th>\n",
              "      <th>Summary</th>\n",
              "      <th>Sentiment</th>\n",
              "    </tr>\n",
              "  </thead>\n",
              "  <tbody>\n",
              "    <tr>\n",
              "      <th>0</th>\n",
              "      <td>Candes 12 L Room/Personal Air Cooler??????(Whi...</td>\n",
              "      <td>3999</td>\n",
              "      <td>5</td>\n",
              "      <td>super!</td>\n",
              "      <td>great cooler excellent air flow and for this p...</td>\n",
              "      <td>positive</td>\n",
              "    </tr>\n",
              "    <tr>\n",
              "      <th>1</th>\n",
              "      <td>Candes 12 L Room/Personal Air Cooler??????(Whi...</td>\n",
              "      <td>3999</td>\n",
              "      <td>5</td>\n",
              "      <td>awesome</td>\n",
              "      <td>best budget 2 fit cooler nice cooling</td>\n",
              "      <td>positive</td>\n",
              "    </tr>\n",
              "    <tr>\n",
              "      <th>2</th>\n",
              "      <td>Candes 12 L Room/Personal Air Cooler??????(Whi...</td>\n",
              "      <td>3999</td>\n",
              "      <td>3</td>\n",
              "      <td>fair</td>\n",
              "      <td>the quality is good but the power of air is de...</td>\n",
              "      <td>positive</td>\n",
              "    </tr>\n",
              "    <tr>\n",
              "      <th>3</th>\n",
              "      <td>Candes 12 L Room/Personal Air Cooler??????(Whi...</td>\n",
              "      <td>3999</td>\n",
              "      <td>1</td>\n",
              "      <td>useless product</td>\n",
              "      <td>very bad product its a only a fan</td>\n",
              "      <td>negative</td>\n",
              "    </tr>\n",
              "    <tr>\n",
              "      <th>4</th>\n",
              "      <td>Candes 12 L Room/Personal Air Cooler??????(Whi...</td>\n",
              "      <td>3999</td>\n",
              "      <td>3</td>\n",
              "      <td>fair</td>\n",
              "      <td>ok ok product</td>\n",
              "      <td>neutral</td>\n",
              "    </tr>\n",
              "  </tbody>\n",
              "</table>\n",
              "</div>"
            ]
          },
          "metadata": {},
          "execution_count": 4
        }
      ],
      "source": [
        "df = pd.read_csv('C:/Users/GPU_CA/Downloads/Priya/Dataset-SA.csv')\n",
        "#df = pd.read_csv('C:/Users/priya/Desktop/Priya/Dataset-SA.csv')\n",
        "df.head()"
      ]
    },
    {
      "cell_type": "code",
      "execution_count": null,
      "metadata": {
        "id": "UPBYMhvE9lG7",
        "colab": {
          "base_uri": "https://localhost:8080/"
        },
        "outputId": "110f1ef7-44af-4045-df4f-b9d3fc300cb0"
      },
      "outputs": [
        {
          "output_type": "stream",
          "name": "stderr",
          "text": [
            "[nltk_data] Downloading package stopwords to\n",
            "[nltk_data]     C:\\Users\\GPU_CA\\AppData\\Roaming\\nltk_data...\n",
            "[nltk_data]   Package stopwords is already up-to-date!\n"
          ]
        },
        {
          "output_type": "execute_result",
          "data": {
            "text/plain": [
              "True"
            ]
          },
          "metadata": {},
          "execution_count": 5
        }
      ],
      "source": [
        "import nltk\n",
        "nltk.download('stopwords')"
      ]
    },
    {
      "cell_type": "code",
      "execution_count": null,
      "metadata": {
        "id": "XgXDOdPg9TaL",
        "colab": {
          "base_uri": "https://localhost:8080/"
        },
        "outputId": "08b46a0d-9de3-47ee-f4d9-6f385b2638de"
      },
      "outputs": [
        {
          "output_type": "stream",
          "name": "stderr",
          "text": [
            "[nltk_data] Downloading package punkt to\n",
            "[nltk_data]     C:\\Users\\GPU_CA\\AppData\\Roaming\\nltk_data...\n",
            "[nltk_data]   Package punkt is already up-to-date!\n"
          ]
        },
        {
          "output_type": "execute_result",
          "data": {
            "text/plain": [
              "True"
            ]
          },
          "metadata": {},
          "execution_count": 6
        }
      ],
      "source": [
        "import re\n",
        "from nltk.tokenize import word_tokenize\n",
        "from nltk.stem import PorterStemmer\n",
        "from nltk.corpus import stopwords\n",
        "stop_words = set(stopwords.words('english'))\n",
        "from wordcloud import WordCloud\n",
        "from sklearn.feature_extraction.text import CountVectorizer\n",
        "from sklearn.model_selection import train_test_split\n",
        "import warnings\n",
        "warnings.filterwarnings('ignore')\n",
        "import nltk\n",
        "nltk.download('punkt')"
      ]
    },
    {
      "cell_type": "markdown",
      "metadata": {
        "id": "c0GRQhIG4KuY"
      },
      "source": [
        "**REMOVING THE COLUMNS CONTAINING IRRELEVANT VALUES**"
      ]
    },
    {
      "cell_type": "code",
      "execution_count": null,
      "metadata": {
        "id": "F1kdb2tI9vaP"
      },
      "outputs": [],
      "source": [
        "\n",
        "df.drop(['product_name', 'product_price', 'Rate', 'Review'], axis=1, inplace=True)"
      ]
    },
    {
      "cell_type": "code",
      "execution_count": null,
      "metadata": {
        "id": "_ioJ0fJ3WP1C",
        "colab": {
          "base_uri": "https://localhost:8080/"
        },
        "outputId": "05bad8ab-e12f-4c9f-e8c5-dec5a223f9cf"
      },
      "outputs": [
        {
          "output_type": "stream",
          "name": "stderr",
          "text": [
            "[nltk_data] Downloading package stopwords to\n",
            "[nltk_data]     C:\\Users\\GPU_CA\\AppData\\Roaming\\nltk_data...\n",
            "[nltk_data]   Package stopwords is already up-to-date!\n"
          ]
        }
      ],
      "source": [
        "import numpy as np\n",
        "import pandas as pd\n",
        "import seaborn as sns\n",
        "import matplotlib.pyplot as plt\n",
        "import nltk\n",
        "nltk.download('stopwords')\n",
        "from sklearn.feature_extraction.text import CountVectorizer\n",
        "from sklearn.feature_extraction.text import TfidfVectorizer\n",
        "from sklearn.model_selection import train_test_split\n",
        "from sklearn import svm\n",
        "from nltk.corpus import stopwords\n",
        "from nltk.stem.porter import PorterStemmer\n",
        "from wordcloud import WordCloud,STOPWORDS\n",
        "from nltk.stem import WordNetLemmatizer\n",
        "from nltk.tokenize import word_tokenize,sent_tokenize\n",
        "from bs4 import BeautifulSoup\n",
        "import spacy\n",
        "import re,string,unicodedata\n",
        "from nltk.tokenize.toktok import ToktokTokenizer\n",
        "from nltk.stem import LancasterStemmer,WordNetLemmatizer\n",
        "from sklearn.svm import SVC\n",
        "from sklearn.linear_model import LogisticRegression\n",
        "from sklearn.naive_bayes import GaussianNB,MultinomialNB\n",
        "from sklearn.ensemble import RandomForestClassifier\n",
        "from textblob import TextBlob\n",
        "from textblob import Word\n",
        "from sklearn import metrics\n",
        "from sklearn.metrics import classification_report,confusion_matrix,accuracy_score\n",
        "import nltk\n",
        "from nltk.tokenize import word_tokenize\n",
        "from nltk import word_tokenize\n",
        "from nltk.tokenize import sent_tokenize\n",
        "from nltk.corpus import stopwords\n",
        "\n",
        "import os"
      ]
    },
    {
      "cell_type": "markdown",
      "metadata": {
        "id": "egv6nElN3wO4"
      },
      "source": [
        "**DATA PREPROCESSING**"
      ]
    },
    {
      "cell_type": "code",
      "source": [
        "\n",
        "Summary=df['Summary']"
      ],
      "metadata": {
        "id": "jTyEzjmy2Esy"
      },
      "execution_count": null,
      "outputs": []
    },
    {
      "cell_type": "code",
      "execution_count": null,
      "metadata": {
        "id": "0FUGCFMuZyhe",
        "colab": {
          "base_uri": "https://localhost:8080/"
        },
        "outputId": "bc9dd0d4-daf7-4547-e22e-5b774fa91134"
      },
      "outputs": [
        {
          "output_type": "execute_result",
          "data": {
            "text/plain": [
              "'best budget fit cooler nice cooling'"
            ]
          },
          "metadata": {},
          "execution_count": 10
        }
      ],
      "source": [
        "## cleaning the Summary\n",
        "def cleantext(summary):\n",
        "    if not isinstance(summary, str):\n",
        "        summary = str(summary)\n",
        "    # ... rest of the function\n",
        "    # removing the \"\\\"\n",
        "    summary = re.sub(\"'\\''\",\"\",summary)\n",
        "    # removing special symbols\n",
        "    summary = re.sub(r\"https\\S+|www\\S+https\\S+\", '',summary, flags=re.MULTILINE)\n",
        "    summary = re.sub(\"[^a-zA-Z]\",\" \",summary)\n",
        "    # removing the whitespaces\n",
        "    summary = ' '.join(summary.split())\n",
        "    # convert text to lowercase\n",
        "    summary = summary.lower()\n",
        "    return summary\n",
        "\n",
        "df['Summary'] = df['Summary'].apply(lambda x:cleantext(x))\n",
        "df['Summary'].iloc[1]"
      ]
    },
    {
      "cell_type": "markdown",
      "metadata": {
        "id": "Hnl2hXcYacB7"
      },
      "source": [
        "**Labeling**"
      ]
    },
    {
      "cell_type": "code",
      "execution_count": null,
      "metadata": {
        "id": "mhqStlpQagtO"
      },
      "outputs": [],
      "source": [
        "from sklearn.preprocessing import LabelEncoder\n",
        "\n",
        "# Create a LabelEncoder object\n",
        "encoder = LabelEncoder()\n",
        "\n",
        "# Apply label encoding to the 'Sentiment' column and create a new column 'sentiment_encoded'\n",
        "df['sentiment_encoded'] = encoder.fit_transform(df['Sentiment'])\n",
        "\n",
        "x = df['Summary']\n",
        "sentnces = [Summary.split() for Summary in x]"
      ]
    },
    {
      "cell_type": "markdown",
      "metadata": {
        "id": "TNdh1F_f4_AO"
      },
      "source": [
        "**count plot for postive, negtive and neutral sentiments**"
      ]
    },
    {
      "cell_type": "code",
      "execution_count": null,
      "metadata": {
        "id": "6PaLr5GYKOzq"
      },
      "outputs": [],
      "source": [
        "X = df['Summary']\n",
        "Y = df['sentiment_encoded']"
      ]
    },
    {
      "cell_type": "markdown",
      "metadata": {
        "id": "pceZr_wa2CYP"
      },
      "source": [
        "**Word2vec feature extraction**"
      ]
    },
    {
      "cell_type": "markdown",
      "metadata": {
        "id": "N_U4TBHi_apM"
      },
      "source": [
        "**Sparse saving in a path**"
      ]
    },
    {
      "cell_type": "code",
      "execution_count": null,
      "metadata": {
        "id": "KSWdAHbe-_nk"
      },
      "outputs": [],
      "source": [
        "from scipy import sparse\n",
        "#sparse.save_npz('C:/Users/GPU_CA/Downloads/Priya/tfidf.npz (2).txt',result)"
      ]
    },
    {
      "cell_type": "code",
      "source": [
        "import scipy.sparse as sp\n",
        "from scipy import sparse\n",
        "#path_npz='C:/Users/priya/Desktop/Priya/word2vec.npz'\n",
        "path_npz='C:/Users/GPU_CA/Downloads/Priya/word2vec.npz'\n",
        "\n",
        "#Load the Tf-idf sparse matrix from NPZ file\n",
        "x=sp.load_npz(path_npz)"
      ],
      "metadata": {
        "id": "n3oUztkZW4ZS"
      },
      "execution_count": null,
      "outputs": []
    },
    {
      "cell_type": "code",
      "source": [
        "#x1 = pd.read_csv('C:/Users/priya/Desktop/Priya/word2vec.csv')"
      ],
      "metadata": {
        "id": "ckk5u1atg1do"
      },
      "execution_count": null,
      "outputs": []
    },
    {
      "cell_type": "code",
      "execution_count": null,
      "metadata": {
        "id": "Cba3MW4NRWOG",
        "colab": {
          "base_uri": "https://localhost:8080/"
        },
        "outputId": "40d1d71f-12c8-4bd7-83ff-bdff915853de"
      },
      "outputs": [
        {
          "output_type": "execute_result",
          "data": {
            "text/plain": [
              "(205052, 100)"
            ]
          },
          "metadata": {},
          "execution_count": 16
        }
      ],
      "source": [
        "x.shape"
      ]
    },
    {
      "cell_type": "markdown",
      "metadata": {
        "id": "aNWO0BEBgTTt"
      },
      "source": [
        "**Spliting**"
      ]
    },
    {
      "cell_type": "code",
      "execution_count": null,
      "metadata": {
        "id": "8bkTWFokgSn9"
      },
      "outputs": [],
      "source": [
        "from sklearn.model_selection import train_test_split\n",
        "X_train ,X_test ,y_train, y_test =train_test_split(x,Y,test_size =0.4, random_state=42)\n",
        "X_val ,X_test1 ,y_val, y_test1 = train_test_split(X_test, y_test, test_size=0.5, random_state=42)\n"
      ]
    },
    {
      "cell_type": "code",
      "source": [
        "X_train.shape"
      ],
      "metadata": {
        "colab": {
          "base_uri": "https://localhost:8080/"
        },
        "id": "fn6cVDiW4tso",
        "outputId": "513ae6f2-9479-4e39-b0fb-4eee365c5e4f"
      },
      "execution_count": null,
      "outputs": [
        {
          "output_type": "execute_result",
          "data": {
            "text/plain": [
              "(123031, 100)"
            ]
          },
          "metadata": {},
          "execution_count": 18
        }
      ]
    },
    {
      "cell_type": "markdown",
      "source": [
        "**Undersampling using ENN**"
      ],
      "metadata": {
        "id": "H8Sb8DFoqFpd"
      }
    },
    {
      "cell_type": "code",
      "source": [
        "# Apply Near Miss undersampling\n",
        "from imblearn.under_sampling import NearMiss\n",
        "nm = NearMiss(version=1,n_neighbors=3)\n",
        "X_train_re,y_train_re = nm.fit_resample(X_train,y_train)"
      ],
      "metadata": {
        "id": "Pud9li5suZkY"
      },
      "execution_count": null,
      "outputs": []
    },
    {
      "cell_type": "code",
      "source": [
        "X_test_re,y_test_re = nm.fit_resample(X_test,y_test)\n",
        "X_val_re,y_val_re = nm.fit_resample(X_val,y_val)\n",
        "X_test1_re,y_test1_re = nm.fit_resample(X_test1,y_test1)"
      ],
      "metadata": {
        "id": "upb6YTwn4jS4"
      },
      "execution_count": null,
      "outputs": []
    },
    {
      "cell_type": "code",
      "source": [
        "print(y_train_re.value_counts())"
      ],
      "metadata": {
        "id": "V-hobYIs5t5X",
        "colab": {
          "base_uri": "https://localhost:8080/"
        },
        "outputId": "2de10431-5162-47fc-a36c-f5c430063a06"
      },
      "execution_count": null,
      "outputs": [
        {
          "output_type": "stream",
          "name": "stdout",
          "text": [
            "sentiment_encoded\n",
            "0    6116\n",
            "1    6116\n",
            "2    6116\n",
            "Name: count, dtype: int64\n"
          ]
        }
      ]
    },
    {
      "cell_type": "code",
      "source": [
        "print(X_train_re.shape)\n",
        "print(y_train_re.shape)"
      ],
      "metadata": {
        "colab": {
          "base_uri": "https://localhost:8080/"
        },
        "id": "UhY6pHwZzTM8",
        "outputId": "671c2529-cc46-41b2-edc8-5531f1db1638"
      },
      "execution_count": null,
      "outputs": [
        {
          "output_type": "stream",
          "name": "stdout",
          "text": [
            "(18348, 100)\n",
            "(18348,)\n"
          ]
        }
      ]
    },
    {
      "cell_type": "code",
      "source": [
        "X_train_re = X_train_re.toarray()\n",
        "X_test_re = X_test_re.toarray()\n",
        "X_val_re = X_val_re.toarray()\n",
        "X_test1_re =X_test1_re.toarray()"
      ],
      "metadata": {
        "id": "cQ5Da-3H67e_"
      },
      "execution_count": null,
      "outputs": []
    },
    {
      "cell_type": "code",
      "source": [
        "X_train_re.shape\n"
      ],
      "metadata": {
        "id": "K89ZZJNa7hu-",
        "colab": {
          "base_uri": "https://localhost:8080/"
        },
        "outputId": "be9e0153-e156-47bd-d944-76e03d856f9d"
      },
      "execution_count": null,
      "outputs": [
        {
          "output_type": "execute_result",
          "data": {
            "text/plain": [
              "(18348, 100)"
            ]
          },
          "metadata": {},
          "execution_count": 24
        }
      ]
    },
    {
      "cell_type": "code",
      "source": [
        "X_test_re.shape"
      ],
      "metadata": {
        "id": "h8iM9M3j7q7X",
        "colab": {
          "base_uri": "https://localhost:8080/"
        },
        "outputId": "cd2f8ee0-d429-4901-bd4d-69d3bab83ef4"
      },
      "execution_count": null,
      "outputs": [
        {
          "output_type": "execute_result",
          "data": {
            "text/plain": [
              "(12369, 100)"
            ]
          },
          "metadata": {},
          "execution_count": 25
        }
      ]
    },
    {
      "cell_type": "code",
      "source": [
        "X_val_re.shape"
      ],
      "metadata": {
        "id": "DEbxVH_Y7s62",
        "colab": {
          "base_uri": "https://localhost:8080/"
        },
        "outputId": "6b9ca87d-5761-48ab-ca09-4662a70673b0"
      },
      "execution_count": null,
      "outputs": [
        {
          "output_type": "execute_result",
          "data": {
            "text/plain": [
              "(6261, 100)"
            ]
          },
          "metadata": {},
          "execution_count": 26
        }
      ]
    },
    {
      "cell_type": "code",
      "source": [
        "X_test1_re.shape"
      ],
      "metadata": {
        "id": "X7aQojoR7uyX",
        "colab": {
          "base_uri": "https://localhost:8080/"
        },
        "outputId": "6a2cf89c-15e3-4b0b-96b3-fcd59f417a33"
      },
      "execution_count": null,
      "outputs": [
        {
          "output_type": "execute_result",
          "data": {
            "text/plain": [
              "(6108, 100)"
            ]
          },
          "metadata": {},
          "execution_count": 27
        }
      ]
    },
    {
      "cell_type": "markdown",
      "metadata": {
        "id": "gmfHP1i6hVF0"
      },
      "source": [
        "**Reshaping**"
      ]
    },
    {
      "cell_type": "code",
      "execution_count": null,
      "metadata": {
        "id": "GAfcK1gHSd3e"
      },
      "outputs": [],
      "source": [
        "X_train_re = X_train_re.reshape((X_train_re.shape[0], 1, X_train_re.shape[1]))\n",
        "X_test1_re = X_test1_re.reshape((X_test1_re.shape[0], 1, X_test1_re.shape[1]))\n",
        "X_val_re = X_val_re.reshape((X_val_re.shape[0], 1, X_val_re.shape[1]))"
      ]
    },
    {
      "cell_type": "code",
      "source": [
        "print(X_train_re.shape)\n",
        "print(X_test1_re.shape)\n",
        "print(X_val_re.shape)"
      ],
      "metadata": {
        "id": "9ZrY7lKX8e4W",
        "colab": {
          "base_uri": "https://localhost:8080/"
        },
        "outputId": "ab2d426e-b0db-4544-c1d5-872dc12a350e"
      },
      "execution_count": null,
      "outputs": [
        {
          "output_type": "stream",
          "name": "stdout",
          "text": [
            "(18348, 1, 100)\n",
            "(6108, 1, 100)\n",
            "(6261, 1, 100)\n"
          ]
        }
      ]
    },
    {
      "cell_type": "code",
      "source": [
        "print(X_train_re.shape[0])\n",
        "print(X_train_re.shape[1])\n",
        "print(X_train_re.shape[2])"
      ],
      "metadata": {
        "id": "_e-_Hg-E1FiN",
        "colab": {
          "base_uri": "https://localhost:8080/"
        },
        "outputId": "f6e8c530-9311-47cd-dbc0-495fbddac563"
      },
      "execution_count": null,
      "outputs": [
        {
          "output_type": "stream",
          "name": "stdout",
          "text": [
            "18348\n",
            "1\n",
            "100\n"
          ]
        }
      ]
    },
    {
      "cell_type": "code",
      "execution_count": null,
      "metadata": {
        "id": "7oPiste4kbeJ"
      },
      "outputs": [],
      "source": [
        "import keras.utils\n",
        "y_train = keras.utils.to_categorical(y_train_re)\n",
        "y_test1= keras.utils.to_categorical(y_test1_re)\n",
        "y_val =keras.utils.to_categorical(y_val_re)"
      ]
    },
    {
      "cell_type": "code",
      "execution_count": null,
      "metadata": {
        "id": "bpK9H76WlbyB",
        "colab": {
          "base_uri": "https://localhost:8080/"
        },
        "outputId": "43c3bf52-2586-4f3e-a1e5-2d8996b9b110"
      },
      "outputs": [
        {
          "output_type": "stream",
          "name": "stdout",
          "text": [
            "(18348, 3)\n",
            "(6108, 3)\n",
            "(6261, 3)\n"
          ]
        }
      ],
      "source": [
        "print(y_train.shape)\n",
        "print(y_test1.shape)\n",
        "print(y_val.shape)"
      ]
    },
    {
      "cell_type": "code",
      "execution_count": null,
      "metadata": {
        "id": "EKLt33mglrAp"
      },
      "outputs": [],
      "source": [
        "#from keras.layers.rnn import LSTMV1\n",
        "import tensorflow as tf\n",
        "from tensorflow.keras.layers import LSTM, GRU, SimpleRNN, Bidirectional\n",
        "from tensorflow.keras.layers import Dense\n",
        "from keras.models import Sequential, Model\n",
        "#from keras.utils import plot_model\n",
        "from keras.layers import Input, Dense, Dropout\n",
        "from keras.layers import Dense, Activation, Flatten, Convolution1D, Dropout,MaxPooling1D\n",
        "from tensorflow.keras.layers import BatchNormalization\n",
        "from tensorflow.keras.layers import Concatenate\n",
        "from tensorflow.keras import regularizers\n",
        "\n",
        "output_dim = 3\n",
        "batch_size = 32\n",
        "nb_epoch = 198"
      ]
    },
    {
      "cell_type": "code",
      "source": [
        "from tensorflow.keras.metrics import CategoricalAccuracy, Recall, Precision, AUC"
      ],
      "metadata": {
        "id": "Ho2duTHLOYyC"
      },
      "execution_count": null,
      "outputs": []
    },
    {
      "cell_type": "markdown",
      "source": [
        "**model**"
      ],
      "metadata": {
        "id": "IJY7qhsxFj7B"
      }
    },
    {
      "cell_type": "markdown",
      "source": [
        "**CNN**"
      ],
      "metadata": {
        "id": "sLfl2j0_VcCM"
      }
    },
    {
      "cell_type": "code",
      "source": [
        "# Option 1: Import the Conv1D function explicitly\n",
        "from tensorflow.keras.layers import Conv1D\n",
        "\n",
        "# Option 2: Install the necessary package"
      ],
      "metadata": {
        "id": "7Y_WFpLIVbW9"
      },
      "execution_count": null,
      "outputs": []
    },
    {
      "cell_type": "code",
      "execution_count": null,
      "metadata": {
        "id": "c___QOibVml6"
      },
      "outputs": [],
      "source": [
        "# Attention Layer\n",
        "class AttentionLayer(tf.keras.layers.Layer):\n",
        "    def __init__(self, **kwargs):\n",
        "        super(AttentionLayer, self).__init__(**kwargs)\n",
        "\n",
        "    def build(self, input_shape):\n",
        "        self.W_q = self.add_weight(name=\"W_q\",\n",
        "                                   shape=(input_shape[-1], input_shape[-1]),\n",
        "                                   initializer=\"uniform\",\n",
        "                                   trainable=True)\n",
        "        self.W_k = self.add_weight(name=\"W_k\",\n",
        "                                   shape=(input_shape[-1], input_shape[-1]),\n",
        "                                   initializer=\"uniform\",\n",
        "                                   trainable=True)\n",
        "        super(AttentionLayer, self).build(input_shape)\n",
        "\n",
        "    def call(self, x):\n",
        "        q = tf.matmul(x, self.W_q)\n",
        "        k = tf.matmul(x, self.W_k)\n",
        "        v = x\n",
        "\n",
        "        attention_score = tf.matmul(q, k, transpose_b=True)\n",
        "        attention_score = tf.nn.softmax(attention_score, axis=-1)\n",
        "        output = tf.matmul(attention_score, v)\n",
        "\n",
        "        return output\n",
        "\n",
        "# Model with Attention Layer\n",
        "def CNN1D():\n",
        "    # input layer of model for brain signals\n",
        "    inputs = tf.keras.Input(shape=(X_train_re.shape[1], X_train_re.shape[2]))\n",
        "\n",
        "    # Convolutional layers\n",
        "\n",
        "\n",
        "    conv4 = Conv1D(filters=64, kernel_size=1)(inputs)\n",
        "    pool4 = MaxPooling1D(pool_size=2)(conv4)\n",
        "\n",
        "    conv5 = Conv1D(filters=128, kernel_size=1,activation='relu')(pool4)\n",
        "    pool5 = MaxPooling1D(pool_size=2)(conv5)\n",
        "\n",
        "\n",
        "\n",
        "    # Flatten layer\n",
        "    flatten = Flatten()(pool5)\n",
        "\n",
        "    # Dense layers\n",
        "    #dense1 = Dense(32, activation='sigmoid')(flatten)\n",
        "    output = Dense(3, activation='softmax')(flatten)\n",
        "\n",
        "    # Create model\n",
        "    model = Model(inputs=inputs, outputs=output)\n",
        "    print(model.summary())\n",
        "    return model"
      ]
    },
    {
      "cell_type": "code",
      "execution_count": null,
      "metadata": {
        "colab": {
          "base_uri": "https://localhost:8080/",
          "height": 398
        },
        "id": "GfVXTiVdCx2H",
        "outputId": "a6368e19-bfa0-420c-9ef5-beca7e6049a3"
      },
      "outputs": [
        {
          "output_type": "display_data",
          "data": {
            "text/plain": [
              "\u001b[1mModel: \"functional_9\"\u001b[0m\n"
            ],
            "text/html": [
              "<pre style=\"white-space:pre;overflow-x:auto;line-height:normal;font-family:Menlo,'DejaVu Sans Mono',consolas,'Courier New',monospace\"><span style=\"font-weight: bold\">Model: \"functional_9\"</span>\n",
              "</pre>\n"
            ]
          },
          "metadata": {}
        },
        {
          "output_type": "display_data",
          "data": {
            "text/plain": [
              "┏━━━━━━━━━━━━━━━━━━━━━━━━━━━━━━━━━━━━━━┳━━━━━━━━━━━━━━━━━━━━━━━━━━━━━┳━━━━━━━━━━━━━━━━━┓\n",
              "┃\u001b[1m \u001b[0m\u001b[1mLayer (type)                        \u001b[0m\u001b[1m \u001b[0m┃\u001b[1m \u001b[0m\u001b[1mOutput Shape               \u001b[0m\u001b[1m \u001b[0m┃\u001b[1m \u001b[0m\u001b[1m        Param #\u001b[0m\u001b[1m \u001b[0m┃\n",
              "┡━━━━━━━━━━━━━━━━━━━━━━━━━━━━━━━━━━━━━━╇━━━━━━━━━━━━━━━━━━━━━━━━━━━━━╇━━━━━━━━━━━━━━━━━┩\n",
              "│ input_layer_5 (\u001b[38;5;33mInputLayer\u001b[0m)           │ (\u001b[38;5;45mNone\u001b[0m, \u001b[38;5;34m1\u001b[0m, \u001b[38;5;34m100\u001b[0m)              │               \u001b[38;5;34m0\u001b[0m │\n",
              "├──────────────────────────────────────┼─────────────────────────────┼─────────────────┤\n",
              "│ conv1d_8 (\u001b[38;5;33mConv1D\u001b[0m)                    │ (\u001b[38;5;45mNone\u001b[0m, \u001b[38;5;34m1\u001b[0m, \u001b[38;5;34m64\u001b[0m)               │           \u001b[38;5;34m6,464\u001b[0m │\n",
              "├──────────────────────────────────────┼─────────────────────────────┼─────────────────┤\n",
              "│ max_pooling1d_9 (\u001b[38;5;33mMaxPooling1D\u001b[0m)       │ (\u001b[38;5;45mNone\u001b[0m, \u001b[38;5;34m0\u001b[0m, \u001b[38;5;34m64\u001b[0m)               │               \u001b[38;5;34m0\u001b[0m │\n",
              "├──────────────────────────────────────┼─────────────────────────────┼─────────────────┤\n",
              "│ conv1d_9 (\u001b[38;5;33mConv1D\u001b[0m)                    │ (\u001b[38;5;45mNone\u001b[0m, \u001b[38;5;34m0\u001b[0m, \u001b[38;5;34m128\u001b[0m)              │           \u001b[38;5;34m8,320\u001b[0m │\n",
              "├──────────────────────────────────────┼─────────────────────────────┼─────────────────┤\n",
              "│ max_pooling1d_10 (\u001b[38;5;33mMaxPooling1D\u001b[0m)      │ (\u001b[38;5;45mNone\u001b[0m, \u001b[38;5;34m0\u001b[0m, \u001b[38;5;34m128\u001b[0m)              │               \u001b[38;5;34m0\u001b[0m │\n",
              "├──────────────────────────────────────┼─────────────────────────────┼─────────────────┤\n",
              "│ flatten_4 (\u001b[38;5;33mFlatten\u001b[0m)                  │ (\u001b[38;5;45mNone\u001b[0m, \u001b[38;5;34m0\u001b[0m)                   │               \u001b[38;5;34m0\u001b[0m │\n",
              "├──────────────────────────────────────┼─────────────────────────────┼─────────────────┤\n",
              "│ dense_4 (\u001b[38;5;33mDense\u001b[0m)                      │ (\u001b[38;5;45mNone\u001b[0m, \u001b[38;5;34m3\u001b[0m)                   │               \u001b[38;5;34m3\u001b[0m │\n",
              "└──────────────────────────────────────┴─────────────────────────────┴─────────────────┘\n"
            ],
            "text/html": [
              "<pre style=\"white-space:pre;overflow-x:auto;line-height:normal;font-family:Menlo,'DejaVu Sans Mono',consolas,'Courier New',monospace\">┏━━━━━━━━━━━━━━━━━━━━━━━━━━━━━━━━━━━━━━┳━━━━━━━━━━━━━━━━━━━━━━━━━━━━━┳━━━━━━━━━━━━━━━━━┓\n",
              "┃<span style=\"font-weight: bold\"> Layer (type)                         </span>┃<span style=\"font-weight: bold\"> Output Shape                </span>┃<span style=\"font-weight: bold\">         Param # </span>┃\n",
              "┡━━━━━━━━━━━━━━━━━━━━━━━━━━━━━━━━━━━━━━╇━━━━━━━━━━━━━━━━━━━━━━━━━━━━━╇━━━━━━━━━━━━━━━━━┩\n",
              "│ input_layer_5 (<span style=\"color: #0087ff; text-decoration-color: #0087ff\">InputLayer</span>)           │ (<span style=\"color: #00d7ff; text-decoration-color: #00d7ff\">None</span>, <span style=\"color: #00af00; text-decoration-color: #00af00\">1</span>, <span style=\"color: #00af00; text-decoration-color: #00af00\">100</span>)              │               <span style=\"color: #00af00; text-decoration-color: #00af00\">0</span> │\n",
              "├──────────────────────────────────────┼─────────────────────────────┼─────────────────┤\n",
              "│ conv1d_8 (<span style=\"color: #0087ff; text-decoration-color: #0087ff\">Conv1D</span>)                    │ (<span style=\"color: #00d7ff; text-decoration-color: #00d7ff\">None</span>, <span style=\"color: #00af00; text-decoration-color: #00af00\">1</span>, <span style=\"color: #00af00; text-decoration-color: #00af00\">64</span>)               │           <span style=\"color: #00af00; text-decoration-color: #00af00\">6,464</span> │\n",
              "├──────────────────────────────────────┼─────────────────────────────┼─────────────────┤\n",
              "│ max_pooling1d_9 (<span style=\"color: #0087ff; text-decoration-color: #0087ff\">MaxPooling1D</span>)       │ (<span style=\"color: #00d7ff; text-decoration-color: #00d7ff\">None</span>, <span style=\"color: #00af00; text-decoration-color: #00af00\">0</span>, <span style=\"color: #00af00; text-decoration-color: #00af00\">64</span>)               │               <span style=\"color: #00af00; text-decoration-color: #00af00\">0</span> │\n",
              "├──────────────────────────────────────┼─────────────────────────────┼─────────────────┤\n",
              "│ conv1d_9 (<span style=\"color: #0087ff; text-decoration-color: #0087ff\">Conv1D</span>)                    │ (<span style=\"color: #00d7ff; text-decoration-color: #00d7ff\">None</span>, <span style=\"color: #00af00; text-decoration-color: #00af00\">0</span>, <span style=\"color: #00af00; text-decoration-color: #00af00\">128</span>)              │           <span style=\"color: #00af00; text-decoration-color: #00af00\">8,320</span> │\n",
              "├──────────────────────────────────────┼─────────────────────────────┼─────────────────┤\n",
              "│ max_pooling1d_10 (<span style=\"color: #0087ff; text-decoration-color: #0087ff\">MaxPooling1D</span>)      │ (<span style=\"color: #00d7ff; text-decoration-color: #00d7ff\">None</span>, <span style=\"color: #00af00; text-decoration-color: #00af00\">0</span>, <span style=\"color: #00af00; text-decoration-color: #00af00\">128</span>)              │               <span style=\"color: #00af00; text-decoration-color: #00af00\">0</span> │\n",
              "├──────────────────────────────────────┼─────────────────────────────┼─────────────────┤\n",
              "│ flatten_4 (<span style=\"color: #0087ff; text-decoration-color: #0087ff\">Flatten</span>)                  │ (<span style=\"color: #00d7ff; text-decoration-color: #00d7ff\">None</span>, <span style=\"color: #00af00; text-decoration-color: #00af00\">0</span>)                   │               <span style=\"color: #00af00; text-decoration-color: #00af00\">0</span> │\n",
              "├──────────────────────────────────────┼─────────────────────────────┼─────────────────┤\n",
              "│ dense_4 (<span style=\"color: #0087ff; text-decoration-color: #0087ff\">Dense</span>)                      │ (<span style=\"color: #00d7ff; text-decoration-color: #00d7ff\">None</span>, <span style=\"color: #00af00; text-decoration-color: #00af00\">3</span>)                   │               <span style=\"color: #00af00; text-decoration-color: #00af00\">3</span> │\n",
              "└──────────────────────────────────────┴─────────────────────────────┴─────────────────┘\n",
              "</pre>\n"
            ]
          },
          "metadata": {}
        },
        {
          "output_type": "display_data",
          "data": {
            "text/plain": [
              "\u001b[1m Total params: \u001b[0m\u001b[38;5;34m14,787\u001b[0m (57.76 KB)\n"
            ],
            "text/html": [
              "<pre style=\"white-space:pre;overflow-x:auto;line-height:normal;font-family:Menlo,'DejaVu Sans Mono',consolas,'Courier New',monospace\"><span style=\"font-weight: bold\"> Total params: </span><span style=\"color: #00af00; text-decoration-color: #00af00\">14,787</span> (57.76 KB)\n",
              "</pre>\n"
            ]
          },
          "metadata": {}
        },
        {
          "output_type": "display_data",
          "data": {
            "text/plain": [
              "\u001b[1m Trainable params: \u001b[0m\u001b[38;5;34m14,787\u001b[0m (57.76 KB)\n"
            ],
            "text/html": [
              "<pre style=\"white-space:pre;overflow-x:auto;line-height:normal;font-family:Menlo,'DejaVu Sans Mono',consolas,'Courier New',monospace\"><span style=\"font-weight: bold\"> Trainable params: </span><span style=\"color: #00af00; text-decoration-color: #00af00\">14,787</span> (57.76 KB)\n",
              "</pre>\n"
            ]
          },
          "metadata": {}
        },
        {
          "output_type": "display_data",
          "data": {
            "text/plain": [
              "\u001b[1m Non-trainable params: \u001b[0m\u001b[38;5;34m0\u001b[0m (0.00 B)\n"
            ],
            "text/html": [
              "<pre style=\"white-space:pre;overflow-x:auto;line-height:normal;font-family:Menlo,'DejaVu Sans Mono',consolas,'Courier New',monospace\"><span style=\"font-weight: bold\"> Non-trainable params: </span><span style=\"color: #00af00; text-decoration-color: #00af00\">0</span> (0.00 B)\n",
              "</pre>\n"
            ]
          },
          "metadata": {}
        },
        {
          "output_type": "stream",
          "name": "stdout",
          "text": [
            "None\n"
          ]
        }
      ],
      "source": [
        "#creating model\n",
        "model1 = CNN1D()\n",
        "#Compiling model\n",
        "model1.compile(loss=tf.keras.losses.CategoricalCrossentropy(),\n",
        "                  optimizer=tf.keras.optimizers.Adam(learning_rate=0.01),\n",
        "                  metrics=[tf.keras.metrics.CategoricalAccuracy(name='accuracy', dtype=None),\n",
        "                  tf.keras.metrics.Recall(name='Recall'),\n",
        "                  tf.keras.metrics.Precision(name='Precision'),\n",
        "                  tf.keras.metrics.AUC(num_thresholds=200,\n",
        "                                       curve=\"ROC\",\n",
        "                                       summation_method=\"interpolation\",\n",
        "                                        name=\"AUC\",\n",
        "                                        dtype=None,\n",
        "                                        thresholds=None,\n",
        "                                        multi_label=True,\n",
        "                                       label_weights=None,)])"
      ]
    },
    {
      "cell_type": "code",
      "source": [
        "print(classification_report(y_test1.argmax(axis=1), pred.argmax(axis=1)))"
      ],
      "metadata": {
        "id": "hFBpyOfqUHVy"
      },
      "execution_count": null,
      "outputs": []
    },
    {
      "cell_type": "code",
      "source": [
        "# Model with Attention Layer\n",
        "def create_model():\n",
        "    # input layer of model for brain signals\n",
        "    inputs = tf.keras.Input(shape=(X_train_re.shape[1], X_train_re.shape[2]))\n",
        "    #inputs = tf.keras.Input(shape=(1,42370))\n",
        "\n",
        "    gru1_1 = GRU(2048, return_sequences=True,dropout=0.2)(inputs)\n",
        "\n",
        "    gru1_2 = GRU(1024, return_sequences=True,dropout=0.2)(gru1_1)\n",
        "\n",
        "    gru1_3 = GRU(512, return_sequences=True,dropout=0.2)(gru1_2)\n",
        "    #concat = Concatenate()([gru1_3, gru2_3, gru3_3])\n",
        "\n",
        "    # Apply Attention Layer\n",
        "    #attention_output = AttentionLayer()(gru1_2)\n",
        "\n",
        "    # Concatenate Attention Output and Concat\n",
        "    #attention_concat = Concatenate()([concat, attention_output])\n",
        "\n",
        "    #flatten = Flatten()(gru1_)\n",
        "\n",
        "    rnn1 = SimpleRNN(128,dropout=0.2)(gru1_3)\n",
        "\n",
        "    #rnn4 = SimpleRNN(32, return_sequences= True)(rnn1)\n",
        "\n",
        "    output1 = Dense(32, activation='relu')(rnn1)\n",
        "\n",
        "    outputs = Dense(3, activation='softmax')(output1)\n",
        "\n",
        "    model = Model(inputs=inputs, outputs=outputs)\n",
        "    print(model.summary())\n",
        "    return model"
      ],
      "metadata": {
        "id": "4SZfsS5RFnKi"
      },
      "execution_count": null,
      "outputs": []
    },
    {
      "cell_type": "code",
      "source": [
        "#cretaing model\n",
        "rnnmodel = create_model()\n",
        "#Compiling model\n",
        "rnnmodel.compile(loss=tf.keras.losses.CategoricalCrossentropy(),\n",
        "                  optimizer=tf.keras.optimizers.Adam(learning_rate=0.01),\n",
        "                  metrics=[tf.keras.metrics.CategoricalAccuracy(name='accuracy', dtype=None),\n",
        "                  tf.keras.metrics.Recall(name='Recall'),\n",
        "                  tf.keras.metrics.Precision(name='Precision'),\n",
        "                  tf.keras.metrics.AUC( num_thresholds=200,\n",
        "                                        curve=\"ROC\",\n",
        "                                        summation_method=\"interpolation\",\n",
        "                                        name=\"AUC\",\n",
        "                                        dtype=None,\n",
        "                                        thresholds=None,\n",
        "                                        multi_label=True,\n",
        "                                       label_weights=None,)])"
      ],
      "metadata": {
        "colab": {
          "base_uri": "https://localhost:8080/",
          "height": 398
        },
        "id": "iEcDxUK20TKC",
        "outputId": "8e9b4516-1b57-461e-d11d-9f17f535c404"
      },
      "execution_count": null,
      "outputs": [
        {
          "output_type": "display_data",
          "data": {
            "text/plain": [
              "\u001b[1mModel: \"functional_11\"\u001b[0m\n"
            ],
            "text/html": [
              "<pre style=\"white-space:pre;overflow-x:auto;line-height:normal;font-family:Menlo,'DejaVu Sans Mono',consolas,'Courier New',monospace\"><span style=\"font-weight: bold\">Model: \"functional_11\"</span>\n",
              "</pre>\n"
            ]
          },
          "metadata": {}
        },
        {
          "output_type": "display_data",
          "data": {
            "text/plain": [
              "┏━━━━━━━━━━━━━━━━━━━━━━━━━━━━━━━━━━━━━━┳━━━━━━━━━━━━━━━━━━━━━━━━━━━━━┳━━━━━━━━━━━━━━━━━┓\n",
              "┃\u001b[1m \u001b[0m\u001b[1mLayer (type)                        \u001b[0m\u001b[1m \u001b[0m┃\u001b[1m \u001b[0m\u001b[1mOutput Shape               \u001b[0m\u001b[1m \u001b[0m┃\u001b[1m \u001b[0m\u001b[1m        Param #\u001b[0m\u001b[1m \u001b[0m┃\n",
              "┡━━━━━━━━━━━━━━━━━━━━━━━━━━━━━━━━━━━━━━╇━━━━━━━━━━━━━━━━━━━━━━━━━━━━━╇━━━━━━━━━━━━━━━━━┩\n",
              "│ input_layer_6 (\u001b[38;5;33mInputLayer\u001b[0m)           │ (\u001b[38;5;45mNone\u001b[0m, \u001b[38;5;34m1\u001b[0m, \u001b[38;5;34m100\u001b[0m)              │               \u001b[38;5;34m0\u001b[0m │\n",
              "├──────────────────────────────────────┼─────────────────────────────┼─────────────────┤\n",
              "│ gru (\u001b[38;5;33mGRU\u001b[0m)                            │ (\u001b[38;5;45mNone\u001b[0m, \u001b[38;5;34m1\u001b[0m, \u001b[38;5;34m2048\u001b[0m)             │      \u001b[38;5;34m13,209,600\u001b[0m │\n",
              "├──────────────────────────────────────┼─────────────────────────────┼─────────────────┤\n",
              "│ gru_1 (\u001b[38;5;33mGRU\u001b[0m)                          │ (\u001b[38;5;45mNone\u001b[0m, \u001b[38;5;34m1\u001b[0m, \u001b[38;5;34m1024\u001b[0m)             │       \u001b[38;5;34m9,443,328\u001b[0m │\n",
              "├──────────────────────────────────────┼─────────────────────────────┼─────────────────┤\n",
              "│ gru_2 (\u001b[38;5;33mGRU\u001b[0m)                          │ (\u001b[38;5;45mNone\u001b[0m, \u001b[38;5;34m1\u001b[0m, \u001b[38;5;34m512\u001b[0m)              │       \u001b[38;5;34m2,362,368\u001b[0m │\n",
              "├──────────────────────────────────────┼─────────────────────────────┼─────────────────┤\n",
              "│ simple_rnn (\u001b[38;5;33mSimpleRNN\u001b[0m)               │ (\u001b[38;5;45mNone\u001b[0m, \u001b[38;5;34m128\u001b[0m)                 │          \u001b[38;5;34m82,048\u001b[0m │\n",
              "├──────────────────────────────────────┼─────────────────────────────┼─────────────────┤\n",
              "│ dense_5 (\u001b[38;5;33mDense\u001b[0m)                      │ (\u001b[38;5;45mNone\u001b[0m, \u001b[38;5;34m32\u001b[0m)                  │           \u001b[38;5;34m4,128\u001b[0m │\n",
              "├──────────────────────────────────────┼─────────────────────────────┼─────────────────┤\n",
              "│ dense_6 (\u001b[38;5;33mDense\u001b[0m)                      │ (\u001b[38;5;45mNone\u001b[0m, \u001b[38;5;34m3\u001b[0m)                   │              \u001b[38;5;34m99\u001b[0m │\n",
              "└──────────────────────────────────────┴─────────────────────────────┴─────────────────┘\n"
            ],
            "text/html": [
              "<pre style=\"white-space:pre;overflow-x:auto;line-height:normal;font-family:Menlo,'DejaVu Sans Mono',consolas,'Courier New',monospace\">┏━━━━━━━━━━━━━━━━━━━━━━━━━━━━━━━━━━━━━━┳━━━━━━━━━━━━━━━━━━━━━━━━━━━━━┳━━━━━━━━━━━━━━━━━┓\n",
              "┃<span style=\"font-weight: bold\"> Layer (type)                         </span>┃<span style=\"font-weight: bold\"> Output Shape                </span>┃<span style=\"font-weight: bold\">         Param # </span>┃\n",
              "┡━━━━━━━━━━━━━━━━━━━━━━━━━━━━━━━━━━━━━━╇━━━━━━━━━━━━━━━━━━━━━━━━━━━━━╇━━━━━━━━━━━━━━━━━┩\n",
              "│ input_layer_6 (<span style=\"color: #0087ff; text-decoration-color: #0087ff\">InputLayer</span>)           │ (<span style=\"color: #00d7ff; text-decoration-color: #00d7ff\">None</span>, <span style=\"color: #00af00; text-decoration-color: #00af00\">1</span>, <span style=\"color: #00af00; text-decoration-color: #00af00\">100</span>)              │               <span style=\"color: #00af00; text-decoration-color: #00af00\">0</span> │\n",
              "├──────────────────────────────────────┼─────────────────────────────┼─────────────────┤\n",
              "│ gru (<span style=\"color: #0087ff; text-decoration-color: #0087ff\">GRU</span>)                            │ (<span style=\"color: #00d7ff; text-decoration-color: #00d7ff\">None</span>, <span style=\"color: #00af00; text-decoration-color: #00af00\">1</span>, <span style=\"color: #00af00; text-decoration-color: #00af00\">2048</span>)             │      <span style=\"color: #00af00; text-decoration-color: #00af00\">13,209,600</span> │\n",
              "├──────────────────────────────────────┼─────────────────────────────┼─────────────────┤\n",
              "│ gru_1 (<span style=\"color: #0087ff; text-decoration-color: #0087ff\">GRU</span>)                          │ (<span style=\"color: #00d7ff; text-decoration-color: #00d7ff\">None</span>, <span style=\"color: #00af00; text-decoration-color: #00af00\">1</span>, <span style=\"color: #00af00; text-decoration-color: #00af00\">1024</span>)             │       <span style=\"color: #00af00; text-decoration-color: #00af00\">9,443,328</span> │\n",
              "├──────────────────────────────────────┼─────────────────────────────┼─────────────────┤\n",
              "│ gru_2 (<span style=\"color: #0087ff; text-decoration-color: #0087ff\">GRU</span>)                          │ (<span style=\"color: #00d7ff; text-decoration-color: #00d7ff\">None</span>, <span style=\"color: #00af00; text-decoration-color: #00af00\">1</span>, <span style=\"color: #00af00; text-decoration-color: #00af00\">512</span>)              │       <span style=\"color: #00af00; text-decoration-color: #00af00\">2,362,368</span> │\n",
              "├──────────────────────────────────────┼─────────────────────────────┼─────────────────┤\n",
              "│ simple_rnn (<span style=\"color: #0087ff; text-decoration-color: #0087ff\">SimpleRNN</span>)               │ (<span style=\"color: #00d7ff; text-decoration-color: #00d7ff\">None</span>, <span style=\"color: #00af00; text-decoration-color: #00af00\">128</span>)                 │          <span style=\"color: #00af00; text-decoration-color: #00af00\">82,048</span> │\n",
              "├──────────────────────────────────────┼─────────────────────────────┼─────────────────┤\n",
              "│ dense_5 (<span style=\"color: #0087ff; text-decoration-color: #0087ff\">Dense</span>)                      │ (<span style=\"color: #00d7ff; text-decoration-color: #00d7ff\">None</span>, <span style=\"color: #00af00; text-decoration-color: #00af00\">32</span>)                  │           <span style=\"color: #00af00; text-decoration-color: #00af00\">4,128</span> │\n",
              "├──────────────────────────────────────┼─────────────────────────────┼─────────────────┤\n",
              "│ dense_6 (<span style=\"color: #0087ff; text-decoration-color: #0087ff\">Dense</span>)                      │ (<span style=\"color: #00d7ff; text-decoration-color: #00d7ff\">None</span>, <span style=\"color: #00af00; text-decoration-color: #00af00\">3</span>)                   │              <span style=\"color: #00af00; text-decoration-color: #00af00\">99</span> │\n",
              "└──────────────────────────────────────┴─────────────────────────────┴─────────────────┘\n",
              "</pre>\n"
            ]
          },
          "metadata": {}
        },
        {
          "output_type": "display_data",
          "data": {
            "text/plain": [
              "\u001b[1m Total params: \u001b[0m\u001b[38;5;34m25,101,571\u001b[0m (95.75 MB)\n"
            ],
            "text/html": [
              "<pre style=\"white-space:pre;overflow-x:auto;line-height:normal;font-family:Menlo,'DejaVu Sans Mono',consolas,'Courier New',monospace\"><span style=\"font-weight: bold\"> Total params: </span><span style=\"color: #00af00; text-decoration-color: #00af00\">25,101,571</span> (95.75 MB)\n",
              "</pre>\n"
            ]
          },
          "metadata": {}
        },
        {
          "output_type": "display_data",
          "data": {
            "text/plain": [
              "\u001b[1m Trainable params: \u001b[0m\u001b[38;5;34m25,101,571\u001b[0m (95.75 MB)\n"
            ],
            "text/html": [
              "<pre style=\"white-space:pre;overflow-x:auto;line-height:normal;font-family:Menlo,'DejaVu Sans Mono',consolas,'Courier New',monospace\"><span style=\"font-weight: bold\"> Trainable params: </span><span style=\"color: #00af00; text-decoration-color: #00af00\">25,101,571</span> (95.75 MB)\n",
              "</pre>\n"
            ]
          },
          "metadata": {}
        },
        {
          "output_type": "display_data",
          "data": {
            "text/plain": [
              "\u001b[1m Non-trainable params: \u001b[0m\u001b[38;5;34m0\u001b[0m (0.00 B)\n"
            ],
            "text/html": [
              "<pre style=\"white-space:pre;overflow-x:auto;line-height:normal;font-family:Menlo,'DejaVu Sans Mono',consolas,'Courier New',monospace\"><span style=\"font-weight: bold\"> Non-trainable params: </span><span style=\"color: #00af00; text-decoration-color: #00af00\">0</span> (0.00 B)\n",
              "</pre>\n"
            ]
          },
          "metadata": {}
        },
        {
          "output_type": "stream",
          "name": "stdout",
          "text": [
            "None\n"
          ]
        }
      ]
    },
    {
      "cell_type": "code",
      "source": [
        "history = rnnmodel.fit(X_train_re, y_train, epochs=30, batch_size=64, validation_data=(X_val_re, y_val))"
      ],
      "metadata": {
        "id": "dgNw-bT6pPE6",
        "colab": {
          "base_uri": "https://localhost:8080/"
        },
        "outputId": "7cef24a5-8f12-46fb-f34e-a78a6e9a4788"
      },
      "execution_count": null,
      "outputs": [
        {
          "output_type": "stream",
          "name": "stdout",
          "text": [
            "Epoch 1/30\n",
            "\u001b[1m287/287\u001b[0m \u001b[32m━━━━━━━━━━━━━━━━━━━━\u001b[0m\u001b[37m\u001b[0m \u001b[1m69s\u001b[0m 214ms/step - AUC: 0.7733 - Precision: 0.6980 - Recall: 0.3904 - accuracy: 0.6084 - loss: 0.9235 - val_AUC: 0.8714 - val_Precision: 0.6962 - val_Recall: 0.6830 - val_accuracy: 0.6874 - val_loss: 0.6353\n",
            "Epoch 2/30\n",
            "\u001b[1m287/287\u001b[0m \u001b[32m━━━━━━━━━━━━━━━━━━━━\u001b[0m\u001b[37m\u001b[0m \u001b[1m60s\u001b[0m 209ms/step - AUC: 0.8823 - Precision: 0.7638 - Recall: 0.7419 - accuracy: 0.7530 - loss: 0.5948 - val_AUC: 0.8816 - val_Precision: 0.7096 - val_Recall: 0.7036 - val_accuracy: 0.7069 - val_loss: 0.6383\n",
            "Epoch 3/30\n",
            "\u001b[1m287/287\u001b[0m \u001b[32m━━━━━━━━━━━━━━━━━━━━\u001b[0m\u001b[37m\u001b[0m \u001b[1m60s\u001b[0m 210ms/step - AUC: 0.9036 - Precision: 0.7719 - Recall: 0.7549 - accuracy: 0.7664 - loss: 0.5470 - val_AUC: 0.8928 - val_Precision: 0.7654 - val_Recall: 0.7591 - val_accuracy: 0.7620 - val_loss: 0.5846\n",
            "Epoch 4/30\n",
            "\u001b[1m287/287\u001b[0m \u001b[32m━━━━━━━━━━━━━━━━━━━━\u001b[0m\u001b[37m\u001b[0m \u001b[1m60s\u001b[0m 210ms/step - AUC: 0.9120 - Precision: 0.7859 - Recall: 0.7694 - accuracy: 0.7788 - loss: 0.5213 - val_AUC: 0.8862 - val_Precision: 0.7196 - val_Recall: 0.6854 - val_accuracy: 0.7092 - val_loss: 0.6052\n",
            "Epoch 5/30\n",
            "\u001b[1m287/287\u001b[0m \u001b[32m━━━━━━━━━━━━━━━━━━━━\u001b[0m\u001b[37m\u001b[0m \u001b[1m61s\u001b[0m 211ms/step - AUC: 0.9067 - Precision: 0.7819 - Recall: 0.7600 - accuracy: 0.7730 - loss: 0.5408 - val_AUC: 0.9014 - val_Precision: 0.7741 - val_Recall: 0.7575 - val_accuracy: 0.7673 - val_loss: 0.5496\n",
            "Epoch 6/30\n",
            "\u001b[1m287/287\u001b[0m \u001b[32m━━━━━━━━━━━━━━━━━━━━\u001b[0m\u001b[37m\u001b[0m \u001b[1m60s\u001b[0m 210ms/step - AUC: 0.9137 - Precision: 0.7895 - Recall: 0.7725 - accuracy: 0.7840 - loss: 0.5201 - val_AUC: 0.8951 - val_Precision: 0.7515 - val_Recall: 0.7377 - val_accuracy: 0.7480 - val_loss: 0.6042\n",
            "Epoch 7/30\n",
            "\u001b[1m287/287\u001b[0m \u001b[32m━━━━━━━━━━━━━━━━━━━━\u001b[0m\u001b[37m\u001b[0m \u001b[1m60s\u001b[0m 208ms/step - AUC: 0.9131 - Precision: 0.7866 - Recall: 0.7685 - accuracy: 0.7790 - loss: 0.5227 - val_AUC: 0.8976 - val_Precision: 0.7718 - val_Recall: 0.7444 - val_accuracy: 0.7593 - val_loss: 0.6082\n",
            "Epoch 8/30\n",
            "\u001b[1m287/287\u001b[0m \u001b[32m━━━━━━━━━━━━━━━━━━━━\u001b[0m\u001b[37m\u001b[0m \u001b[1m61s\u001b[0m 211ms/step - AUC: 0.9067 - Precision: 0.7877 - Recall: 0.7666 - accuracy: 0.7808 - loss: 0.5430 - val_AUC: 0.9006 - val_Precision: 0.7663 - val_Recall: 0.7625 - val_accuracy: 0.7651 - val_loss: 0.5593\n",
            "Epoch 9/30\n",
            "\u001b[1m287/287\u001b[0m \u001b[32m━━━━━━━━━━━━━━━━━━━━\u001b[0m\u001b[37m\u001b[0m \u001b[1m60s\u001b[0m 209ms/step - AUC: 0.9146 - Precision: 0.7943 - Recall: 0.7760 - accuracy: 0.7866 - loss: 0.5141 - val_AUC: 0.8977 - val_Precision: 0.7160 - val_Recall: 0.7063 - val_accuracy: 0.7120 - val_loss: 0.5991\n",
            "Epoch 10/30\n",
            "\u001b[1m287/287\u001b[0m \u001b[32m━━━━━━━━━━━━━━━━━━━━\u001b[0m\u001b[37m\u001b[0m \u001b[1m62s\u001b[0m 216ms/step - AUC: 0.9092 - Precision: 0.7917 - Recall: 0.7679 - accuracy: 0.7817 - loss: 0.5294 - val_AUC: 0.9003 - val_Precision: 0.7704 - val_Recall: 0.7285 - val_accuracy: 0.7572 - val_loss: 0.5572\n",
            "Epoch 11/30\n",
            "\u001b[1m287/287\u001b[0m \u001b[32m━━━━━━━━━━━━━━━━━━━━\u001b[0m\u001b[37m\u001b[0m \u001b[1m61s\u001b[0m 211ms/step - AUC: 0.9148 - Precision: 0.7946 - Recall: 0.7682 - accuracy: 0.7838 - loss: 0.5166 - val_AUC: 0.9008 - val_Precision: 0.7604 - val_Recall: 0.7536 - val_accuracy: 0.7580 - val_loss: 0.5697\n",
            "Epoch 12/30\n",
            "\u001b[1m287/287\u001b[0m \u001b[32m━━━━━━━━━━━━━━━━━━━━\u001b[0m\u001b[37m\u001b[0m \u001b[1m60s\u001b[0m 210ms/step - AUC: 0.9146 - Precision: 0.7879 - Recall: 0.7741 - accuracy: 0.7824 - loss: 0.5154 - val_AUC: 0.9068 - val_Precision: 0.7786 - val_Recall: 0.7652 - val_accuracy: 0.7738 - val_loss: 0.5397\n",
            "Epoch 13/30\n",
            "\u001b[1m287/287\u001b[0m \u001b[32m━━━━━━━━━━━━━━━━━━━━\u001b[0m\u001b[37m\u001b[0m \u001b[1m61s\u001b[0m 212ms/step - AUC: 0.9129 - Precision: 0.7857 - Recall: 0.7672 - accuracy: 0.7795 - loss: 0.5204 - val_AUC: 0.8825 - val_Precision: 0.7622 - val_Recall: 0.6020 - val_accuracy: 0.6540 - val_loss: 0.6527\n",
            "Epoch 14/30\n",
            "\u001b[1m287/287\u001b[0m \u001b[32m━━━━━━━━━━━━━━━━━━━━\u001b[0m\u001b[37m\u001b[0m \u001b[1m60s\u001b[0m 210ms/step - AUC: 0.9087 - Precision: 0.7867 - Recall: 0.7601 - accuracy: 0.7751 - loss: 0.5377 - val_AUC: 0.8997 - val_Precision: 0.7630 - val_Recall: 0.7542 - val_accuracy: 0.7595 - val_loss: 0.5682\n",
            "Epoch 15/30\n",
            "\u001b[1m287/287\u001b[0m \u001b[32m━━━━━━━━━━━━━━━━━━━━\u001b[0m\u001b[37m\u001b[0m \u001b[1m61s\u001b[0m 211ms/step - AUC: 0.9128 - Precision: 0.7940 - Recall: 0.7780 - accuracy: 0.7876 - loss: 0.5253 - val_AUC: 0.9052 - val_Precision: 0.7713 - val_Recall: 0.7574 - val_accuracy: 0.7643 - val_loss: 0.5503\n",
            "Epoch 16/30\n",
            "\u001b[1m287/287\u001b[0m \u001b[32m━━━━━━━━━━━━━━━━━━━━\u001b[0m\u001b[37m\u001b[0m \u001b[1m60s\u001b[0m 208ms/step - AUC: 0.9102 - Precision: 0.7958 - Recall: 0.7802 - accuracy: 0.7902 - loss: 0.5343 - val_AUC: 0.8932 - val_Precision: 0.7719 - val_Recall: 0.7539 - val_accuracy: 0.7601 - val_loss: 0.5779\n",
            "Epoch 17/30\n",
            "\u001b[1m287/287\u001b[0m \u001b[32m━━━━━━━━━━━━━━━━━━━━\u001b[0m\u001b[37m\u001b[0m \u001b[1m61s\u001b[0m 212ms/step - AUC: 0.9168 - Precision: 0.7968 - Recall: 0.7705 - accuracy: 0.7856 - loss: 0.5109 - val_AUC: 0.9024 - val_Precision: 0.7776 - val_Recall: 0.7635 - val_accuracy: 0.7740 - val_loss: 0.5557\n",
            "Epoch 18/30\n",
            "\u001b[1m287/287\u001b[0m \u001b[32m━━━━━━━━━━━━━━━━━━━━\u001b[0m\u001b[37m\u001b[0m \u001b[1m60s\u001b[0m 210ms/step - AUC: 0.9124 - Precision: 0.7941 - Recall: 0.7703 - accuracy: 0.7837 - loss: 0.5244 - val_AUC: 0.9028 - val_Precision: 0.7757 - val_Recall: 0.7727 - val_accuracy: 0.7745 - val_loss: 0.5600\n",
            "Epoch 19/30\n",
            "\u001b[1m287/287\u001b[0m \u001b[32m━━━━━━━━━━━━━━━━━━━━\u001b[0m\u001b[37m\u001b[0m \u001b[1m60s\u001b[0m 210ms/step - AUC: 0.9116 - Precision: 0.7964 - Recall: 0.7778 - accuracy: 0.7898 - loss: 0.5265 - val_AUC: 0.8979 - val_Precision: 0.7481 - val_Recall: 0.7443 - val_accuracy: 0.7467 - val_loss: 0.6107\n",
            "Epoch 20/30\n",
            "\u001b[1m287/287\u001b[0m \u001b[32m━━━━━━━━━━━━━━━━━━━━\u001b[0m\u001b[37m\u001b[0m \u001b[1m60s\u001b[0m 210ms/step - AUC: 0.9056 - Precision: 0.7833 - Recall: 0.7623 - accuracy: 0.7751 - loss: 0.5507 - val_AUC: 0.8960 - val_Precision: 0.7652 - val_Recall: 0.7539 - val_accuracy: 0.7615 - val_loss: 0.5743\n",
            "Epoch 21/30\n",
            "\u001b[1m287/287\u001b[0m \u001b[32m━━━━━━━━━━━━━━━━━━━━\u001b[0m\u001b[37m\u001b[0m \u001b[1m60s\u001b[0m 210ms/step - AUC: 0.9072 - Precision: 0.7874 - Recall: 0.7663 - accuracy: 0.7801 - loss: 0.5386 - val_AUC: 0.9042 - val_Precision: 0.7223 - val_Recall: 0.7130 - val_accuracy: 0.7179 - val_loss: 0.5810\n",
            "Epoch 22/30\n",
            "\u001b[1m287/287\u001b[0m \u001b[32m━━━━━━━━━━━━━━━━━━━━\u001b[0m\u001b[37m\u001b[0m \u001b[1m60s\u001b[0m 209ms/step - AUC: 0.9057 - Precision: 0.7875 - Recall: 0.7661 - accuracy: 0.7797 - loss: 0.5435 - val_AUC: 0.8921 - val_Precision: 0.7196 - val_Recall: 0.6927 - val_accuracy: 0.7138 - val_loss: 0.5959\n",
            "Epoch 23/30\n",
            "\u001b[1m287/287\u001b[0m \u001b[32m━━━━━━━━━━━━━━━━━━━━\u001b[0m\u001b[37m\u001b[0m \u001b[1m60s\u001b[0m 209ms/step - AUC: 0.9096 - Precision: 0.7856 - Recall: 0.7671 - accuracy: 0.7787 - loss: 0.5335 - val_AUC: 0.8967 - val_Precision: 0.7550 - val_Recall: 0.7280 - val_accuracy: 0.7496 - val_loss: 0.5729\n",
            "Epoch 24/30\n",
            "\u001b[1m287/287\u001b[0m \u001b[32m━━━━━━━━━━━━━━━━━━━━\u001b[0m\u001b[37m\u001b[0m \u001b[1m60s\u001b[0m 210ms/step - AUC: 0.9086 - Precision: 0.7929 - Recall: 0.7714 - accuracy: 0.7841 - loss: 0.5386 - val_AUC: 0.8936 - val_Precision: 0.7664 - val_Recall: 0.6644 - val_accuracy: 0.7389 - val_loss: 0.6060\n",
            "Epoch 25/30\n",
            "\u001b[1m287/287\u001b[0m \u001b[32m━━━━━━━━━━━━━━━━━━━━\u001b[0m\u001b[37m\u001b[0m \u001b[1m60s\u001b[0m 209ms/step - AUC: 0.9075 - Precision: 0.7964 - Recall: 0.7590 - accuracy: 0.7816 - loss: 0.5502 - val_AUC: 0.9004 - val_Precision: 0.7544 - val_Recall: 0.7266 - val_accuracy: 0.7299 - val_loss: 0.5867\n",
            "Epoch 26/30\n",
            "\u001b[1m287/287\u001b[0m \u001b[32m━━━━━━━━━━━━━━━━━━━━\u001b[0m\u001b[37m\u001b[0m \u001b[1m60s\u001b[0m 209ms/step - AUC: 0.9108 - Precision: 0.7932 - Recall: 0.7560 - accuracy: 0.7794 - loss: 0.5411 - val_AUC: 0.9049 - val_Precision: 0.7668 - val_Recall: 0.7365 - val_accuracy: 0.7553 - val_loss: 0.5600\n",
            "Epoch 27/30\n",
            "\u001b[1m287/287\u001b[0m \u001b[32m━━━━━━━━━━━━━━━━━━━━\u001b[0m\u001b[37m\u001b[0m \u001b[1m60s\u001b[0m 209ms/step - AUC: 0.9121 - Precision: 0.7844 - Recall: 0.7651 - accuracy: 0.7771 - loss: 0.5294 - val_AUC: 0.9044 - val_Precision: 0.7756 - val_Recall: 0.7711 - val_accuracy: 0.7726 - val_loss: 0.5488\n",
            "Epoch 28/30\n",
            "\u001b[1m287/287\u001b[0m \u001b[32m━━━━━━━━━━━━━━━━━━━━\u001b[0m\u001b[37m\u001b[0m \u001b[1m61s\u001b[0m 211ms/step - AUC: 0.9112 - Precision: 0.7903 - Recall: 0.7722 - accuracy: 0.7826 - loss: 0.5288 - val_AUC: 0.9010 - val_Precision: 0.7587 - val_Recall: 0.7499 - val_accuracy: 0.7553 - val_loss: 0.5722\n",
            "Epoch 29/30\n",
            "\u001b[1m287/287\u001b[0m \u001b[32m━━━━━━━━━━━━━━━━━━━━\u001b[0m\u001b[37m\u001b[0m \u001b[1m60s\u001b[0m 210ms/step - AUC: 0.9104 - Precision: 0.7863 - Recall: 0.7635 - accuracy: 0.7775 - loss: 0.5348 - val_AUC: 0.9009 - val_Precision: 0.7670 - val_Recall: 0.7368 - val_accuracy: 0.7540 - val_loss: 0.5712\n",
            "Epoch 30/30\n",
            "\u001b[1m287/287\u001b[0m \u001b[32m━━━━━━━━━━━━━━━━━━━━\u001b[0m\u001b[37m\u001b[0m \u001b[1m61s\u001b[0m 213ms/step - AUC: 0.9102 - Precision: 0.7922 - Recall: 0.7638 - accuracy: 0.7814 - loss: 0.5350 - val_AUC: 0.8975 - val_Precision: 0.7648 - val_Recall: 0.7494 - val_accuracy: 0.7569 - val_loss: 0.5845\n"
          ]
        }
      ]
    },
    {
      "cell_type": "code",
      "source": [
        "pred=rnnmodel.predict(X_test1_re)"
      ],
      "metadata": {
        "id": "QR1YR9uIIp5t",
        "colab": {
          "base_uri": "https://localhost:8080/"
        },
        "outputId": "5358b57f-99ce-4622-e0d7-28c0072d4ebd"
      },
      "execution_count": null,
      "outputs": [
        {
          "output_type": "stream",
          "name": "stdout",
          "text": [
            "\u001b[1m191/191\u001b[0m \u001b[32m━━━━━━━━━━━━━━━━━━━━\u001b[0m\u001b[37m\u001b[0m \u001b[1m4s\u001b[0m 18ms/step\n"
          ]
        }
      ]
    },
    {
      "cell_type": "code",
      "source": [
        "plt.plot(history.history['accuracy'])\n",
        "plt.plot(history.history['val_accuracy'])\n",
        "plt.legend(['Training accuracy','Validation accuracy'])\n",
        "plt.xlabel(\"Epochs\")\n",
        "plt.ylabel(\"Accuracy\")"
      ],
      "metadata": {
        "id": "Cu8m9aPIqOf1",
        "colab": {
          "base_uri": "https://localhost:8080/",
          "height": 466
        },
        "outputId": "92efe605-dca6-4b57-a226-be259b736288"
      },
      "execution_count": null,
      "outputs": [
        {
          "output_type": "execute_result",
          "data": {
            "text/plain": [
              "Text(0, 0.5, 'Accuracy')"
            ]
          },
          "metadata": {},
          "execution_count": 62
        },
        {
          "output_type": "display_data",
          "data": {
            "text/plain": [
              "<Figure size 640x480 with 1 Axes>"
            ],
            "image/png": "[encoded data removed]"
          },
          "metadata": {}
        }
      ]
    },
    {
      "cell_type": "code",
      "source": [
        "plt.plot(history.history['loss'])\n",
        "plt.plot(history.history['val_loss'])\n",
        "plt.legend(['Training loss','Validation loss'])\n",
        "plt.xlabel(\"Epochs\")\n",
        "plt.ylabel(\"Loss\")"
      ],
      "metadata": {
        "id": "ccUmtN-Tqhlp",
        "colab": {
          "base_uri": "https://localhost:8080/",
          "height": 466
        },
        "outputId": "a3fc8c7b-4fee-467c-ce5d-67ef759b7ebb"
      },
      "execution_count": null,
      "outputs": [
        {
          "output_type": "execute_result",
          "data": {
            "text/plain": [
              "Text(0, 0.5, 'Loss')"
            ]
          },
          "metadata": {},
          "execution_count": 63
        },
        {
          "output_type": "display_data",
          "data": {
            "text/plain": [
              "<Figure size 640x480 with 1 Axes>"
            ],
            "image/png": "[encoded data removed]"
          },
          "metadata": {}
        }
      ]
    },
    {
      "cell_type": "code",
      "source": [
        "from sklearn.metrics import accuracy_score\n",
        "print('Accuracy: %3f' % accuracy_score(y_test1.argmax(axis=1), pred.argmax(axis=1)))"
      ],
      "metadata": {
        "id": "pdLHak79q15c",
        "colab": {
          "base_uri": "https://localhost:8080/"
        },
        "outputId": "aab380bc-0500-45e4-e142-e41956035bfa"
      },
      "execution_count": null,
      "outputs": [
        {
          "output_type": "stream",
          "name": "stdout",
          "text": [
            "Accuracy: 0.762606\n"
          ]
        }
      ]
    },
    {
      "cell_type": "code",
      "source": [
        "from sklearn.metrics import confusion_matrix\n",
        "\n",
        "# Calculate the confusion matrix\n",
        "cm = confusion_matrix(y_test1.argmax(axis=1), pred.argmax(axis=1))\n",
        "\n",
        "# Plot the confusion matrix\n",
        "plt.figure(figsize=(8, 6))\n",
        "sns.heatmap(cm, annot=True, fmt=\"d\", cmap=\"Blues\", xticklabels=['Class 0', 'Class 1', 'Class 2'], yticklabels=['Class 0', 'Class 1', 'Class 2'])\n",
        "plt.xlabel('Predicted labels')\n",
        "plt.ylabel('True labels')\n",
        "plt.title('Confusion Matrix')\n",
        "plt.show()"
      ],
      "metadata": {
        "id": "BW0Tu-sPURhH",
        "colab": {
          "base_uri": "https://localhost:8080/",
          "height": 564
        },
        "outputId": "8a8e981e-f075-4fe3-85be-798d7bf927fa"
      },
      "execution_count": null,
      "outputs": [
        {
          "output_type": "display_data",
          "data": {
            "text/plain": [
              "<Figure size 800x600 with 2 Axes>"
            ],
            "image/png": "[encoded data removed]"
          },
          "metadata": {}
        }
      ]
    },
    {
      "cell_type": "code",
      "source": [
        "print(classification_report(y_test1.argmax(axis=1), pred.argmax(axis=1)))"
      ],
      "metadata": {
        "id": "2iGgWgivURhI",
        "colab": {
          "base_uri": "https://localhost:8080/"
        },
        "outputId": "d28481da-5b7b-4747-f5e5-38e91d811d40"
      },
      "execution_count": null,
      "outputs": [
        {
          "output_type": "stream",
          "name": "stdout",
          "text": [
            "              precision    recall  f1-score   support\n",
            "\n",
            "           0       0.75      0.57      0.65      2036\n",
            "           1       0.74      0.74      0.74      2036\n",
            "           2       0.79      0.98      0.87      2036\n",
            "\n",
            "    accuracy                           0.76      6108\n",
            "   macro avg       0.76      0.76      0.75      6108\n",
            "weighted avg       0.76      0.76      0.75      6108\n",
            "\n"
          ]
        }
      ]
    },
    {
      "cell_type": "markdown",
      "source": [
        "**Without Dropout**"
      ],
      "metadata": {
        "id": "mybEK2jXleeT"
      }
    },
    {
      "cell_type": "code",
      "source": [],
      "metadata": {
        "id": "o0LBFcnxleMb"
      },
      "execution_count": null,
      "outputs": []
    },
    {
      "cell_type": "code",
      "source": [
        "# Model with Attention Layer\n",
        "def create_model():\n",
        "    # input layer of model for brain signals\n",
        "    inputs = tf.keras.Input(shape=(X_train_re.shape[1], X_train_re.shape[2]))\n",
        "    #inputs = tf.keras.Input(shape=(1,42370))\n",
        "\n",
        "    gru1_1 = GRU(2048, return_sequences=True)(inputs)\n",
        "\n",
        "    gru1_2 = GRU(1024, return_sequences=True)(gru1_1)\n",
        "\n",
        "    gru1_3 = GRU(512, return_sequences=True)(gru1_2)\n",
        "    #concat = Concatenate()([gru1_3, gru2_3, gru3_3])\n",
        "\n",
        "    # Apply Attention Layer\n",
        "    #attention_output = AttentionLayer()(gru1_2)\n",
        "\n",
        "    # Concatenate Attention Output and Concat\n",
        "    #attention_concat = Concatenate()([concat, attention_output])\n",
        "\n",
        "    #flatten = Flatten()(gru1_)\n",
        "\n",
        "    rnn1 = SimpleRNN(128)(gru1_3)\n",
        "\n",
        "    #rnn4 = SimpleRNN(32, return_sequences= True)(rnn1)\n",
        "\n",
        "    output1 = Dense(32, activation='relu')(rnn1)\n",
        "\n",
        "    outputs = Dense(3, activation='softmax')(output1)\n",
        "\n",
        "    model = Model(inputs=inputs, outputs=outputs)\n",
        "    print(model.summary())\n",
        "    return model"
      ],
      "metadata": {
        "id": "DEUN2db-lhp1"
      },
      "execution_count": null,
      "outputs": []
    },
    {
      "cell_type": "code",
      "source": [
        "#cretaing model\n",
        "rnnmodel = create_model()\n",
        "#Compiling model\n",
        "rnnmodel.compile(loss=tf.keras.losses.CategoricalCrossentropy(),\n",
        "                  optimizer=tf.keras.optimizers.Adam(learning_rate=0.01),\n",
        "                  metrics=[tf.keras.metrics.CategoricalAccuracy(name='accuracy', dtype=None),\n",
        "                  tf.keras.metrics.Recall(name='Recall'),\n",
        "                  tf.keras.metrics.Precision(name='Precision'),\n",
        "                  tf.keras.metrics.AUC( num_thresholds=200,\n",
        "                                        curve=\"ROC\",\n",
        "                                        summation_method=\"interpolation\",\n",
        "                                        name=\"AUC\",\n",
        "                                        dtype=None,\n",
        "                                        thresholds=None,\n",
        "                                        multi_label=True,\n",
        "                                       label_weights=None,)])"
      ],
      "metadata": {
        "colab": {
          "base_uri": "https://localhost:8080/",
          "height": 398
        },
        "outputId": "49897557-776d-4fea-8f49-c0e29dda54a1",
        "id": "gLChLtOAlhqT"
      },
      "execution_count": null,
      "outputs": [
        {
          "output_type": "display_data",
          "data": {
            "text/plain": [
              "\u001b[1mModel: \"functional_13\"\u001b[0m\n"
            ],
            "text/html": [
              "<pre style=\"white-space:pre;overflow-x:auto;line-height:normal;font-family:Menlo,'DejaVu Sans Mono',consolas,'Courier New',monospace\"><span style=\"font-weight: bold\">Model: \"functional_13\"</span>\n",
              "</pre>\n"
            ]
          },
          "metadata": {}
        },
        {
          "output_type": "display_data",
          "data": {
            "text/plain": [
              "┏━━━━━━━━━━━━━━━━━━━━━━━━━━━━━━━━━━━━━━┳━━━━━━━━━━━━━━━━━━━━━━━━━━━━━┳━━━━━━━━━━━━━━━━━┓\n",
              "┃\u001b[1m \u001b[0m\u001b[1mLayer (type)                        \u001b[0m\u001b[1m \u001b[0m┃\u001b[1m \u001b[0m\u001b[1mOutput Shape               \u001b[0m\u001b[1m \u001b[0m┃\u001b[1m \u001b[0m\u001b[1m        Param #\u001b[0m\u001b[1m \u001b[0m┃\n",
              "┡━━━━━━━━━━━━━━━━━━━━━━━━━━━━━━━━━━━━━━╇━━━━━━━━━━━━━━━━━━━━━━━━━━━━━╇━━━━━━━━━━━━━━━━━┩\n",
              "│ input_layer_12 (\u001b[38;5;33mInputLayer\u001b[0m)          │ (\u001b[38;5;45mNone\u001b[0m, \u001b[38;5;34m1\u001b[0m, \u001b[38;5;34m100\u001b[0m)              │               \u001b[38;5;34m0\u001b[0m │\n",
              "├──────────────────────────────────────┼─────────────────────────────┼─────────────────┤\n",
              "│ gru_3 (\u001b[38;5;33mGRU\u001b[0m)                          │ (\u001b[38;5;45mNone\u001b[0m, \u001b[38;5;34m1\u001b[0m, \u001b[38;5;34m2048\u001b[0m)             │      \u001b[38;5;34m13,209,600\u001b[0m │\n",
              "├──────────────────────────────────────┼─────────────────────────────┼─────────────────┤\n",
              "│ gru_4 (\u001b[38;5;33mGRU\u001b[0m)                          │ (\u001b[38;5;45mNone\u001b[0m, \u001b[38;5;34m1\u001b[0m, \u001b[38;5;34m1024\u001b[0m)             │       \u001b[38;5;34m9,443,328\u001b[0m │\n",
              "├──────────────────────────────────────┼─────────────────────────────┼─────────────────┤\n",
              "│ gru_5 (\u001b[38;5;33mGRU\u001b[0m)                          │ (\u001b[38;5;45mNone\u001b[0m, \u001b[38;5;34m1\u001b[0m, \u001b[38;5;34m512\u001b[0m)              │       \u001b[38;5;34m2,362,368\u001b[0m │\n",
              "├──────────────────────────────────────┼─────────────────────────────┼─────────────────┤\n",
              "│ simple_rnn_1 (\u001b[38;5;33mSimpleRNN\u001b[0m)             │ (\u001b[38;5;45mNone\u001b[0m, \u001b[38;5;34m128\u001b[0m)                 │          \u001b[38;5;34m82,048\u001b[0m │\n",
              "├──────────────────────────────────────┼─────────────────────────────┼─────────────────┤\n",
              "│ dense_7 (\u001b[38;5;33mDense\u001b[0m)                      │ (\u001b[38;5;45mNone\u001b[0m, \u001b[38;5;34m32\u001b[0m)                  │           \u001b[38;5;34m4,128\u001b[0m │\n",
              "├──────────────────────────────────────┼─────────────────────────────┼─────────────────┤\n",
              "│ dense_8 (\u001b[38;5;33mDense\u001b[0m)                      │ (\u001b[38;5;45mNone\u001b[0m, \u001b[38;5;34m3\u001b[0m)                   │              \u001b[38;5;34m99\u001b[0m │\n",
              "└──────────────────────────────────────┴─────────────────────────────┴─────────────────┘\n"
            ],
            "text/html": [
              "<pre style=\"white-space:pre;overflow-x:auto;line-height:normal;font-family:Menlo,'DejaVu Sans Mono',consolas,'Courier New',monospace\">┏━━━━━━━━━━━━━━━━━━━━━━━━━━━━━━━━━━━━━━┳━━━━━━━━━━━━━━━━━━━━━━━━━━━━━┳━━━━━━━━━━━━━━━━━┓\n",
              "┃<span style=\"font-weight: bold\"> Layer (type)                         </span>┃<span style=\"font-weight: bold\"> Output Shape                </span>┃<span style=\"font-weight: bold\">         Param # </span>┃\n",
              "┡━━━━━━━━━━━━━━━━━━━━━━━━━━━━━━━━━━━━━━╇━━━━━━━━━━━━━━━━━━━━━━━━━━━━━╇━━━━━━━━━━━━━━━━━┩\n",
              "│ input_layer_12 (<span style=\"color: #0087ff; text-decoration-color: #0087ff\">InputLayer</span>)          │ (<span style=\"color: #00d7ff; text-decoration-color: #00d7ff\">None</span>, <span style=\"color: #00af00; text-decoration-color: #00af00\">1</span>, <span style=\"color: #00af00; text-decoration-color: #00af00\">100</span>)              │               <span style=\"color: #00af00; text-decoration-color: #00af00\">0</span> │\n",
              "├──────────────────────────────────────┼─────────────────────────────┼─────────────────┤\n",
              "│ gru_3 (<span style=\"color: #0087ff; text-decoration-color: #0087ff\">GRU</span>)                          │ (<span style=\"color: #00d7ff; text-decoration-color: #00d7ff\">None</span>, <span style=\"color: #00af00; text-decoration-color: #00af00\">1</span>, <span style=\"color: #00af00; text-decoration-color: #00af00\">2048</span>)             │      <span style=\"color: #00af00; text-decoration-color: #00af00\">13,209,600</span> │\n",
              "├──────────────────────────────────────┼─────────────────────────────┼─────────────────┤\n",
              "│ gru_4 (<span style=\"color: #0087ff; text-decoration-color: #0087ff\">GRU</span>)                          │ (<span style=\"color: #00d7ff; text-decoration-color: #00d7ff\">None</span>, <span style=\"color: #00af00; text-decoration-color: #00af00\">1</span>, <span style=\"color: #00af00; text-decoration-color: #00af00\">1024</span>)             │       <span style=\"color: #00af00; text-decoration-color: #00af00\">9,443,328</span> │\n",
              "├──────────────────────────────────────┼─────────────────────────────┼─────────────────┤\n",
              "│ gru_5 (<span style=\"color: #0087ff; text-decoration-color: #0087ff\">GRU</span>)                          │ (<span style=\"color: #00d7ff; text-decoration-color: #00d7ff\">None</span>, <span style=\"color: #00af00; text-decoration-color: #00af00\">1</span>, <span style=\"color: #00af00; text-decoration-color: #00af00\">512</span>)              │       <span style=\"color: #00af00; text-decoration-color: #00af00\">2,362,368</span> │\n",
              "├──────────────────────────────────────┼─────────────────────────────┼─────────────────┤\n",
              "│ simple_rnn_1 (<span style=\"color: #0087ff; text-decoration-color: #0087ff\">SimpleRNN</span>)             │ (<span style=\"color: #00d7ff; text-decoration-color: #00d7ff\">None</span>, <span style=\"color: #00af00; text-decoration-color: #00af00\">128</span>)                 │          <span style=\"color: #00af00; text-decoration-color: #00af00\">82,048</span> │\n",
              "├──────────────────────────────────────┼─────────────────────────────┼─────────────────┤\n",
              "│ dense_7 (<span style=\"color: #0087ff; text-decoration-color: #0087ff\">Dense</span>)                      │ (<span style=\"color: #00d7ff; text-decoration-color: #00d7ff\">None</span>, <span style=\"color: #00af00; text-decoration-color: #00af00\">32</span>)                  │           <span style=\"color: #00af00; text-decoration-color: #00af00\">4,128</span> │\n",
              "├──────────────────────────────────────┼─────────────────────────────┼─────────────────┤\n",
              "│ dense_8 (<span style=\"color: #0087ff; text-decoration-color: #0087ff\">Dense</span>)                      │ (<span style=\"color: #00d7ff; text-decoration-color: #00d7ff\">None</span>, <span style=\"color: #00af00; text-decoration-color: #00af00\">3</span>)                   │              <span style=\"color: #00af00; text-decoration-color: #00af00\">99</span> │\n",
              "└──────────────────────────────────────┴─────────────────────────────┴─────────────────┘\n",
              "</pre>\n"
            ]
          },
          "metadata": {}
        },
        {
          "output_type": "display_data",
          "data": {
            "text/plain": [
              "\u001b[1m Total params: \u001b[0m\u001b[38;5;34m25,101,571\u001b[0m (95.75 MB)\n"
            ],
            "text/html": [
              "<pre style=\"white-space:pre;overflow-x:auto;line-height:normal;font-family:Menlo,'DejaVu Sans Mono',consolas,'Courier New',monospace\"><span style=\"font-weight: bold\"> Total params: </span><span style=\"color: #00af00; text-decoration-color: #00af00\">25,101,571</span> (95.75 MB)\n",
              "</pre>\n"
            ]
          },
          "metadata": {}
        },
        {
          "output_type": "display_data",
          "data": {
            "text/plain": [
              "\u001b[1m Trainable params: \u001b[0m\u001b[38;5;34m25,101,571\u001b[0m (95.75 MB)\n"
            ],
            "text/html": [
              "<pre style=\"white-space:pre;overflow-x:auto;line-height:normal;font-family:Menlo,'DejaVu Sans Mono',consolas,'Courier New',monospace\"><span style=\"font-weight: bold\"> Trainable params: </span><span style=\"color: #00af00; text-decoration-color: #00af00\">25,101,571</span> (95.75 MB)\n",
              "</pre>\n"
            ]
          },
          "metadata": {}
        },
        {
          "output_type": "display_data",
          "data": {
            "text/plain": [
              "\u001b[1m Non-trainable params: \u001b[0m\u001b[38;5;34m0\u001b[0m (0.00 B)\n"
            ],
            "text/html": [
              "<pre style=\"white-space:pre;overflow-x:auto;line-height:normal;font-family:Menlo,'DejaVu Sans Mono',consolas,'Courier New',monospace\"><span style=\"font-weight: bold\"> Non-trainable params: </span><span style=\"color: #00af00; text-decoration-color: #00af00\">0</span> (0.00 B)\n",
              "</pre>\n"
            ]
          },
          "metadata": {}
        },
        {
          "output_type": "stream",
          "name": "stdout",
          "text": [
            "None\n"
          ]
        }
      ]
    },
    {
      "cell_type": "code",
      "source": [
        "history = rnnmodel.fit(X_train_re, y_train, epochs=30, batch_size=64, validation_data=(X_val_re, y_val))"
      ],
      "metadata": {
        "colab": {
          "base_uri": "https://localhost:8080/"
        },
        "outputId": "15df3d56-ed6a-4c59-8d52-4bd3d4cf40c6",
        "id": "WdH8frvFlhqT"
      },
      "execution_count": null,
      "outputs": [
        {
          "output_type": "stream",
          "name": "stdout",
          "text": [
            "Epoch 1/30\n",
            "\u001b[1m287/287\u001b[0m \u001b[32m━━━━━━━━━━━━━━━━━━━━\u001b[0m\u001b[37m\u001b[0m \u001b[1m73s\u001b[0m 220ms/step - AUC: 0.8478 - Precision: 0.7325 - Recall: 0.6836 - accuracy: 0.7105 - loss: 0.7417 - val_AUC: 0.8912 - val_Precision: 0.7409 - val_Recall: 0.7390 - val_accuracy: 0.7405 - val_loss: 0.6012\n",
            "Epoch 2/30\n",
            "\u001b[1m287/287\u001b[0m \u001b[32m━━━━━━━━━━━━━━━━━━━━\u001b[0m\u001b[37m\u001b[0m \u001b[1m62s\u001b[0m 216ms/step - AUC: 0.9082 - Precision: 0.7761 - Recall: 0.7665 - accuracy: 0.7729 - loss: 0.5308 - val_AUC: 0.9032 - val_Precision: 0.7658 - val_Recall: 0.7548 - val_accuracy: 0.7620 - val_loss: 0.5649\n",
            "Epoch 3/30\n",
            "\u001b[1m287/287\u001b[0m \u001b[32m━━━━━━━━━━━━━━━━━━━━\u001b[0m\u001b[37m\u001b[0m \u001b[1m62s\u001b[0m 216ms/step - AUC: 0.9176 - Precision: 0.7967 - Recall: 0.7846 - accuracy: 0.7916 - loss: 0.5070 - val_AUC: 0.9060 - val_Precision: 0.7718 - val_Recall: 0.7170 - val_accuracy: 0.7521 - val_loss: 0.5485\n",
            "Epoch 4/30\n",
            "\u001b[1m287/287\u001b[0m \u001b[32m━━━━━━━━━━━━━━━━━━━━\u001b[0m\u001b[37m\u001b[0m \u001b[1m62s\u001b[0m 216ms/step - AUC: 0.9208 - Precision: 0.7995 - Recall: 0.7846 - accuracy: 0.7926 - loss: 0.4961 - val_AUC: 0.8997 - val_Precision: 0.7702 - val_Recall: 0.7649 - val_accuracy: 0.7686 - val_loss: 0.5817\n",
            "Epoch 5/30\n",
            "\u001b[1m287/287\u001b[0m \u001b[32m━━━━━━━━━━━━━━━━━━━━\u001b[0m\u001b[37m\u001b[0m \u001b[1m62s\u001b[0m 216ms/step - AUC: 0.9251 - Precision: 0.8100 - Recall: 0.8007 - accuracy: 0.8061 - loss: 0.4770 - val_AUC: 0.9002 - val_Precision: 0.7652 - val_Recall: 0.7601 - val_accuracy: 0.7617 - val_loss: 0.5718\n",
            "Epoch 6/30\n",
            "\u001b[1m287/287\u001b[0m \u001b[32m━━━━━━━━━━━━━━━━━━━━\u001b[0m\u001b[37m\u001b[0m \u001b[1m62s\u001b[0m 215ms/step - AUC: 0.9190 - Precision: 0.7916 - Recall: 0.7833 - accuracy: 0.7889 - loss: 0.5040 - val_AUC: 0.8910 - val_Precision: 0.7185 - val_Recall: 0.7087 - val_accuracy: 0.7131 - val_loss: 0.6281\n",
            "Epoch 7/30\n",
            "\u001b[1m287/287\u001b[0m \u001b[32m━━━━━━━━━━━━━━━━━━━━\u001b[0m\u001b[37m\u001b[0m \u001b[1m62s\u001b[0m 216ms/step - AUC: 0.9156 - Precision: 0.7888 - Recall: 0.7797 - accuracy: 0.7852 - loss: 0.5088 - val_AUC: 0.9026 - val_Precision: 0.7210 - val_Recall: 0.7162 - val_accuracy: 0.7189 - val_loss: 0.5814\n",
            "Epoch 8/30\n",
            "\u001b[1m287/287\u001b[0m \u001b[32m━━━━━━━━━━━━━━━━━━━━\u001b[0m\u001b[37m\u001b[0m \u001b[1m62s\u001b[0m 215ms/step - AUC: 0.9201 - Precision: 0.7957 - Recall: 0.7826 - accuracy: 0.7915 - loss: 0.5018 - val_AUC: 0.9011 - val_Precision: 0.7766 - val_Recall: 0.7692 - val_accuracy: 0.7746 - val_loss: 0.5802\n",
            "Epoch 9/30\n",
            "\u001b[1m287/287\u001b[0m \u001b[32m━━━━━━━━━━━━━━━━━━━━\u001b[0m\u001b[37m\u001b[0m \u001b[1m62s\u001b[0m 217ms/step - AUC: 0.9047 - Precision: 0.7840 - Recall: 0.7683 - accuracy: 0.7774 - loss: 0.5567 - val_AUC: 0.8809 - val_Precision: 0.7652 - val_Recall: 0.7641 - val_accuracy: 0.7646 - val_loss: 0.6111\n",
            "Epoch 10/30\n",
            "\u001b[1m287/287\u001b[0m \u001b[32m━━━━━━━━━━━━━━━━━━━━\u001b[0m\u001b[37m\u001b[0m \u001b[1m63s\u001b[0m 218ms/step - AUC: 0.8931 - Precision: 0.7733 - Recall: 0.7613 - accuracy: 0.7701 - loss: 0.5865 - val_AUC: 0.8736 - val_Precision: 0.7463 - val_Recall: 0.7171 - val_accuracy: 0.7307 - val_loss: 0.6235\n",
            "Epoch 11/30\n",
            "\u001b[1m287/287\u001b[0m \u001b[32m━━━━━━━━━━━━━━━━━━━━\u001b[0m\u001b[37m\u001b[0m \u001b[1m62s\u001b[0m 216ms/step - AUC: 0.8812 - Precision: 0.7593 - Recall: 0.7333 - accuracy: 0.7501 - loss: 0.6153 - val_AUC: 0.8731 - val_Precision: 0.7755 - val_Recall: 0.7468 - val_accuracy: 0.7612 - val_loss: 0.6598\n",
            "Epoch 12/30\n",
            "\u001b[1m287/287\u001b[0m \u001b[32m━━━━━━━━━━━━━━━━━━━━\u001b[0m\u001b[37m\u001b[0m \u001b[1m62s\u001b[0m 217ms/step - AUC: 0.8813 - Precision: 0.7650 - Recall: 0.7478 - accuracy: 0.7568 - loss: 0.6104 - val_AUC: 0.8784 - val_Precision: 0.7426 - val_Recall: 0.7409 - val_accuracy: 0.7424 - val_loss: 0.6498\n",
            "Epoch 13/30\n",
            "\u001b[1m287/287\u001b[0m \u001b[32m━━━━━━━━━━━━━━━━━━━━\u001b[0m\u001b[37m\u001b[0m \u001b[1m63s\u001b[0m 220ms/step - AUC: 0.8858 - Precision: 0.7763 - Recall: 0.7668 - accuracy: 0.7729 - loss: 0.5826 - val_AUC: 0.8857 - val_Precision: 0.7725 - val_Recall: 0.7055 - val_accuracy: 0.7644 - val_loss: 0.6389\n",
            "Epoch 14/30\n",
            "\u001b[1m287/287\u001b[0m \u001b[32m━━━━━━━━━━━━━━━━━━━━\u001b[0m\u001b[37m\u001b[0m \u001b[1m64s\u001b[0m 222ms/step - AUC: 0.8879 - Precision: 0.7819 - Recall: 0.7650 - accuracy: 0.7769 - loss: 0.5919 - val_AUC: 0.8796 - val_Precision: 0.7600 - val_Recall: 0.7567 - val_accuracy: 0.7583 - val_loss: 0.6333\n",
            "Epoch 15/30\n",
            "\u001b[1m287/287\u001b[0m \u001b[32m━━━━━━━━━━━━━━━━━━━━\u001b[0m\u001b[37m\u001b[0m \u001b[1m63s\u001b[0m 220ms/step - AUC: 0.8996 - Precision: 0.7974 - Recall: 0.7896 - accuracy: 0.7937 - loss: 0.5511 - val_AUC: 0.8656 - val_Precision: 0.7112 - val_Recall: 0.7104 - val_accuracy: 0.7111 - val_loss: 0.6645\n",
            "Epoch 16/30\n",
            "\u001b[1m287/287\u001b[0m \u001b[32m━━━━━━━━━━━━━━━━━━━━\u001b[0m\u001b[37m\u001b[0m \u001b[1m62s\u001b[0m 216ms/step - AUC: 0.8808 - Precision: 0.7849 - Recall: 0.7785 - accuracy: 0.7817 - loss: 0.5850 - val_AUC: 0.7739 - val_Precision: 0.6865 - val_Recall: 0.4100 - val_accuracy: 0.5981 - val_loss: 0.7361\n",
            "Epoch 17/30\n",
            "\u001b[1m287/287\u001b[0m \u001b[32m━━━━━━━━━━━━━━━━━━━━\u001b[0m\u001b[37m\u001b[0m \u001b[1m63s\u001b[0m 218ms/step - AUC: 0.7905 - Precision: 0.6517 - Recall: 0.5361 - accuracy: 0.6157 - loss: 0.7054 - val_AUC: 0.7796 - val_Precision: 0.6272 - val_Recall: 0.6245 - val_accuracy: 0.6247 - val_loss: 0.7141\n",
            "Epoch 18/30\n",
            "\u001b[1m287/287\u001b[0m \u001b[32m━━━━━━━━━━━━━━━━━━━━\u001b[0m\u001b[37m\u001b[0m \u001b[1m62s\u001b[0m 216ms/step - AUC: 0.7811 - Precision: 0.6484 - Recall: 0.5157 - accuracy: 0.6125 - loss: 0.7173 - val_AUC: 0.7437 - val_Precision: 0.5990 - val_Recall: 0.5988 - val_accuracy: 0.5989 - val_loss: 0.7374\n",
            "Epoch 19/30\n",
            "\u001b[1m287/287\u001b[0m \u001b[32m━━━━━━━━━━━━━━━━━━━━\u001b[0m\u001b[37m\u001b[0m \u001b[1m63s\u001b[0m 218ms/step - AUC: 0.7982 - Precision: 0.6896 - Recall: 0.5110 - accuracy: 0.6465 - loss: 0.7177 - val_AUC: 0.8206 - val_Precision: 0.5887 - val_Recall: 0.5486 - val_accuracy: 0.5989 - val_loss: 0.6881\n",
            "Epoch 20/30\n",
            "\u001b[1m287/287\u001b[0m \u001b[32m━━━━━━━━━━━━━━━━━━━━\u001b[0m\u001b[37m\u001b[0m \u001b[1m62s\u001b[0m 217ms/step - AUC: 0.8331 - Precision: 0.6961 - Recall: 0.6273 - accuracy: 0.6799 - loss: 0.6773 - val_AUC: 0.7889 - val_Precision: 0.6844 - val_Recall: 0.6793 - val_accuracy: 0.6809 - val_loss: 0.7240\n",
            "Epoch 21/30\n",
            "\u001b[1m287/287\u001b[0m \u001b[32m━━━━━━━━━━━━━━━━━━━━\u001b[0m\u001b[37m\u001b[0m \u001b[1m63s\u001b[0m 218ms/step - AUC: 0.8419 - Precision: 0.7276 - Recall: 0.7011 - accuracy: 0.7203 - loss: 0.6779 - val_AUC: 0.8060 - val_Precision: 0.8394 - val_Recall: 0.3697 - val_accuracy: 0.6604 - val_loss: 0.7176\n",
            "Epoch 22/30\n",
            "\u001b[1m287/287\u001b[0m \u001b[32m━━━━━━━━━━━━━━━━━━━━\u001b[0m\u001b[37m\u001b[0m \u001b[1m63s\u001b[0m 218ms/step - AUC: 0.8312 - Precision: 0.7162 - Recall: 0.6389 - accuracy: 0.7037 - loss: 0.6927 - val_AUC: 0.7835 - val_Precision: 0.6257 - val_Recall: 0.6256 - val_accuracy: 0.6256 - val_loss: 0.7347\n",
            "Epoch 23/30\n",
            "\u001b[1m287/287\u001b[0m \u001b[32m━━━━━━━━━━━━━━━━━━━━\u001b[0m\u001b[37m\u001b[0m \u001b[1m62s\u001b[0m 217ms/step - AUC: 0.7817 - Precision: 0.6347 - Recall: 0.5349 - accuracy: 0.6102 - loss: 0.7335 - val_AUC: 0.7775 - val_Precision: 0.6283 - val_Recall: 0.6263 - val_accuracy: 0.6264 - val_loss: 0.7175\n",
            "Epoch 24/30\n",
            "\u001b[1m287/287\u001b[0m \u001b[32m━━━━━━━━━━━━━━━━━━━━\u001b[0m\u001b[37m\u001b[0m \u001b[1m62s\u001b[0m 217ms/step - AUC: 0.7836 - Precision: 0.6423 - Recall: 0.5266 - accuracy: 0.6115 - loss: 0.7148 - val_AUC: 0.7834 - val_Precision: 0.8669 - val_Recall: 0.3017 - val_accuracy: 0.5964 - val_loss: 0.7246\n",
            "Epoch 25/30\n",
            "\u001b[1m287/287\u001b[0m \u001b[32m━━━━━━━━━━━━━━━━━━━━\u001b[0m\u001b[37m\u001b[0m \u001b[1m62s\u001b[0m 214ms/step - AUC: 0.7873 - Precision: 0.6530 - Recall: 0.5646 - accuracy: 0.6292 - loss: 0.6939 - val_AUC: 0.7879 - val_Precision: 0.6401 - val_Recall: 0.6390 - val_accuracy: 0.6394 - val_loss: 0.6880\n",
            "Epoch 26/30\n",
            "\u001b[1m287/287\u001b[0m \u001b[32m━━━━━━━━━━━━━━━━━━━━\u001b[0m\u001b[37m\u001b[0m \u001b[1m62s\u001b[0m 215ms/step - AUC: 0.7853 - Precision: 0.6573 - Recall: 0.5577 - accuracy: 0.6313 - loss: 0.7027 - val_AUC: 0.7781 - val_Precision: 0.6248 - val_Recall: 0.6234 - val_accuracy: 0.6235 - val_loss: 0.7321\n",
            "Epoch 27/30\n",
            "\u001b[1m287/287\u001b[0m \u001b[32m━━━━━━━━━━━━━━━━━━━━\u001b[0m\u001b[37m\u001b[0m \u001b[1m61s\u001b[0m 214ms/step - AUC: 0.7777 - Precision: 0.6407 - Recall: 0.5123 - accuracy: 0.6066 - loss: 0.7338 - val_AUC: 0.7727 - val_Precision: 0.8526 - val_Recall: 0.3049 - val_accuracy: 0.6259 - val_loss: 0.7293\n",
            "Epoch 28/30\n",
            "\u001b[1m287/287\u001b[0m \u001b[32m━━━━━━━━━━━━━━━━━━━━\u001b[0m\u001b[37m\u001b[0m \u001b[1m62s\u001b[0m 215ms/step - AUC: 0.7843 - Precision: 0.6479 - Recall: 0.5416 - accuracy: 0.6196 - loss: 0.7168 - val_AUC: 0.7784 - val_Precision: 0.6271 - val_Recall: 0.6271 - val_accuracy: 0.6271 - val_loss: 0.7205\n",
            "Epoch 29/30\n",
            "\u001b[1m287/287\u001b[0m \u001b[32m━━━━━━━━━━━━━━━━━━━━\u001b[0m\u001b[37m\u001b[0m \u001b[1m61s\u001b[0m 214ms/step - AUC: 0.7778 - Precision: 0.6714 - Recall: 0.4874 - accuracy: 0.6198 - loss: 0.7310 - val_AUC: 0.7792 - val_Precision: 0.8545 - val_Recall: 0.3049 - val_accuracy: 0.5978 - val_loss: 0.7210\n",
            "Epoch 30/30\n",
            "\u001b[1m287/287\u001b[0m \u001b[32m━━━━━━━━━━━━━━━━━━━━\u001b[0m\u001b[37m\u001b[0m \u001b[1m61s\u001b[0m 213ms/step - AUC: 0.7859 - Precision: 0.6531 - Recall: 0.5582 - accuracy: 0.6283 - loss: 0.7106 - val_AUC: 0.7797 - val_Precision: 0.6274 - val_Recall: 0.6274 - val_accuracy: 0.6274 - val_loss: 0.7186\n"
          ]
        }
      ]
    },
    {
      "cell_type": "code",
      "source": [
        "pred=rnnmodel.predict(X_test1_re)"
      ],
      "metadata": {
        "colab": {
          "base_uri": "https://localhost:8080/"
        },
        "outputId": "0927bc48-ec30-4bb2-e026-e8e2aa72290b",
        "id": "1o-O1u7ElhqU"
      },
      "execution_count": null,
      "outputs": [
        {
          "output_type": "stream",
          "name": "stdout",
          "text": [
            "\u001b[1m191/191\u001b[0m \u001b[32m━━━━━━━━━━━━━━━━━━━━\u001b[0m\u001b[37m\u001b[0m \u001b[1m6s\u001b[0m 25ms/step\n"
          ]
        }
      ]
    },
    {
      "cell_type": "code",
      "source": [
        "plt.plot(history.history['accuracy'])\n",
        "plt.plot(history.history['val_accuracy'])\n",
        "plt.legend(['Training accuracy','Validation accuracy'])\n",
        "plt.xlabel(\"Epochs\")\n",
        "plt.ylabel(\"Accuracy\")"
      ],
      "metadata": {
        "colab": {
          "base_uri": "https://localhost:8080/",
          "height": 466
        },
        "outputId": "9c3a7058-c381-47e3-922b-79c27fb7548d",
        "id": "DhOlzD3slhqU"
      },
      "execution_count": null,
      "outputs": [
        {
          "output_type": "execute_result",
          "data": {
            "text/plain": [
              "Text(0, 0.5, 'Accuracy')"
            ]
          },
          "metadata": {},
          "execution_count": 81
        },
        {
          "output_type": "display_data",
          "data": {
            "text/plain": [
              "<Figure size 640x480 with 1 Axes>"
            ],
            "image/png": "[encoded data removed]"
          },
          "metadata": {}
        }
      ]
    },
    {
      "cell_type": "code",
      "source": [
        "plt.plot(history.history['loss'])\n",
        "plt.plot(history.history['val_loss'])\n",
        "plt.legend(['Training loss','Validation loss'])\n",
        "plt.xlabel(\"Epochs\")\n",
        "plt.ylabel(\"Loss\")"
      ],
      "metadata": {
        "colab": {
          "base_uri": "https://localhost:8080/",
          "height": 466
        },
        "outputId": "db0018da-0ccc-40bc-c7ac-182a0d8abab6",
        "id": "JWW1v3CrlhqU"
      },
      "execution_count": null,
      "outputs": [
        {
          "output_type": "execute_result",
          "data": {
            "text/plain": [
              "Text(0, 0.5, 'Loss')"
            ]
          },
          "metadata": {},
          "execution_count": 82
        },
        {
          "output_type": "display_data",
          "data": {
            "text/plain": [
              "<Figure size 640x480 with 1 Axes>"
            ],
            "image/png": "[encoded data removed]"
          },
          "metadata": {}
        }
      ]
    },
    {
      "cell_type": "code",
      "source": [
        "from sklearn.metrics import accuracy_score\n",
        "print('Accuracy: %3f' % accuracy_score(y_test1.argmax(axis=1), pred.argmax(axis=1)))"
      ],
      "metadata": {
        "colab": {
          "base_uri": "https://localhost:8080/"
        },
        "outputId": "9bf31ffa-bdd2-4019-eafc-9773b53f8f1c",
        "id": "fyOcJqPblhqU"
      },
      "execution_count": null,
      "outputs": [
        {
          "output_type": "stream",
          "name": "stdout",
          "text": [
            "Accuracy: 0.628684\n"
          ]
        }
      ]
    },
    {
      "cell_type": "code",
      "source": [
        "from sklearn.metrics import confusion_matrix\n",
        "\n",
        "# Calculate the confusion matrix\n",
        "cm = confusion_matrix(y_test1.argmax(axis=1), pred.argmax(axis=1))\n",
        "\n",
        "# Plot the confusion matrix\n",
        "plt.figure(figsize=(8, 6))\n",
        "sns.heatmap(cm, annot=True, fmt=\"d\", cmap=\"Blues\", xticklabels=['Class 0', 'Class 1', 'Class 2'], yticklabels=['Class 0', 'Class 1', 'Class 2'])\n",
        "plt.xlabel('Predicted labels')\n",
        "plt.ylabel('True labels')\n",
        "plt.title('Confusion Matrix')\n",
        "plt.show()"
      ],
      "metadata": {
        "colab": {
          "base_uri": "https://localhost:8080/",
          "height": 564
        },
        "outputId": "0a5af546-dc0d-48c3-938e-9590aa52f987",
        "id": "PrOQKNHflhqU"
      },
      "execution_count": null,
      "outputs": [
        {
          "output_type": "display_data",
          "data": {
            "text/plain": [
              "<Figure size 800x600 with 2 Axes>"
            ],
            "image/png": "[encoded data removed]"
          },
          "metadata": {}
        }
      ]
    },
    {
      "cell_type": "code",
      "source": [
        "print(classification_report(y_test1.argmax(axis=1), pred.argmax(axis=1)))"
      ],
      "metadata": {
        "colab": {
          "base_uri": "https://localhost:8080/"
        },
        "outputId": "d1154226-2972-486f-96cf-ad734ada6ed3",
        "id": "erLbkcFplhqV"
      },
      "execution_count": null,
      "outputs": [
        {
          "output_type": "stream",
          "name": "stdout",
          "text": [
            "              precision    recall  f1-score   support\n",
            "\n",
            "           0       1.00      0.00      0.00      2036\n",
            "           1       0.50      0.97      0.66      2036\n",
            "           2       0.86      0.92      0.89      2036\n",
            "\n",
            "    accuracy                           0.63      6108\n",
            "   macro avg       0.79      0.63      0.52      6108\n",
            "weighted avg       0.79      0.63      0.52      6108\n",
            "\n"
          ]
        }
      ]
    },
    {
      "cell_type": "markdown",
      "source": [
        "**Concatenation**"
      ],
      "metadata": {
        "id": "K2BmJVR3K9ZE"
      }
    },
    {
      "cell_type": "markdown",
      "source": [
        "**LSTM**"
      ],
      "metadata": {
        "id": "MjmmtNA5FhIR"
      }
    },
    {
      "cell_type": "code",
      "source": [],
      "metadata": {
        "id": "QHUrimzUlcsb"
      },
      "execution_count": null,
      "outputs": []
    },
    {
      "cell_type": "code",
      "source": [
        "def lstm():\n",
        "  inputs = tf.keras.Input(shape=(X_train_re.shape[1], X_train_re.shape[2]))\n",
        "  lstm_1 = LSTM(2048, dropout=0.2)(inputs)\n",
        "  lstm_2 = LSTM(1024, dropout=0.2)(lstm_1)\n",
        "  lstm_3 = LSTM(512, dropout=0.2)(lstm_2)\n",
        "  lstm_4 = LSTM(256, dropout=0.2)(lstm_3)\n",
        "\n",
        "  outputs_1 = Dense(32, activation='relu')(lstm_4)\n",
        "  outputs = Dense(3, activation='softmax')(outputs_1)\n",
        "\n",
        "  model = Model(inputs=inputs, outputs=outputs)\n",
        "\n",
        "  print(model.summary())\n",
        "  return model"
      ],
      "metadata": {
        "id": "VpNIa6YzeafA"
      },
      "execution_count": null,
      "outputs": []
    },
    {
      "cell_type": "code",
      "source": [
        "lstmmo = lstm()\n",
        "lstmmo.compile(loss=tf.keras.losses.CategoricalCrossentropy(),\n",
        "                  optimizer=tf.keras.optimizers.Adam(learning_rate=0.01),\n",
        "                  metrics=[tf.keras.metrics.CategoricalAccuracy(name='accuracy', dtype=None),\n",
        "                  tf.keras.metrics.Recall(name='Recall'),\n",
        "                  tf.keras.metrics.Precision(name='Precision'),\n",
        "                  tf.keras.metrics.AUC( num_thresholds=200,\n",
        "                                        curve=\"ROC\",\n",
        "                                        summation_method=\"interpolation\",\n",
        "                                        name=\"AUC\",\n",
        "                                        dtype=None,\n",
        "                                        thresholds=None,\n",
        "                                        multi_label=True,\n",
        "                                       label_weights=None,)])"
      ],
      "metadata": {
        "id": "MsiyCZuEee4_",
        "colab": {
          "base_uri": "https://localhost:8080/",
          "height": 714
        },
        "outputId": "a3e9595a-2b58-4157-c42b-46245148b174"
      },
      "execution_count": null,
      "outputs": [
        {
          "output_type": "error",
          "ename": "ValueError",
          "evalue": "Input 0 of layer \"lstm_8\" is incompatible with the layer: expected ndim=3, found ndim=2. Full shape received: (None, 2048)",
          "traceback": [
            "\u001b[1;31m---------------------------------------------------------------------------\u001b[0m",
            "\u001b[1;31mValueError\u001b[0m                                Traceback (most recent call last)",
            "Cell \u001b[1;32mIn[76], line 1\u001b[0m\n\u001b[1;32m----> 1\u001b[0m lstmmo \u001b[38;5;241m=\u001b[39m \u001b[43mlstm\u001b[49m\u001b[43m(\u001b[49m\u001b[43m)\u001b[49m\n\u001b[0;32m      2\u001b[0m lstmmo\u001b[38;5;241m.\u001b[39mcompile(loss\u001b[38;5;241m=\u001b[39mtf\u001b[38;5;241m.\u001b[39mkeras\u001b[38;5;241m.\u001b[39mlosses\u001b[38;5;241m.\u001b[39mCategoricalCrossentropy(),\n\u001b[0;32m      3\u001b[0m                   optimizer\u001b[38;5;241m=\u001b[39mtf\u001b[38;5;241m.\u001b[39mkeras\u001b[38;5;241m.\u001b[39moptimizers\u001b[38;5;241m.\u001b[39mAdam(learning_rate\u001b[38;5;241m=\u001b[39m\u001b[38;5;241m0.01\u001b[39m),\n\u001b[0;32m      4\u001b[0m                   metrics\u001b[38;5;241m=\u001b[39m[tf\u001b[38;5;241m.\u001b[39mkeras\u001b[38;5;241m.\u001b[39mmetrics\u001b[38;5;241m.\u001b[39mCategoricalAccuracy(name\u001b[38;5;241m=\u001b[39m\u001b[38;5;124m'\u001b[39m\u001b[38;5;124maccuracy\u001b[39m\u001b[38;5;124m'\u001b[39m, dtype\u001b[38;5;241m=\u001b[39m\u001b[38;5;28;01mNone\u001b[39;00m),\n\u001b[1;32m   (...)\u001b[0m\n\u001b[0;32m     13\u001b[0m                                         multi_label\u001b[38;5;241m=\u001b[39m\u001b[38;5;28;01mTrue\u001b[39;00m,\n\u001b[0;32m     14\u001b[0m                                        label_weights\u001b[38;5;241m=\u001b[39m\u001b[38;5;28;01mNone\u001b[39;00m,)])\n",
            "Cell \u001b[1;32mIn[75], line 4\u001b[0m, in \u001b[0;36mlstm\u001b[1;34m()\u001b[0m\n\u001b[0;32m      2\u001b[0m inputs \u001b[38;5;241m=\u001b[39m tf\u001b[38;5;241m.\u001b[39mkeras\u001b[38;5;241m.\u001b[39mInput(shape\u001b[38;5;241m=\u001b[39m(X_train_re\u001b[38;5;241m.\u001b[39mshape[\u001b[38;5;241m1\u001b[39m], X_train_re\u001b[38;5;241m.\u001b[39mshape[\u001b[38;5;241m2\u001b[39m]))  \n\u001b[0;32m      3\u001b[0m lstm_1 \u001b[38;5;241m=\u001b[39m LSTM(\u001b[38;5;241m2048\u001b[39m, dropout\u001b[38;5;241m=\u001b[39m\u001b[38;5;241m0.2\u001b[39m)(inputs)\n\u001b[1;32m----> 4\u001b[0m lstm_2 \u001b[38;5;241m=\u001b[39m \u001b[43mLSTM\u001b[49m\u001b[43m(\u001b[49m\u001b[38;5;241;43m1024\u001b[39;49m\u001b[43m,\u001b[49m\u001b[43m \u001b[49m\u001b[43mdropout\u001b[49m\u001b[38;5;241;43m=\u001b[39;49m\u001b[38;5;241;43m0.2\u001b[39;49m\u001b[43m)\u001b[49m\u001b[43m(\u001b[49m\u001b[43mlstm_1\u001b[49m\u001b[43m)\u001b[49m\n\u001b[0;32m      5\u001b[0m lstm_3 \u001b[38;5;241m=\u001b[39m LSTM(\u001b[38;5;241m512\u001b[39m, dropout\u001b[38;5;241m=\u001b[39m\u001b[38;5;241m0.2\u001b[39m)(lstm_2)\n\u001b[0;32m      6\u001b[0m lstm_4 \u001b[38;5;241m=\u001b[39m LSTM(\u001b[38;5;241m256\u001b[39m, dropout\u001b[38;5;241m=\u001b[39m\u001b[38;5;241m0.2\u001b[39m)(lstm_3)\n",
            "File \u001b[1;32m~\\AppData\\Local\\Programs\\Python\\Python312\\Lib\\site-packages\\keras\\src\\utils\\traceback_utils.py:123\u001b[0m, in \u001b[0;36mfilter_traceback.<locals>.error_handler\u001b[1;34m(*args, **kwargs)\u001b[0m\n\u001b[0;32m    120\u001b[0m     filtered_tb \u001b[38;5;241m=\u001b[39m _process_traceback_frames(e\u001b[38;5;241m.\u001b[39m__traceback__)\n\u001b[0;32m    121\u001b[0m     \u001b[38;5;66;03m# To get the full stack trace, call:\u001b[39;00m\n\u001b[0;32m    122\u001b[0m     \u001b[38;5;66;03m# `keras.config.disable_traceback_filtering()`\u001b[39;00m\n\u001b[1;32m--> 123\u001b[0m     \u001b[38;5;28;01mraise\u001b[39;00m e\u001b[38;5;241m.\u001b[39mwith_traceback(filtered_tb) \u001b[38;5;28;01mfrom\u001b[39;00m \u001b[38;5;28;01mNone\u001b[39;00m\n\u001b[0;32m    124\u001b[0m \u001b[38;5;28;01mfinally\u001b[39;00m:\n\u001b[0;32m    125\u001b[0m     \u001b[38;5;28;01mdel\u001b[39;00m filtered_tb\n",
            "File \u001b[1;32m~\\AppData\\Local\\Programs\\Python\\Python312\\Lib\\site-packages\\keras\\src\\layers\\input_spec.py:186\u001b[0m, in \u001b[0;36massert_input_compatibility\u001b[1;34m(input_spec, inputs, layer_name)\u001b[0m\n\u001b[0;32m    184\u001b[0m \u001b[38;5;28;01mif\u001b[39;00m spec\u001b[38;5;241m.\u001b[39mndim \u001b[38;5;129;01mis\u001b[39;00m \u001b[38;5;129;01mnot\u001b[39;00m \u001b[38;5;28;01mNone\u001b[39;00m \u001b[38;5;129;01mand\u001b[39;00m \u001b[38;5;129;01mnot\u001b[39;00m spec\u001b[38;5;241m.\u001b[39mallow_last_axis_squeeze:\n\u001b[0;32m    185\u001b[0m     \u001b[38;5;28;01mif\u001b[39;00m ndim \u001b[38;5;241m!=\u001b[39m spec\u001b[38;5;241m.\u001b[39mndim:\n\u001b[1;32m--> 186\u001b[0m         \u001b[38;5;28;01mraise\u001b[39;00m \u001b[38;5;167;01mValueError\u001b[39;00m(\n\u001b[0;32m    187\u001b[0m             \u001b[38;5;124mf\u001b[39m\u001b[38;5;124m'\u001b[39m\u001b[38;5;124mInput \u001b[39m\u001b[38;5;132;01m{\u001b[39;00minput_index\u001b[38;5;132;01m}\u001b[39;00m\u001b[38;5;124m of layer \u001b[39m\u001b[38;5;124m\"\u001b[39m\u001b[38;5;132;01m{\u001b[39;00mlayer_name\u001b[38;5;132;01m}\u001b[39;00m\u001b[38;5;124m\"\u001b[39m\u001b[38;5;124m \u001b[39m\u001b[38;5;124m'\u001b[39m\n\u001b[0;32m    188\u001b[0m             \u001b[38;5;124m\"\u001b[39m\u001b[38;5;124mis incompatible with the layer: \u001b[39m\u001b[38;5;124m\"\u001b[39m\n\u001b[0;32m    189\u001b[0m             \u001b[38;5;124mf\u001b[39m\u001b[38;5;124m\"\u001b[39m\u001b[38;5;124mexpected ndim=\u001b[39m\u001b[38;5;132;01m{\u001b[39;00mspec\u001b[38;5;241m.\u001b[39mndim\u001b[38;5;132;01m}\u001b[39;00m\u001b[38;5;124m, found ndim=\u001b[39m\u001b[38;5;132;01m{\u001b[39;00mndim\u001b[38;5;132;01m}\u001b[39;00m\u001b[38;5;124m. \u001b[39m\u001b[38;5;124m\"\u001b[39m\n\u001b[0;32m    190\u001b[0m             \u001b[38;5;124mf\u001b[39m\u001b[38;5;124m\"\u001b[39m\u001b[38;5;124mFull shape received: \u001b[39m\u001b[38;5;132;01m{\u001b[39;00mshape\u001b[38;5;132;01m}\u001b[39;00m\u001b[38;5;124m\"\u001b[39m\n\u001b[0;32m    191\u001b[0m         )\n\u001b[0;32m    192\u001b[0m \u001b[38;5;28;01mif\u001b[39;00m spec\u001b[38;5;241m.\u001b[39mmax_ndim \u001b[38;5;129;01mis\u001b[39;00m \u001b[38;5;129;01mnot\u001b[39;00m \u001b[38;5;28;01mNone\u001b[39;00m:\n\u001b[0;32m    193\u001b[0m     \u001b[38;5;28;01mif\u001b[39;00m ndim \u001b[38;5;129;01mis\u001b[39;00m \u001b[38;5;129;01mnot\u001b[39;00m \u001b[38;5;28;01mNone\u001b[39;00m \u001b[38;5;129;01mand\u001b[39;00m ndim \u001b[38;5;241m>\u001b[39m spec\u001b[38;5;241m.\u001b[39mmax_ndim:\n",
            "\u001b[1;31mValueError\u001b[0m: Input 0 of layer \"lstm_8\" is incompatible with the layer: expected ndim=3, found ndim=2. Full shape received: (None, 2048)"
          ]
        }
      ]
    },
    {
      "cell_type": "code",
      "source": [
        "import keras\n",
        "from keras.utils import plot_model\n",
        "plot_model(lstmmo)"
      ],
      "metadata": {
        "id": "dLA_LvgOf-bi"
      },
      "execution_count": null,
      "outputs": []
    },
    {
      "cell_type": "code",
      "source": [
        "history = lstmmo.fit(X_train_re, y_train, epochs=30, batch_size=32, validation_data=(X_val_re, y_val))"
      ],
      "metadata": {
        "id": "EmMH-Q7seiIQ"
      },
      "execution_count": null,
      "outputs": []
    },
    {
      "cell_type": "markdown",
      "source": [
        "**Model saving**"
      ],
      "metadata": {
        "id": "Z-qTWWc7rjpz"
      }
    },
    {
      "cell_type": "code",
      "source": [
        "lstmmo.save('lstmmo_Priya.keras')"
      ],
      "metadata": {
        "id": "ApeA0LwyrbRJ"
      },
      "execution_count": null,
      "outputs": []
    },
    {
      "cell_type": "code",
      "source": [
        "pred=lstmmo.predict(X_test1_re)"
      ],
      "metadata": {
        "id": "FXNbYC6nem2J"
      },
      "execution_count": null,
      "outputs": []
    },
    {
      "cell_type": "code",
      "source": [
        "plt.plot(history.history['accuracy'])\n",
        "plt.plot(history.history['val_accuracy'])\n",
        "plt.legend(['Training accuracy','Validation accuracy'])\n",
        "plt.xlabel(\"Epochs\")\n",
        "plt.ylabel(\"Accuracy\")"
      ],
      "metadata": {
        "id": "x6a8I2aweoft"
      },
      "execution_count": null,
      "outputs": []
    },
    {
      "cell_type": "code",
      "source": [
        "plt.plot(history.history['loss'])\n",
        "plt.plot(history.history['val_loss'])\n",
        "plt.legend(['Training loss','Validation loss'])\n",
        "plt.xlabel(\"Epochs\")\n",
        "plt.ylabel(\"Loss\")"
      ],
      "metadata": {
        "id": "zEpwqYZceqkb"
      },
      "execution_count": null,
      "outputs": []
    },
    {
      "cell_type": "code",
      "source": [
        "from sklearn.metrics import accuracy_score\n",
        "print('Accuracy: %3f' % accuracy_score(y_test1.argmax(axis=1), pred.argmax(axis=1)))"
      ],
      "metadata": {
        "id": "zEgmo7qHet6W"
      },
      "execution_count": null,
      "outputs": []
    },
    {
      "cell_type": "markdown",
      "source": [
        "**GRU**"
      ],
      "metadata": {
        "id": "MG5mYMG1I4yt"
      }
    },
    {
      "cell_type": "code",
      "source": [
        "def gru():\n",
        "    inputs = tf.keras.Input(shape=(1,100))\n",
        "    gru = GRU(512,dropout=0.2)(inputs)\n",
        "\n",
        "    #flatten = Flatten()(gru)\n",
        "    outputs = Dense(3, activation='softmax')(gru)\n",
        "\n",
        "    model = Model(inputs=inputs, outputs=outputs)\n",
        "\n",
        "    print(model.summary())\n",
        "    return model"
      ],
      "metadata": {
        "id": "N80bQOq6I6Vr"
      },
      "execution_count": null,
      "outputs": []
    },
    {
      "cell_type": "code",
      "source": [
        "grumodel = gru()\n",
        "grumodel.compile(loss=tf.keras.losses.CategoricalCrossentropy(),\n",
        "                  optimizer=tf.keras.optimizers.Adam(learning_rate=0.001),\n",
        "                  metrics=[tf.keras.metrics.CategoricalAccuracy(name='accuracy', dtype=None),\n",
        "                  tf.keras.metrics.Recall(name='Recall'),\n",
        "                  tf.keras.metrics.Precision(name='Precision'),\n",
        "                  tf.keras.metrics.AUC( num_thresholds=200,\n",
        "                                        curve=\"ROC\",\n",
        "                                        summation_method=\"interpolation\",\n",
        "                                        name=\"AUC\",\n",
        "                                        dtype=None,\n",
        "                                        thresholds=None,\n",
        "                                        multi_label=True,\n",
        "                                       label_weights=None,)])"
      ],
      "metadata": {
        "id": "xqkuPFS0JERu",
        "colab": {
          "base_uri": "https://localhost:8080/",
          "height": 260
        },
        "outputId": "ee1153b1-b6ec-42b6-8a68-c523a137fc8f"
      },
      "execution_count": null,
      "outputs": [
        {
          "output_type": "display_data",
          "data": {
            "text/plain": [
              "\u001b[1mModel: \"functional_15\"\u001b[0m\n"
            ],
            "text/html": [
              "<pre style=\"white-space:pre;overflow-x:auto;line-height:normal;font-family:Menlo,'DejaVu Sans Mono',consolas,'Courier New',monospace\"><span style=\"font-weight: bold\">Model: \"functional_15\"</span>\n",
              "</pre>\n"
            ]
          },
          "metadata": {}
        },
        {
          "output_type": "display_data",
          "data": {
            "text/plain": [
              "┏━━━━━━━━━━━━━━━━━━━━━━━━━━━━━━━━━━━━━━┳━━━━━━━━━━━━━━━━━━━━━━━━━━━━━┳━━━━━━━━━━━━━━━━━┓\n",
              "┃\u001b[1m \u001b[0m\u001b[1mLayer (type)                        \u001b[0m\u001b[1m \u001b[0m┃\u001b[1m \u001b[0m\u001b[1mOutput Shape               \u001b[0m\u001b[1m \u001b[0m┃\u001b[1m \u001b[0m\u001b[1m        Param #\u001b[0m\u001b[1m \u001b[0m┃\n",
              "┡━━━━━━━━━━━━━━━━━━━━━━━━━━━━━━━━━━━━━━╇━━━━━━━━━━━━━━━━━━━━━━━━━━━━━╇━━━━━━━━━━━━━━━━━┩\n",
              "│ input_layer_13 (\u001b[38;5;33mInputLayer\u001b[0m)          │ (\u001b[38;5;45mNone\u001b[0m, \u001b[38;5;34m1\u001b[0m, \u001b[38;5;34m100\u001b[0m)              │               \u001b[38;5;34m0\u001b[0m │\n",
              "├──────────────────────────────────────┼─────────────────────────────┼─────────────────┤\n",
              "│ gru_6 (\u001b[38;5;33mGRU\u001b[0m)                          │ (\u001b[38;5;45mNone\u001b[0m, \u001b[38;5;34m512\u001b[0m)                 │         \u001b[38;5;34m943,104\u001b[0m │\n",
              "├──────────────────────────────────────┼─────────────────────────────┼─────────────────┤\n",
              "│ dense_9 (\u001b[38;5;33mDense\u001b[0m)                      │ (\u001b[38;5;45mNone\u001b[0m, \u001b[38;5;34m3\u001b[0m)                   │           \u001b[38;5;34m1,539\u001b[0m │\n",
              "└──────────────────────────────────────┴─────────────────────────────┴─────────────────┘\n"
            ],
            "text/html": [
              "<pre style=\"white-space:pre;overflow-x:auto;line-height:normal;font-family:Menlo,'DejaVu Sans Mono',consolas,'Courier New',monospace\">┏━━━━━━━━━━━━━━━━━━━━━━━━━━━━━━━━━━━━━━┳━━━━━━━━━━━━━━━━━━━━━━━━━━━━━┳━━━━━━━━━━━━━━━━━┓\n",
              "┃<span style=\"font-weight: bold\"> Layer (type)                         </span>┃<span style=\"font-weight: bold\"> Output Shape                </span>┃<span style=\"font-weight: bold\">         Param # </span>┃\n",
              "┡━━━━━━━━━━━━━━━━━━━━━━━━━━━━━━━━━━━━━━╇━━━━━━━━━━━━━━━━━━━━━━━━━━━━━╇━━━━━━━━━━━━━━━━━┩\n",
              "│ input_layer_13 (<span style=\"color: #0087ff; text-decoration-color: #0087ff\">InputLayer</span>)          │ (<span style=\"color: #00d7ff; text-decoration-color: #00d7ff\">None</span>, <span style=\"color: #00af00; text-decoration-color: #00af00\">1</span>, <span style=\"color: #00af00; text-decoration-color: #00af00\">100</span>)              │               <span style=\"color: #00af00; text-decoration-color: #00af00\">0</span> │\n",
              "├──────────────────────────────────────┼─────────────────────────────┼─────────────────┤\n",
              "│ gru_6 (<span style=\"color: #0087ff; text-decoration-color: #0087ff\">GRU</span>)                          │ (<span style=\"color: #00d7ff; text-decoration-color: #00d7ff\">None</span>, <span style=\"color: #00af00; text-decoration-color: #00af00\">512</span>)                 │         <span style=\"color: #00af00; text-decoration-color: #00af00\">943,104</span> │\n",
              "├──────────────────────────────────────┼─────────────────────────────┼─────────────────┤\n",
              "│ dense_9 (<span style=\"color: #0087ff; text-decoration-color: #0087ff\">Dense</span>)                      │ (<span style=\"color: #00d7ff; text-decoration-color: #00d7ff\">None</span>, <span style=\"color: #00af00; text-decoration-color: #00af00\">3</span>)                   │           <span style=\"color: #00af00; text-decoration-color: #00af00\">1,539</span> │\n",
              "└──────────────────────────────────────┴─────────────────────────────┴─────────────────┘\n",
              "</pre>\n"
            ]
          },
          "metadata": {}
        },
        {
          "output_type": "display_data",
          "data": {
            "text/plain": [
              "\u001b[1m Total params: \u001b[0m\u001b[38;5;34m944,643\u001b[0m (3.60 MB)\n"
            ],
            "text/html": [
              "<pre style=\"white-space:pre;overflow-x:auto;line-height:normal;font-family:Menlo,'DejaVu Sans Mono',consolas,'Courier New',monospace\"><span style=\"font-weight: bold\"> Total params: </span><span style=\"color: #00af00; text-decoration-color: #00af00\">944,643</span> (3.60 MB)\n",
              "</pre>\n"
            ]
          },
          "metadata": {}
        },
        {
          "output_type": "display_data",
          "data": {
            "text/plain": [
              "\u001b[1m Trainable params: \u001b[0m\u001b[38;5;34m944,643\u001b[0m (3.60 MB)\n"
            ],
            "text/html": [
              "<pre style=\"white-space:pre;overflow-x:auto;line-height:normal;font-family:Menlo,'DejaVu Sans Mono',consolas,'Courier New',monospace\"><span style=\"font-weight: bold\"> Trainable params: </span><span style=\"color: #00af00; text-decoration-color: #00af00\">944,643</span> (3.60 MB)\n",
              "</pre>\n"
            ]
          },
          "metadata": {}
        },
        {
          "output_type": "display_data",
          "data": {
            "text/plain": [
              "\u001b[1m Non-trainable params: \u001b[0m\u001b[38;5;34m0\u001b[0m (0.00 B)\n"
            ],
            "text/html": [
              "<pre style=\"white-space:pre;overflow-x:auto;line-height:normal;font-family:Menlo,'DejaVu Sans Mono',consolas,'Courier New',monospace\"><span style=\"font-weight: bold\"> Non-trainable params: </span><span style=\"color: #00af00; text-decoration-color: #00af00\">0</span> (0.00 B)\n",
              "</pre>\n"
            ]
          },
          "metadata": {}
        },
        {
          "output_type": "stream",
          "name": "stdout",
          "text": [
            "None\n"
          ]
        }
      ]
    },
    {
      "cell_type": "code",
      "source": [
        "import keras\n",
        "from keras.utils import plot_model\n",
        "plot_model(grumodel)"
      ],
      "metadata": {
        "id": "L6PBhhxVJIBe",
        "colab": {
          "base_uri": "https://localhost:8080/",
          "height": 614
        },
        "outputId": "74c0bef4-3e16-42d2-e434-21a9f2da0950"
      },
      "execution_count": null,
      "outputs": [
        {
          "output_type": "execute_result",
          "data": {
            "image/png": "[encoded data removed]",
            "text/plain": [
              "<IPython.core.display.Image object>"
            ]
          },
          "metadata": {},
          "execution_count": 88
        }
      ]
    },
    {
      "cell_type": "code",
      "source": [
        "history = grumodel.fit(X_train_re, y_train, epochs=30, batch_size=32, validation_data=(X_val_re, y_val))"
      ],
      "metadata": {
        "id": "dAGeU5xaJSuT",
        "colab": {
          "base_uri": "https://localhost:8080/"
        },
        "outputId": "cf2e1d17-1c0f-4fb4-bcd4-201c2997c7e9"
      },
      "execution_count": null,
      "outputs": [
        {
          "output_type": "stream",
          "name": "stdout",
          "text": [
            "Epoch 1/30\n",
            "\u001b[1m574/574\u001b[0m \u001b[32m━━━━━━━━━━━━━━━━━━━━\u001b[0m\u001b[37m\u001b[0m \u001b[1m12s\u001b[0m 15ms/step - AUC: 0.8982 - Precision: 0.7905 - Recall: 0.6924 - accuracy: 0.7595 - loss: 0.5835 - val_AUC: 0.9018 - val_Precision: 0.7562 - val_Recall: 0.7262 - val_accuracy: 0.7473 - val_loss: 0.5531\n",
            "Epoch 2/30\n",
            "\u001b[1m574/574\u001b[0m \u001b[32m━━━━━━━━━━━━━━━━━━━━\u001b[0m\u001b[37m\u001b[0m \u001b[1m7s\u001b[0m 12ms/step - AUC: 0.9194 - Precision: 0.7962 - Recall: 0.7666 - accuracy: 0.7848 - loss: 0.5000 - val_AUC: 0.9021 - val_Precision: 0.7584 - val_Recall: 0.7492 - val_accuracy: 0.7548 - val_loss: 0.5493\n",
            "Epoch 3/30\n",
            "\u001b[1m574/574\u001b[0m \u001b[32m━━━━━━━━━━━━━━━━━━━━\u001b[0m\u001b[37m\u001b[0m \u001b[1m7s\u001b[0m 12ms/step - AUC: 0.9231 - Precision: 0.8037 - Recall: 0.7854 - accuracy: 0.7973 - loss: 0.4888 - val_AUC: 0.9117 - val_Precision: 0.7756 - val_Recall: 0.7620 - val_accuracy: 0.7713 - val_loss: 0.5256\n",
            "Epoch 4/30\n",
            "\u001b[1m574/574\u001b[0m \u001b[32m━━━━━━━━━━━━━━━━━━━━\u001b[0m\u001b[37m\u001b[0m \u001b[1m7s\u001b[0m 11ms/step - AUC: 0.9229 - Precision: 0.8025 - Recall: 0.7839 - accuracy: 0.7950 - loss: 0.4901 - val_AUC: 0.9142 - val_Precision: 0.7789 - val_Recall: 0.7651 - val_accuracy: 0.7729 - val_loss: 0.5187\n",
            "Epoch 5/30\n",
            "\u001b[1m574/574\u001b[0m \u001b[32m━━━━━━━━━━━━━━━━━━━━\u001b[0m\u001b[37m\u001b[0m \u001b[1m7s\u001b[0m 11ms/step - AUC: 0.9291 - Precision: 0.8096 - Recall: 0.7954 - accuracy: 0.8040 - loss: 0.4651 - val_AUC: 0.9137 - val_Precision: 0.7829 - val_Recall: 0.7737 - val_accuracy: 0.7794 - val_loss: 0.5193\n",
            "Epoch 6/30\n",
            "\u001b[1m574/574\u001b[0m \u001b[32m━━━━━━━━━━━━━━━━━━━━\u001b[0m\u001b[37m\u001b[0m \u001b[1m7s\u001b[0m 11ms/step - AUC: 0.9338 - Precision: 0.8172 - Recall: 0.8044 - accuracy: 0.8126 - loss: 0.4500 - val_AUC: 0.9155 - val_Precision: 0.7908 - val_Recall: 0.7759 - val_accuracy: 0.7861 - val_loss: 0.5106\n",
            "Epoch 7/30\n",
            "\u001b[1m574/574\u001b[0m \u001b[32m━━━━━━━━━━━━━━━━━━━━\u001b[0m\u001b[37m\u001b[0m \u001b[1m7s\u001b[0m 12ms/step - AUC: 0.9302 - Precision: 0.8118 - Recall: 0.7990 - accuracy: 0.8072 - loss: 0.4643 - val_AUC: 0.9171 - val_Precision: 0.7914 - val_Recall: 0.7831 - val_accuracy: 0.7882 - val_loss: 0.5055\n",
            "Epoch 8/30\n",
            "\u001b[1m574/574\u001b[0m \u001b[32m━━━━━━━━━━━━━━━━━━━━\u001b[0m\u001b[37m\u001b[0m \u001b[1m7s\u001b[0m 12ms/step - AUC: 0.9336 - Precision: 0.8141 - Recall: 0.8035 - accuracy: 0.8092 - loss: 0.4512 - val_AUC: 0.9181 - val_Precision: 0.7924 - val_Recall: 0.7833 - val_accuracy: 0.7885 - val_loss: 0.5115\n",
            "Epoch 9/30\n",
            "\u001b[1m574/574\u001b[0m \u001b[32m━━━━━━━━━━━━━━━━━━━━\u001b[0m\u001b[37m\u001b[0m \u001b[1m7s\u001b[0m 11ms/step - AUC: 0.9342 - Precision: 0.8167 - Recall: 0.8072 - accuracy: 0.8129 - loss: 0.4506 - val_AUC: 0.9149 - val_Precision: 0.7829 - val_Recall: 0.7745 - val_accuracy: 0.7796 - val_loss: 0.5105\n",
            "Epoch 10/30\n",
            "\u001b[1m574/574\u001b[0m \u001b[32m━━━━━━━━━━━━━━━━━━━━\u001b[0m\u001b[37m\u001b[0m \u001b[1m7s\u001b[0m 11ms/step - AUC: 0.9375 - Precision: 0.8247 - Recall: 0.8135 - accuracy: 0.8198 - loss: 0.4391 - val_AUC: 0.9166 - val_Precision: 0.7877 - val_Recall: 0.7753 - val_accuracy: 0.7820 - val_loss: 0.5089\n",
            "Epoch 11/30\n",
            "\u001b[1m574/574\u001b[0m \u001b[32m━━━━━━━━━━━━━━━━━━━━\u001b[0m\u001b[37m\u001b[0m \u001b[1m7s\u001b[0m 11ms/step - AUC: 0.9373 - Precision: 0.8219 - Recall: 0.8124 - accuracy: 0.8175 - loss: 0.4384 - val_AUC: 0.9187 - val_Precision: 0.7942 - val_Recall: 0.7873 - val_accuracy: 0.7914 - val_loss: 0.4992\n",
            "Epoch 12/30\n",
            "\u001b[1m574/574\u001b[0m \u001b[32m━━━━━━━━━━━━━━━━━━━━\u001b[0m\u001b[37m\u001b[0m \u001b[1m7s\u001b[0m 11ms/step - AUC: 0.9367 - Precision: 0.8249 - Recall: 0.8151 - accuracy: 0.8198 - loss: 0.4407 - val_AUC: 0.9201 - val_Precision: 0.7942 - val_Recall: 0.7850 - val_accuracy: 0.7908 - val_loss: 0.4966\n",
            "Epoch 13/30\n",
            "\u001b[1m574/574\u001b[0m \u001b[32m━━━━━━━━━━━━━━━━━━━━\u001b[0m\u001b[37m\u001b[0m \u001b[1m7s\u001b[0m 11ms/step - AUC: 0.9395 - Precision: 0.8271 - Recall: 0.8193 - accuracy: 0.8238 - loss: 0.4296 - val_AUC: 0.9190 - val_Precision: 0.7953 - val_Recall: 0.7881 - val_accuracy: 0.7925 - val_loss: 0.5040\n",
            "Epoch 14/30\n",
            "\u001b[1m574/574\u001b[0m \u001b[32m━━━━━━━━━━━━━━━━━━━━\u001b[0m\u001b[37m\u001b[0m \u001b[1m7s\u001b[0m 11ms/step - AUC: 0.9406 - Precision: 0.8261 - Recall: 0.8165 - accuracy: 0.8219 - loss: 0.4269 - val_AUC: 0.9195 - val_Precision: 0.7949 - val_Recall: 0.7904 - val_accuracy: 0.7920 - val_loss: 0.4987\n",
            "Epoch 15/30\n",
            "\u001b[1m574/574\u001b[0m \u001b[32m━━━━━━━━━━━━━━━━━━━━\u001b[0m\u001b[37m\u001b[0m \u001b[1m7s\u001b[0m 12ms/step - AUC: 0.9408 - Precision: 0.8264 - Recall: 0.8180 - accuracy: 0.8229 - loss: 0.4241 - val_AUC: 0.9166 - val_Precision: 0.7929 - val_Recall: 0.7823 - val_accuracy: 0.7876 - val_loss: 0.5089\n",
            "Epoch 16/30\n",
            "\u001b[1m574/574\u001b[0m \u001b[32m━━━━━━━━━━━━━━━━━━━━\u001b[0m\u001b[37m\u001b[0m \u001b[1m7s\u001b[0m 12ms/step - AUC: 0.9410 - Precision: 0.8303 - Recall: 0.8219 - accuracy: 0.8268 - loss: 0.4244 - val_AUC: 0.9184 - val_Precision: 0.7954 - val_Recall: 0.7863 - val_accuracy: 0.7917 - val_loss: 0.4994\n",
            "Epoch 17/30\n",
            "\u001b[1m574/574\u001b[0m \u001b[32m━━━━━━━━━━━━━━━━━━━━\u001b[0m\u001b[37m\u001b[0m \u001b[1m7s\u001b[0m 11ms/step - AUC: 0.9425 - Precision: 0.8284 - Recall: 0.8196 - accuracy: 0.8246 - loss: 0.4193 - val_AUC: 0.9175 - val_Precision: 0.7899 - val_Recall: 0.7861 - val_accuracy: 0.7881 - val_loss: 0.5045\n",
            "Epoch 18/30\n",
            "\u001b[1m574/574\u001b[0m \u001b[32m━━━━━━━━━━━━━━━━━━━━\u001b[0m\u001b[37m\u001b[0m \u001b[1m7s\u001b[0m 12ms/step - AUC: 0.9416 - Precision: 0.8259 - Recall: 0.8182 - accuracy: 0.8233 - loss: 0.4223 - val_AUC: 0.9192 - val_Precision: 0.7996 - val_Recall: 0.7967 - val_accuracy: 0.7986 - val_loss: 0.5003\n",
            "Epoch 19/30\n",
            "\u001b[1m574/574\u001b[0m \u001b[32m━━━━━━━━━━━━━━━━━━━━\u001b[0m\u001b[37m\u001b[0m \u001b[1m7s\u001b[0m 11ms/step - AUC: 0.9432 - Precision: 0.8332 - Recall: 0.8264 - accuracy: 0.8303 - loss: 0.4162 - val_AUC: 0.9191 - val_Precision: 0.7918 - val_Recall: 0.7866 - val_accuracy: 0.7900 - val_loss: 0.5007\n",
            "Epoch 20/30\n",
            "\u001b[1m574/574\u001b[0m \u001b[32m━━━━━━━━━━━━━━━━━━━━\u001b[0m\u001b[37m\u001b[0m \u001b[1m7s\u001b[0m 11ms/step - AUC: 0.9414 - Precision: 0.8277 - Recall: 0.8192 - accuracy: 0.8244 - loss: 0.4243 - val_AUC: 0.9205 - val_Precision: 0.8015 - val_Recall: 0.7964 - val_accuracy: 0.7983 - val_loss: 0.4967\n",
            "Epoch 21/30\n",
            "\u001b[1m574/574\u001b[0m \u001b[32m━━━━━━━━━━━━━━━━━━━━\u001b[0m\u001b[37m\u001b[0m \u001b[1m7s\u001b[0m 12ms/step - AUC: 0.9420 - Precision: 0.8339 - Recall: 0.8267 - accuracy: 0.8306 - loss: 0.4197 - val_AUC: 0.9187 - val_Precision: 0.7951 - val_Recall: 0.7909 - val_accuracy: 0.7938 - val_loss: 0.5066\n",
            "Epoch 22/30\n",
            "\u001b[1m574/574\u001b[0m \u001b[32m━━━━━━━━━━━━━━━━━━━━\u001b[0m\u001b[37m\u001b[0m \u001b[1m7s\u001b[0m 12ms/step - AUC: 0.9438 - Precision: 0.8354 - Recall: 0.8275 - accuracy: 0.8314 - loss: 0.4146 - val_AUC: 0.9208 - val_Precision: 0.7962 - val_Recall: 0.7935 - val_accuracy: 0.7951 - val_loss: 0.4951\n",
            "Epoch 23/30\n",
            "\u001b[1m574/574\u001b[0m \u001b[32m━━━━━━━━━━━━━━━━━━━━\u001b[0m\u001b[37m\u001b[0m \u001b[1m7s\u001b[0m 12ms/step - AUC: 0.9430 - Precision: 0.8284 - Recall: 0.8217 - accuracy: 0.8256 - loss: 0.4188 - val_AUC: 0.9193 - val_Precision: 0.7977 - val_Recall: 0.7922 - val_accuracy: 0.7946 - val_loss: 0.5070\n",
            "Epoch 24/30\n",
            "\u001b[1m574/574\u001b[0m \u001b[32m━━━━━━━━━━━━━━━━━━━━\u001b[0m\u001b[37m\u001b[0m \u001b[1m7s\u001b[0m 11ms/step - AUC: 0.9418 - Precision: 0.8310 - Recall: 0.8223 - accuracy: 0.8273 - loss: 0.4220 - val_AUC: 0.9218 - val_Precision: 0.8051 - val_Recall: 0.7984 - val_accuracy: 0.8013 - val_loss: 0.4943\n",
            "Epoch 25/30\n",
            "\u001b[1m574/574\u001b[0m \u001b[32m━━━━━━━━━━━━━━━━━━━━\u001b[0m\u001b[37m\u001b[0m \u001b[1m7s\u001b[0m 12ms/step - AUC: 0.9423 - Precision: 0.8288 - Recall: 0.8204 - accuracy: 0.8247 - loss: 0.4199 - val_AUC: 0.9206 - val_Precision: 0.8057 - val_Recall: 0.8019 - val_accuracy: 0.8040 - val_loss: 0.5024\n",
            "Epoch 26/30\n",
            "\u001b[1m574/574\u001b[0m \u001b[32m━━━━━━━━━━━━━━━━━━━━\u001b[0m\u001b[37m\u001b[0m \u001b[1m7s\u001b[0m 12ms/step - AUC: 0.9443 - Precision: 0.8310 - Recall: 0.8233 - accuracy: 0.8274 - loss: 0.4114 - val_AUC: 0.9204 - val_Precision: 0.8081 - val_Recall: 0.7807 - val_accuracy: 0.7994 - val_loss: 0.4989\n",
            "Epoch 27/30\n",
            "\u001b[1m210/574\u001b[0m \u001b[32m━━━━━━━\u001b[0m\u001b[37m━━━━━━━━━━━━━\u001b[0m \u001b[1m3s\u001b[0m 10ms/step - AUC: 0.9480 - Precision: 0.8407 - Recall: 0.8323 - accuracy: 0.8372 - loss: 0.3966"
          ]
        }
      ]
    },
    {
      "cell_type": "markdown",
      "source": [
        "**Model saving**"
      ],
      "metadata": {
        "id": "3PShkTbuJSuU"
      }
    },
    {
      "cell_type": "code",
      "source": [
        "grumodel.save('grumodel.keras')"
      ],
      "metadata": {
        "id": "m1O9b50nJSuU"
      },
      "execution_count": null,
      "outputs": []
    },
    {
      "cell_type": "code",
      "source": [
        "pred=grumodel.predict(X_test1_re)"
      ],
      "metadata": {
        "id": "54si6eJSJSuU"
      },
      "execution_count": null,
      "outputs": []
    },
    {
      "cell_type": "code",
      "source": [
        "plt.plot(history.history['accuracy'])\n",
        "plt.plot(history.history['val_accuracy'])\n",
        "plt.legend(['Training accuracy','Validation accuracy'])\n",
        "plt.xlabel(\"Epochs\")\n",
        "plt.ylabel(\"Accuracy\")"
      ],
      "metadata": {
        "id": "19xSjSoqJSuU"
      },
      "execution_count": null,
      "outputs": []
    },
    {
      "cell_type": "code",
      "source": [
        "plt.plot(history.history['loss'])\n",
        "plt.plot(history.history['val_loss'])\n",
        "plt.legend(['Training loss','Validation loss'])\n",
        "plt.xlabel(\"Epochs\")\n",
        "plt.ylabel(\"Loss\")"
      ],
      "metadata": {
        "id": "mD79Y9yYJSuV"
      },
      "execution_count": null,
      "outputs": []
    },
    {
      "cell_type": "code",
      "source": [
        "from sklearn.metrics import accuracy_score\n",
        "print('Accuracy: %3f' % accuracy_score(y_test1.argmax(axis=1), pred.argmax(axis=1)))"
      ],
      "metadata": {
        "id": "Dlw6IprYJSub"
      },
      "execution_count": null,
      "outputs": []
    },
    {
      "cell_type": "code",
      "source": [
        "from sklearn.metrics import confusion_matrix\n",
        "\n",
        "# Calculate the confusion matrix\n",
        "cm = confusion_matrix(y_test1.argmax(axis=1), pred.argmax(axis=1))\n",
        "\n",
        "# Plot the confusion matrix\n",
        "plt.figure(figsize=(8, 6))\n",
        "sns.heatmap(cm, annot=True, fmt=\"d\", cmap=\"Blues\", xticklabels=['Class 0', 'Class 1', 'Class 2'], yticklabels=['Class 0', 'Class 1', 'Class 2'])\n",
        "plt.xlabel('Predicted labels')\n",
        "plt.ylabel('True labels')\n",
        "plt.title('Confusion Matrix')\n",
        "plt.show()"
      ],
      "metadata": {
        "id": "1lqAbwAZvHKi"
      },
      "execution_count": null,
      "outputs": []
    },
    {
      "cell_type": "code",
      "source": [
        "print(classification_report(y_test1.argmax(axis=1), pred.argmax(axis=1)))"
      ],
      "metadata": {
        "id": "7bEc_gsqvHKk"
      },
      "execution_count": null,
      "outputs": []
    },
    {
      "cell_type": "markdown",
      "source": [
        "**BidirectionLSTM**"
      ],
      "metadata": {
        "id": "xD4zNbjoNeM1"
      }
    },
    {
      "cell_type": "code",
      "source": [
        "def lstm():\n",
        "    inputs = tf.keras.Input(shape=(X_train.shape[1], X_train.shape[2]))\n",
        "    lstm_1 = Bidirectional(LSTM(512),dropout=0.2)(inputs)\n",
        "\n",
        "    lstm_4 = Bidirectional(LSTM(32, activation='relu',dropout=0.2))(lstm_1)\n",
        "\n",
        "    outputs = Dense(3, activation='softmax')(lstm_4)\n",
        "\n",
        "    model = Model(inputs=inputs, outputs=outputs)\n",
        "\n",
        "    print(model.summary())\n",
        "    return model"
      ],
      "metadata": {
        "id": "HawCG5R-JvBS"
      },
      "execution_count": null,
      "outputs": []
    },
    {
      "cell_type": "code",
      "execution_count": null,
      "metadata": {
        "id": "ZuI19XhfKSnt"
      },
      "outputs": [],
      "source": [
        "lstmmodel = lstm()\n",
        "lstmmodel.compile(loss=tf.keras.losses.CategoricalCrossentropy(),\n",
        "                  optimizer=tf.keras.optimizers.Adam(learning_rate=0.01),\n",
        "                  metrics=[tf.keras.metrics.CategoricalAccuracy(name='accuracy', dtype=None),\n",
        "                  tf.keras.metrics.Recall(name='Recall'),\n",
        "                  tf.keras.metrics.Precision(name='Precision'),\n",
        "                  tf.keras.metrics.AUC( num_thresholds=200,\n",
        "                                        curve=\"ROC\",\n",
        "                                        summation_method=\"interpolation\",\n",
        "                                        name=\"AUC\",\n",
        "                                        dtype=None,\n",
        "                                        thresholds=None,\n",
        "                                        multi_label=True,\n",
        "                                       label_weights=None,)])"
      ]
    },
    {
      "cell_type": "code",
      "execution_count": null,
      "metadata": {
        "id": "JIxbFe_JKSoh"
      },
      "outputs": [],
      "source": [
        "import keras\n",
        "from keras.utils import plot_model\n",
        "plot_model(lstmmodel)"
      ]
    },
    {
      "cell_type": "code",
      "execution_count": null,
      "metadata": {
        "id": "7mn1--KqKSop"
      },
      "outputs": [],
      "source": [
        "history = lstmmodel.fit(X_train_re, y_train, epochs=20, batch_size=32, validation_data=(X_val_re, y_val))"
      ]
    },
    {
      "cell_type": "code",
      "execution_count": null,
      "metadata": {
        "id": "Cz685QZzKSoy"
      },
      "outputs": [],
      "source": [
        "lstmmodel.save('lstmmodel.keras')"
      ]
    },
    {
      "cell_type": "code",
      "execution_count": null,
      "metadata": {
        "id": "8-uCmiwfKSo1"
      },
      "outputs": [],
      "source": [
        "pred=lstmmodel.predict(X_test1_re)"
      ]
    },
    {
      "cell_type": "code",
      "execution_count": null,
      "metadata": {
        "id": "_Y3ZpN_7KSo4"
      },
      "outputs": [],
      "source": [
        "plt.plot(history.history['accuracy'])\n",
        "plt.plot(history.history['val_accuracy'])\n",
        "plt.legend(['Training accuracy','Validation accuracy'])\n",
        "plt.xlabel(\"Epochs\")\n",
        "plt.ylabel(\"Accuracy\")"
      ]
    },
    {
      "cell_type": "code",
      "execution_count": null,
      "metadata": {
        "id": "UA3wD7VeKSo9"
      },
      "outputs": [],
      "source": [
        "plt.plot(history.history['loss'])\n",
        "plt.plot(history.history['val_loss'])\n",
        "plt.legend(['Training loss','Validation loss'])\n",
        "plt.xlabel(\"Epochs\")\n",
        "plt.ylabel(\"Loss\")"
      ]
    },
    {
      "cell_type": "code",
      "execution_count": null,
      "metadata": {
        "id": "68sQ0wTQKSpB"
      },
      "outputs": [],
      "source": [
        "from sklearn.metrics import accuracy_score\n",
        "print('Accuracy: %3f' % accuracy_score(y_test1.argmax(axis=1), pred.argmax(axis=1)))"
      ]
    },
    {
      "cell_type": "code",
      "source": [
        "\n"
      ],
      "metadata": {
        "id": "cHsbeklYepgW"
      },
      "execution_count": null,
      "outputs": []
    }
  ],
  "metadata": {
    "colab": {
      "provenance": []
    },
    "kernelspec": {
      "display_name": "Python 3",
      "name": "python3"
    },
    "language_info": {
      "name": "python"
    }
  },
  "nbformat": 4,
  "nbformat_minor": 0
}